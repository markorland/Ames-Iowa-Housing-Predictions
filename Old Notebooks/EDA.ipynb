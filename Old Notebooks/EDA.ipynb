{
 "cells": [
  {
   "cell_type": "code",
   "execution_count": 1,
   "metadata": {
    "collapsed": true
   },
   "outputs": [],
   "source": [
    "import matplotlib.pyplot as plt\n",
    "import numpy as np\n",
    "import pandas as pd\n",
    "from scipy import stats\n",
    "import seaborn as sns\n",
    "\n",
    "from sklearn.linear_model import LinearRegression\n",
    "from sklearn.model_selection import train_test_split, KFold, cross_val_score, cross_val_predict\n",
    "from sklearn.preprocessing import StandardScaler\n",
    "from sklearn import metrics\n",
    "\n",
    "%matplotlib inline"
   ]
  },
  {
   "cell_type": "code",
   "execution_count": 38,
   "metadata": {},
   "outputs": [
    {
     "data": {
      "text/html": [
       "<div>\n",
       "<style>\n",
       "    .dataframe thead tr:only-child th {\n",
       "        text-align: right;\n",
       "    }\n",
       "\n",
       "    .dataframe thead th {\n",
       "        text-align: left;\n",
       "    }\n",
       "\n",
       "    .dataframe tbody tr th {\n",
       "        vertical-align: top;\n",
       "    }\n",
       "</style>\n",
       "<table border=\"1\" class=\"dataframe\">\n",
       "  <thead>\n",
       "    <tr style=\"text-align: right;\">\n",
       "      <th></th>\n",
       "      <th>Id</th>\n",
       "      <th>PID</th>\n",
       "      <th>MS SubClass</th>\n",
       "      <th>MS Zoning</th>\n",
       "      <th>Lot Frontage</th>\n",
       "      <th>Lot Area</th>\n",
       "      <th>Street</th>\n",
       "      <th>Alley</th>\n",
       "      <th>Lot Shape</th>\n",
       "      <th>Land Contour</th>\n",
       "      <th>...</th>\n",
       "      <th>3Ssn Porch</th>\n",
       "      <th>Screen Porch</th>\n",
       "      <th>Pool Area</th>\n",
       "      <th>Pool QC</th>\n",
       "      <th>Fence</th>\n",
       "      <th>Misc Feature</th>\n",
       "      <th>Misc Val</th>\n",
       "      <th>Mo Sold</th>\n",
       "      <th>Yr Sold</th>\n",
       "      <th>Sale Type</th>\n",
       "    </tr>\n",
       "  </thead>\n",
       "  <tbody>\n",
       "    <tr>\n",
       "      <th>0</th>\n",
       "      <td>2658</td>\n",
       "      <td>902301120</td>\n",
       "      <td>190</td>\n",
       "      <td>RM</td>\n",
       "      <td>69.0</td>\n",
       "      <td>9142</td>\n",
       "      <td>Pave</td>\n",
       "      <td>Grvl</td>\n",
       "      <td>Reg</td>\n",
       "      <td>Lvl</td>\n",
       "      <td>...</td>\n",
       "      <td>0</td>\n",
       "      <td>0</td>\n",
       "      <td>0</td>\n",
       "      <td>NaN</td>\n",
       "      <td>NaN</td>\n",
       "      <td>NaN</td>\n",
       "      <td>0</td>\n",
       "      <td>4</td>\n",
       "      <td>2006</td>\n",
       "      <td>WD</td>\n",
       "    </tr>\n",
       "    <tr>\n",
       "      <th>1</th>\n",
       "      <td>2718</td>\n",
       "      <td>905108090</td>\n",
       "      <td>90</td>\n",
       "      <td>RL</td>\n",
       "      <td>NaN</td>\n",
       "      <td>9662</td>\n",
       "      <td>Pave</td>\n",
       "      <td>NaN</td>\n",
       "      <td>IR1</td>\n",
       "      <td>Lvl</td>\n",
       "      <td>...</td>\n",
       "      <td>0</td>\n",
       "      <td>0</td>\n",
       "      <td>0</td>\n",
       "      <td>NaN</td>\n",
       "      <td>NaN</td>\n",
       "      <td>NaN</td>\n",
       "      <td>0</td>\n",
       "      <td>8</td>\n",
       "      <td>2006</td>\n",
       "      <td>WD</td>\n",
       "    </tr>\n",
       "    <tr>\n",
       "      <th>2</th>\n",
       "      <td>2414</td>\n",
       "      <td>528218130</td>\n",
       "      <td>60</td>\n",
       "      <td>RL</td>\n",
       "      <td>58.0</td>\n",
       "      <td>17104</td>\n",
       "      <td>Pave</td>\n",
       "      <td>NaN</td>\n",
       "      <td>IR1</td>\n",
       "      <td>Lvl</td>\n",
       "      <td>...</td>\n",
       "      <td>0</td>\n",
       "      <td>0</td>\n",
       "      <td>0</td>\n",
       "      <td>NaN</td>\n",
       "      <td>NaN</td>\n",
       "      <td>NaN</td>\n",
       "      <td>0</td>\n",
       "      <td>9</td>\n",
       "      <td>2006</td>\n",
       "      <td>New</td>\n",
       "    </tr>\n",
       "    <tr>\n",
       "      <th>3</th>\n",
       "      <td>1989</td>\n",
       "      <td>902207150</td>\n",
       "      <td>30</td>\n",
       "      <td>RM</td>\n",
       "      <td>60.0</td>\n",
       "      <td>8520</td>\n",
       "      <td>Pave</td>\n",
       "      <td>NaN</td>\n",
       "      <td>Reg</td>\n",
       "      <td>Lvl</td>\n",
       "      <td>...</td>\n",
       "      <td>0</td>\n",
       "      <td>0</td>\n",
       "      <td>0</td>\n",
       "      <td>NaN</td>\n",
       "      <td>NaN</td>\n",
       "      <td>NaN</td>\n",
       "      <td>0</td>\n",
       "      <td>7</td>\n",
       "      <td>2007</td>\n",
       "      <td>WD</td>\n",
       "    </tr>\n",
       "    <tr>\n",
       "      <th>4</th>\n",
       "      <td>625</td>\n",
       "      <td>535105100</td>\n",
       "      <td>20</td>\n",
       "      <td>RL</td>\n",
       "      <td>NaN</td>\n",
       "      <td>9500</td>\n",
       "      <td>Pave</td>\n",
       "      <td>NaN</td>\n",
       "      <td>IR1</td>\n",
       "      <td>Lvl</td>\n",
       "      <td>...</td>\n",
       "      <td>0</td>\n",
       "      <td>185</td>\n",
       "      <td>0</td>\n",
       "      <td>NaN</td>\n",
       "      <td>NaN</td>\n",
       "      <td>NaN</td>\n",
       "      <td>0</td>\n",
       "      <td>7</td>\n",
       "      <td>2009</td>\n",
       "      <td>WD</td>\n",
       "    </tr>\n",
       "  </tbody>\n",
       "</table>\n",
       "<p>5 rows × 80 columns</p>\n",
       "</div>"
      ],
      "text/plain": [
       "     Id        PID  MS SubClass MS Zoning  Lot Frontage  Lot Area Street  \\\n",
       "0  2658  902301120          190        RM          69.0      9142   Pave   \n",
       "1  2718  905108090           90        RL           NaN      9662   Pave   \n",
       "2  2414  528218130           60        RL          58.0     17104   Pave   \n",
       "3  1989  902207150           30        RM          60.0      8520   Pave   \n",
       "4   625  535105100           20        RL           NaN      9500   Pave   \n",
       "\n",
       "  Alley Lot Shape Land Contour    ...     3Ssn Porch Screen Porch Pool Area  \\\n",
       "0  Grvl       Reg          Lvl    ...              0            0         0   \n",
       "1   NaN       IR1          Lvl    ...              0            0         0   \n",
       "2   NaN       IR1          Lvl    ...              0            0         0   \n",
       "3   NaN       Reg          Lvl    ...              0            0         0   \n",
       "4   NaN       IR1          Lvl    ...              0          185         0   \n",
       "\n",
       "  Pool QC Fence Misc Feature Misc Val Mo Sold  Yr Sold  Sale Type  \n",
       "0     NaN   NaN          NaN        0       4     2006        WD   \n",
       "1     NaN   NaN          NaN        0       8     2006        WD   \n",
       "2     NaN   NaN          NaN        0       9     2006        New  \n",
       "3     NaN   NaN          NaN        0       7     2007        WD   \n",
       "4     NaN   NaN          NaN        0       7     2009        WD   \n",
       "\n",
       "[5 rows x 80 columns]"
      ]
     },
     "execution_count": 38,
     "metadata": {},
     "output_type": "execute_result"
    }
   ],
   "source": [
    "df = pd.read_csv('train.csv')\n",
    "df.head()\n",
    "final_test = pd.read_csv('test.csv')\n",
    "final_test.head()"
   ]
  },
  {
   "cell_type": "code",
   "execution_count": 55,
   "metadata": {
    "collapsed": true
   },
   "outputs": [],
   "source": [
    "df.rename(columns= {col: col.lower().replace(' ','_') for col in df.columns}, inplace=True)\n",
    "final_test.rename(columns= {col: col.lower().replace(' ','_') for col in final_test.columns}, inplace=True)"
   ]
  },
  {
   "cell_type": "code",
   "execution_count": 4,
   "metadata": {},
   "outputs": [
    {
     "data": {
      "text/plain": [
       "Index(['id', 'pid', 'ms_subclass', 'ms_zoning', 'lot_frontage', 'lot_area',\n",
       "       'street', 'alley', 'lot_shape', 'land_contour', 'utilities',\n",
       "       'lot_config', 'land_slope', 'neighborhood', 'condition_1',\n",
       "       'condition_2', 'bldg_type', 'house_style', 'overall_qual',\n",
       "       'overall_cond', 'year_built', 'year_remod/add', 'roof_style',\n",
       "       'roof_matl', 'exterior_1st', 'exterior_2nd', 'mas_vnr_type',\n",
       "       'mas_vnr_area', 'exter_qual', 'exter_cond', 'foundation', 'bsmt_qual',\n",
       "       'bsmt_cond', 'bsmt_exposure', 'bsmtfin_type_1', 'bsmtfin_sf_1',\n",
       "       'bsmtfin_type_2', 'bsmtfin_sf_2', 'bsmt_unf_sf', 'total_bsmt_sf',\n",
       "       'heating', 'heating_qc', 'central_air', 'electrical', '1st_flr_sf',\n",
       "       '2nd_flr_sf', 'low_qual_fin_sf', 'gr_liv_area', 'bsmt_full_bath',\n",
       "       'bsmt_half_bath', 'full_bath', 'half_bath', 'bedroom_abvgr',\n",
       "       'kitchen_abvgr', 'kitchen_qual', 'totrms_abvgrd', 'functional',\n",
       "       'fireplaces', 'fireplace_qu', 'garage_type', 'garage_yr_blt',\n",
       "       'garage_finish', 'garage_cars', 'garage_area', 'garage_qual',\n",
       "       'garage_cond', 'paved_drive', 'wood_deck_sf', 'open_porch_sf',\n",
       "       'enclosed_porch', '3ssn_porch', 'screen_porch', 'pool_area', 'pool_qc',\n",
       "       'fence', 'misc_feature', 'misc_val', 'mo_sold', 'yr_sold', 'sale_type',\n",
       "       'sale_condition', 'saleprice'],\n",
       "      dtype='object')"
      ]
     },
     "execution_count": 4,
     "metadata": {},
     "output_type": "execute_result"
    }
   ],
   "source": [
    "df.columns"
   ]
  },
  {
   "cell_type": "code",
   "execution_count": 5,
   "metadata": {},
   "outputs": [
    {
     "name": "stdout",
     "output_type": "stream",
     "text": [
      "<class 'pandas.core.frame.DataFrame'>\n",
      "RangeIndex: 2051 entries, 0 to 2050\n",
      "Data columns (total 82 columns):\n",
      "id                 2051 non-null int64\n",
      "pid                2051 non-null int64\n",
      "ms_subclass        2051 non-null int64\n",
      "ms_zoning          2051 non-null object\n",
      "lot_frontage       1721 non-null float64\n",
      "lot_area           2051 non-null int64\n",
      "street             2051 non-null object\n",
      "alley              140 non-null object\n",
      "lot_shape          2051 non-null object\n",
      "land_contour       2051 non-null object\n",
      "utilities          2051 non-null object\n",
      "lot_config         2051 non-null object\n",
      "land_slope         2051 non-null object\n",
      "neighborhood       2051 non-null object\n",
      "condition_1        2051 non-null object\n",
      "condition_2        2051 non-null object\n",
      "bldg_type          2051 non-null object\n",
      "house_style        2051 non-null object\n",
      "overall_qual       2051 non-null int64\n",
      "overall_cond       2051 non-null int64\n",
      "year_built         2051 non-null int64\n",
      "year_remod/add     2051 non-null int64\n",
      "roof_style         2051 non-null object\n",
      "roof_matl          2051 non-null object\n",
      "exterior_1st       2051 non-null object\n",
      "exterior_2nd       2051 non-null object\n",
      "mas_vnr_type       2029 non-null object\n",
      "mas_vnr_area       2029 non-null float64\n",
      "exter_qual         2051 non-null object\n",
      "exter_cond         2051 non-null object\n",
      "foundation         2051 non-null object\n",
      "bsmt_qual          1996 non-null object\n",
      "bsmt_cond          1996 non-null object\n",
      "bsmt_exposure      1993 non-null object\n",
      "bsmtfin_type_1     1996 non-null object\n",
      "bsmtfin_sf_1       2050 non-null float64\n",
      "bsmtfin_type_2     1995 non-null object\n",
      "bsmtfin_sf_2       2050 non-null float64\n",
      "bsmt_unf_sf        2050 non-null float64\n",
      "total_bsmt_sf      2050 non-null float64\n",
      "heating            2051 non-null object\n",
      "heating_qc         2051 non-null object\n",
      "central_air        2051 non-null object\n",
      "electrical         2051 non-null object\n",
      "1st_flr_sf         2051 non-null int64\n",
      "2nd_flr_sf         2051 non-null int64\n",
      "low_qual_fin_sf    2051 non-null int64\n",
      "gr_liv_area        2051 non-null int64\n",
      "bsmt_full_bath     2049 non-null float64\n",
      "bsmt_half_bath     2049 non-null float64\n",
      "full_bath          2051 non-null int64\n",
      "half_bath          2051 non-null int64\n",
      "bedroom_abvgr      2051 non-null int64\n",
      "kitchen_abvgr      2051 non-null int64\n",
      "kitchen_qual       2051 non-null object\n",
      "totrms_abvgrd      2051 non-null int64\n",
      "functional         2051 non-null object\n",
      "fireplaces         2051 non-null int64\n",
      "fireplace_qu       1051 non-null object\n",
      "garage_type        1938 non-null object\n",
      "garage_yr_blt      1937 non-null float64\n",
      "garage_finish      1937 non-null object\n",
      "garage_cars        2050 non-null float64\n",
      "garage_area        2050 non-null float64\n",
      "garage_qual        1937 non-null object\n",
      "garage_cond        1937 non-null object\n",
      "paved_drive        2051 non-null object\n",
      "wood_deck_sf       2051 non-null int64\n",
      "open_porch_sf      2051 non-null int64\n",
      "enclosed_porch     2051 non-null int64\n",
      "3ssn_porch         2051 non-null int64\n",
      "screen_porch       2051 non-null int64\n",
      "pool_area          2051 non-null int64\n",
      "pool_qc            9 non-null object\n",
      "fence              400 non-null object\n",
      "misc_feature       65 non-null object\n",
      "misc_val           2051 non-null int64\n",
      "mo_sold            2051 non-null int64\n",
      "yr_sold            2051 non-null int64\n",
      "sale_type          2051 non-null object\n",
      "sale_condition     2051 non-null object\n",
      "saleprice          2051 non-null int64\n",
      "dtypes: float64(11), int64(28), object(43)\n",
      "memory usage: 1.3+ MB\n"
     ]
    }
   ],
   "source": [
    "df.info()"
   ]
  },
  {
   "cell_type": "code",
   "execution_count": 6,
   "metadata": {
    "collapsed": true
   },
   "outputs": [],
   "source": [
    "# for test submit use lot_area"
   ]
  },
  {
   "cell_type": "code",
   "execution_count": 7,
   "metadata": {
    "collapsed": true
   },
   "outputs": [],
   "source": [
    "y = df['saleprice']\n",
    "X = df[['lot_area']]"
   ]
  },
  {
   "cell_type": "code",
   "execution_count": 8,
   "metadata": {
    "collapsed": true
   },
   "outputs": [],
   "source": [
    "X_train, X_test, y_train, y_test = train_test_split(X, y, test_size = 0.5, random_state=101)\n",
    "# dont need to do since we have the whole\n",
    "# check how the model is doing"
   ]
  },
  {
   "cell_type": "code",
   "execution_count": 9,
   "metadata": {
    "collapsed": true
   },
   "outputs": [],
   "source": [
    "ss = StandardScaler()\n",
    "X_train_sc = ss.fit_transform(X_train)\n",
    "X_test_sc = ss.transform(X_test)"
   ]
  },
  {
   "cell_type": "code",
   "execution_count": 10,
   "metadata": {},
   "outputs": [
    {
     "data": {
      "text/plain": [
       "LinearRegression(copy_X=True, fit_intercept=True, n_jobs=1, normalize=False)"
      ]
     },
     "execution_count": 10,
     "metadata": {},
     "output_type": "execute_result"
    }
   ],
   "source": [
    "lr = LinearRegression()\n",
    "lr.fit(X_train_sc ,y_train)"
   ]
  },
  {
   "cell_type": "code",
   "execution_count": 11,
   "metadata": {},
   "outputs": [
    {
     "data": {
      "text/plain": [
       "0.068199829749972518"
      ]
     },
     "execution_count": 11,
     "metadata": {},
     "output_type": "execute_result"
    }
   ],
   "source": [
    "lr.score(X_train_sc, y_train)"
   ]
  },
  {
   "cell_type": "code",
   "execution_count": 12,
   "metadata": {},
   "outputs": [
    {
     "data": {
      "text/plain": [
       "0.10031844995404249"
      ]
     },
     "execution_count": 12,
     "metadata": {},
     "output_type": "execute_result"
    }
   ],
   "source": [
    "lr.score(X_test_sc, y_test)"
   ]
  },
  {
   "cell_type": "code",
   "execution_count": 13,
   "metadata": {},
   "outputs": [
    {
     "data": {
      "text/plain": [
       "array([ 179148.53970767,  195233.63602817,  171695.36481723, ...,\n",
       "        171695.36481723,  161613.97993894,  177092.78318284])"
      ]
     },
     "execution_count": 13,
     "metadata": {},
     "output_type": "execute_result"
    }
   ],
   "source": [
    "lr.predict(X_test_sc)"
   ]
  },
  {
   "cell_type": "code",
   "execution_count": 14,
   "metadata": {},
   "outputs": [
    {
     "data": {
      "text/plain": [
       "Text(0,0.5,'Predicted')"
      ]
     },
     "execution_count": 14,
     "metadata": {},
     "output_type": "execute_result"
    },
    {
     "data": {
      "image/png": "[encoded data removed]",
      "text/plain": [
       "<matplotlib.figure.Figure at 0x2320ab2a320>"
      ]
     },
     "metadata": {},
     "output_type": "display_data"
    }
   ],
   "source": [
    "plt.scatter(y_test, lr.predict(X_test_sc))\n",
    "plt.xlabel('True')\n",
    "plt.ylabel('Predicted')"
   ]
  },
  {
   "cell_type": "code",
   "execution_count": 15,
   "metadata": {},
   "outputs": [
    {
     "data": {
      "text/plain": [
       "Text(0,0.5,'Residuals')"
      ]
     },
     "execution_count": 15,
     "metadata": {},
     "output_type": "execute_result"
    },
    {
     "data": {
      "image/png": "[encoded data removed]",
      "text/plain": [
       "<matplotlib.figure.Figure at 0x2320eb88da0>"
      ]
     },
     "metadata": {},
     "output_type": "display_data"
    }
   ],
   "source": [
    "residuals = y_test - lr.predict(X_test_sc)\n",
    "plt.scatter(y_test, residuals)\n",
    "plt.xlabel('True')\n",
    "plt.ylabel('Residuals')"
   ]
  },
  {
   "cell_type": "markdown",
   "metadata": {
    "collapsed": true
   },
   "source": [
    "## Test Data for submit"
   ]
  },
  {
   "cell_type": "code",
   "execution_count": 56,
   "metadata": {},
   "outputs": [
    {
     "data": {
      "text/plain": [
       "Index(['id', 'pid', 'ms_subclass', 'ms_zoning', 'lot_frontage', 'lot_area',\n",
       "       'street', 'alley', 'lot_shape', 'land_contour', 'utilities',\n",
       "       'lot_config', 'land_slope', 'neighborhood', 'condition_1',\n",
       "       'condition_2', 'bldg_type', 'house_style', 'overall_qual',\n",
       "       'overall_cond', 'year_built', 'year_remod/add', 'roof_style',\n",
       "       'roof_matl', 'exterior_1st', 'exterior_2nd', 'mas_vnr_type',\n",
       "       'mas_vnr_area', 'exter_qual', 'exter_cond', 'foundation', 'bsmt_qual',\n",
       "       'bsmt_cond', 'bsmt_exposure', 'bsmtfin_type_1', 'bsmtfin_sf_1',\n",
       "       'bsmtfin_type_2', 'bsmtfin_sf_2', 'bsmt_unf_sf', 'total_bsmt_sf',\n",
       "       'heating', 'heating_qc', 'central_air', 'electrical', '1st_flr_sf',\n",
       "       '2nd_flr_sf', 'low_qual_fin_sf', 'gr_liv_area', 'bsmt_full_bath',\n",
       "       'bsmt_half_bath', 'full_bath', 'half_bath', 'bedroom_abvgr',\n",
       "       'kitchen_abvgr', 'kitchen_qual', 'totrms_abvgrd', 'functional',\n",
       "       'fireplaces', 'fireplace_qu', 'garage_type', 'garage_yr_blt',\n",
       "       'garage_finish', 'garage_cars', 'garage_area', 'garage_qual',\n",
       "       'garage_cond', 'paved_drive', 'wood_deck_sf', 'open_porch_sf',\n",
       "       'enclosed_porch', '3ssn_porch', 'screen_porch', 'pool_area', 'pool_qc',\n",
       "       'fence', 'misc_feature', 'misc_val', 'mo_sold', 'yr_sold', 'sale_type'],\n",
       "      dtype='object')"
      ]
     },
     "execution_count": 56,
     "metadata": {},
     "output_type": "execute_result"
    }
   ],
   "source": [
    "final_test.columns"
   ]
  },
  {
   "cell_type": "code",
   "execution_count": null,
   "metadata": {
    "collapsed": true
   },
   "outputs": [],
   "source": [
    "final_test['lot_area']"
   ]
  },
  {
   "cell_type": "code",
   "execution_count": 58,
   "metadata": {},
   "outputs": [
    {
     "data": {
      "text/plain": [
       "array([ 179878.91136739,  181345.29462241,  202331.49497605,\n",
       "        178124.89139696,  180888.45983912,  159428.5048954 ,\n",
       "        178113.61152576,  180284.98673032,  164010.95256735,\n",
       "        182650.93971294,  174332.03470848,  174402.53390343,\n",
       "        185992.60155372,  176590.82891478,  187196.72780352,\n",
       "        179647.67400794,  184554.41797668,  181088.67755278,\n",
       "        184554.41797668,  203930.41671758,  177352.22022027,\n",
       "        178065.6720732 ,  176692.34775551,  214595.53493009,\n",
       "        181184.55645792,  174346.13454747,  189385.02281486,\n",
       "        179478.47594005,  178914.48238043,  163968.65305038,\n",
       "        174797.32939517,  171695.36481723,  187092.38899499,\n",
       "        182298.44373818,  185586.52619079,  191333.62056337,\n",
       "        169664.98800259,  179478.47594005,  179173.91941786,\n",
       "        174743.75000701,  165240.45852733,  185721.8846451 ,\n",
       "        174932.68784948,  195154.67692982,  165530.91521054,\n",
       "        158421.77639147,  185823.40348583,  176094.51458231,\n",
       "        170646.33679633,  175248.52424287,  180716.44180343,\n",
       "        179478.47594005,  180451.36483041,  174402.53390343,\n",
       "        171018.57254568,  176461.11039606,  179816.87207583,\n",
       "        180896.91974251,  185259.40992621,  183189.55356239,\n",
       "        187021.88980004,  190476.35035274,  192929.7223371 ,\n",
       "        191759.43570088,  174269.99541692,  184413.41958677,\n",
       "        177011.0041167 ,  165105.10007302,  166140.02825493,\n",
       "        166579.94323144,  170525.07818101,  219812.47535661,\n",
       "        225965.64509212,  184509.29849191,  178096.69171897,\n",
       "        204494.41027721,  267162.5546549 ,  215433.06536613,\n",
       "        180916.6595171 ,  177614.4772255 ,  195913.24826752,\n",
       "        178770.66402273,  179873.27143179,  164250.64983019,\n",
       "        178849.62312107,  190188.71363733,  189923.6366643 ,\n",
       "        175192.12488691,  200628.23442598,  201104.80898386,\n",
       "        176838.98608101,  175976.07593479,  187281.32683746,\n",
       "        173556.543564  ,  167270.83534198,  171371.06852045,\n",
       "        181912.10814984,  181088.67755278,  167042.41795033,\n",
       "        177927.49365109,  177786.49526118,  195535.37258257,\n",
       "        194283.3068802 ,  173700.3619217 ,  189968.75614907,\n",
       "        187904.53972085,  165040.24081366,  175770.21828552,\n",
       "        207218.49917019,  185501.92715685,  184478.27884613,\n",
       "        182862.4372978 ,  175248.52424287,  187374.3857748 ,\n",
       "        202650.15133723,  199770.96421535,  254940.81421784,\n",
       "        175615.12005663,  159783.82083796,  184599.53746145,\n",
       "        182236.40444662,  188758.98996368,  185301.70944318,\n",
       "        177073.04340826,  193208.89914912,  171593.8459765 ,\n",
       "        188364.19447194,  181057.657907  ,  179261.3384196 ,\n",
       "        169664.98800259,  189647.27982009,  178519.68688869,\n",
       "        179596.91458758,  185758.54422648,  186189.99929959,\n",
       "        160528.29233667,  183573.06918293,  182044.64663635,\n",
       "        190961.38481401,  165099.46013742,  186880.89141013,\n",
       "        180493.66434738,  181500.39285131,  183200.83343358,\n",
       "        242138.16041436,  176799.50653184,  175519.24115149,\n",
       "        176923.58511496,  184836.41475649,  179478.47594005,\n",
       "        197574.20930061,  186937.29076609,  183742.26725082,\n",
       "        169851.10587726,  176201.67335864,  179540.51523161,\n",
       "        174938.32778508,  159456.70457338,  178801.68366851,\n",
       "        191110.84310731,  180155.2682116 ,  191110.84310731,\n",
       "        187281.32683746,  180183.46788959,  192712.58481665,\n",
       "        172349.5973464 ,  182879.35710459,  192718.22475224,\n",
       "        163131.12261433,  180922.29945269,  181593.45178865,\n",
       "        198155.12266703,  176861.5458234 ,  187033.16967123,\n",
       "        161272.76383537,  184644.65694622,  181694.97062938,\n",
       "        169326.59186681,  177321.20057449,  159439.78476659,\n",
       "        176384.97126551,  181844.42892268,  182016.44695837,\n",
       "        203566.64087162,  179684.33358932,  182693.23922992,\n",
       "        179647.67400794,  179379.77706712,  176074.77480772,\n",
       "        181593.45178865,  182879.35710459,  182693.23922992,\n",
       "        160849.76866565,  183051.37514028,  172033.76095301,\n",
       "        182966.77610633,  175361.32295479,  180685.42215765,\n",
       "        182760.91845707,  193084.820566  ,  175812.51780249,\n",
       "        203259.26438163,  171864.56288512,  183330.55195229,\n",
       "        180299.08656931,  170384.07979111,  174402.53390343,\n",
       "        160243.47558906,  180493.66434738,  172264.99831246,\n",
       "        195264.65567395,  178454.82762934,  179816.87207583,\n",
       "        168599.04017489,  761082.73446401,  165686.01343943,\n",
       "        177462.1989644 ,  211499.21028775,  163624.61697901,\n",
       "        168649.79959526,  175248.52424287,  164631.34548294,\n",
       "        173779.32102005,  173996.4585405 ,  187687.40220039,\n",
       "        176348.31168414,  184554.41797668,  185823.40348583,\n",
       "        181184.55645792,  195495.8930334 ,  182884.99704019,\n",
       "        209229.13621026,  158303.33774395,  167634.61118794,\n",
       "        177143.54260321,  225779.52721744,  190845.76613429,\n",
       "        169983.64436377,  194303.04665479,  213024.81286653,\n",
       "        166027.22954301,  198121.28305345,  185005.61282438,\n",
       "        187935.55936663,  185287.60960419,  191361.82024135,\n",
       "        182961.13617074,  190780.90687493,  175068.04630379,\n",
       "        177005.3641811 ,  176150.91393827,  169800.3464569 ,\n",
       "        177786.49526118,  181813.4092769 ,  180535.96386435,\n",
       "        186407.13682004,  171356.96868146,  178914.48238043,\n",
       "        211713.5278404 ,  183877.62570513,  210379.68307189,\n",
       "        185355.28883134,  183048.55517248,  159428.5048954 ,\n",
       "        183573.06918293,  219682.7568379 ,  175445.92198874,\n",
       "        177786.49526118,  180372.40573206,  179534.87529602,\n",
       "        164462.14741505,  174402.53390343,  177011.0041167 ,\n",
       "        174402.53390343,  193860.31171048,  173945.69912014,\n",
       "        199593.30624407,  166605.32294162,  199660.98547122,\n",
       "        174402.53390343,  179478.47594005,  183604.08882871,\n",
       "        188375.47434313,  184306.26081044,  179881.73133519,\n",
       "        171018.57254568,  238582.18102092,  200797.43249387,\n",
       "        159606.16286668,  179478.47594005,  181088.67755278,\n",
       "        178632.48560062,  179272.61829079,  159428.5048954 ,\n",
       "        173838.54034381,  194071.80929534,  166579.94323144,\n",
       "        180369.58576426,  179718.1732029 ,  185688.04503152,\n",
       "        181311.45500884,  174222.05596435,  174938.32778508,\n",
       "        174019.01828289,  171356.96868146,  167634.61118794,\n",
       "        179478.47594005,  618434.66339594,  173167.38800785,\n",
       "        183840.96612375,  190904.98545805,  198090.26340767,\n",
       "        167973.00732371,  191471.79898547,  186897.81121692,\n",
       "        174402.53390343,  186229.47884876,  182746.81861808,\n",
       "        171763.04404439,  178739.64437695,  173880.83986078,\n",
       "        171695.36481723,  177800.59510017,  168198.60474756,\n",
       "        190428.41090017,  174402.53390343,  167995.5670661 ,\n",
       "        178666.3252142 ,  162586.8688293 ,  181678.05082259,\n",
       "        180781.30106279,  180837.70041875,  193767.25277315,\n",
       "        186091.30042665,  164701.84467789,  183200.83343358,\n",
       "        175496.6814091 ,  178124.89139696,  194114.10881232,\n",
       "        186990.87015426,  166563.02342465,  249929.73144057,\n",
       "        182676.31942313,  188344.45469735,  178773.48399052,\n",
       "        185496.28722125,  174907.3081393 ,  181686.51072599,\n",
       "        180823.60057976,  197481.15036327,  186040.54100629,\n",
       "        170601.21731156,  174402.53390343,  158836.31165779,\n",
       "        182811.67787744,  180535.96386435,  185893.90268079,\n",
       "        181508.8527547 ,  179526.41539262,  182650.93971294,\n",
       "        178068.49204099,  180860.26016114,  232203.41386157,\n",
       "        184080.66338659,  186457.89624041,  185256.58995841,\n",
       "        167493.61279803,  253172.69440841,  190713.22764778,\n",
       "        179921.21088436,  170510.97834202,  181370.6743326 ,\n",
       "        159428.5048954 ,  192210.63054858,  180135.52843702,\n",
       "        177786.49526118,  197261.19287502,  175648.9596702 ,\n",
       "        164933.08203733,  168376.26271884,  166041.329382  ,\n",
       "        198022.58418051,  182636.83987395,  192207.81058078,\n",
       "        191999.13296372,  178773.48399052,  186528.39543536,\n",
       "        184554.41797668,  175555.90073287,  227818.36393549,\n",
       "        179997.35001491,  158836.31165779,  180651.58254407,\n",
       "        177786.49526118,  188344.45469735,  183432.07079302,\n",
       "        163404.65949075,  177600.3773865 ,  185702.14487051,\n",
       "        174549.17222894,  204858.18612317,  188316.25501937,\n",
       "        194847.30043983,  175758.93841433,  185530.12683483,\n",
       "        176404.7110401 ,  176658.50814193,  171153.93099999,\n",
       "        181023.81829343,  184912.55388704,  174825.52907315,\n",
       "        170807.07496083,  174402.53390343,  189032.5268401 ,\n",
       "        179021.64115676,  182298.44373818,  188510.83279744,\n",
       "        214124.6003078 ,  185597.80606198,  183708.42763724,\n",
       "        191110.84310731,  189830.57772697,  192450.32781142,\n",
       "        214110.50046881,  170651.97673193,  192743.60446243,\n",
       "        188558.77225001,  164763.88396945,  177927.49365109,\n",
       "        178773.48399052,  185817.76355024,  178849.62312107,\n",
       "        177019.46402009,  181170.45661893,  182650.93971294,\n",
       "        186212.55904197,  194184.60800727,  173251.9870418 ,\n",
       "        187092.38899499,  166639.1625552 ,  192337.5290995 ,\n",
       "        180755.9213526 ,  183299.53230651,  171018.57254568,\n",
       "        185823.40348583,  183606.90879651,  224865.85765085,\n",
       "        186077.20058766,  168198.60474756,  187337.72619342,\n",
       "        174402.53390343,  192732.32459123,  182665.03955193,\n",
       "        172064.78059879,  171356.96868146,  177011.0041167 ,\n",
       "        177983.89300705,  178773.48399052,  173443.74485207,\n",
       "        182414.0624179 ,  172146.55966493,  158294.87784055,\n",
       "        177154.8224744 ,  175502.3213447 ,  214826.77228953,\n",
       "        167634.61118794,  187363.10590361,  201186.58805001,\n",
       "        183426.43085743,  174332.03470848,  177543.97803054,\n",
       "        179986.07014372,  185710.60477391,  178922.94228382,\n",
       "        178533.78672768,  192095.01186886,  174346.13454747,\n",
       "        184977.4131464 ,  184534.67820209,  181734.45017855,\n",
       "        182966.77610633,  186528.39543536,  190775.26693934,\n",
       "        158421.77639147,  176306.01216717,  188412.13392451,\n",
       "        180042.46949968,  166613.78284502,  190950.10494282,\n",
       "        165990.56996163,  173838.54034381,  172710.55322456,\n",
       "        179450.27626207,  175967.61603139,  183375.67143706,\n",
       "        187724.06178177,  162761.70683278,  182016.44695837,\n",
       "        171018.57254568,  185329.90912116,  184221.6617765 ,\n",
       "        189599.34036752,  181170.45661893,  199835.82347471,\n",
       "        176353.95161973,  191821.47499244,  173838.54034381,\n",
       "        183905.82538311,  179066.76064153,  161613.97993894,\n",
       "        179478.47594005,  206550.16680204,  160189.89620089,\n",
       "        181573.71201406,  177011.0041167 ,  174715.55032902,\n",
       "        182388.68270772,  183708.42763724,  177543.97803054,\n",
       "        182935.75646055,  199384.62862701,  171356.96868146,\n",
       "        171356.96868146,  313708.94313073,  181593.45178865,\n",
       "        165209.43888155,  192565.94649115,  164363.44854211,\n",
       "        181804.94937351,  181170.45661893,  169326.59186681,\n",
       "        160031.9780042 ,  181534.23246489,  182298.44373818,\n",
       "        174853.72875113,  177786.49526118,  179478.47594005,\n",
       "        158402.03661688,  189043.80671129,  194190.24794286,\n",
       "        165697.29331063,  178959.6018652 ,  180473.92457279,\n",
       "        158263.85819477,  173020.74968235,  185927.74229436,\n",
       "        188217.55614644,  181593.45178865,  186686.31363206,\n",
       "        158836.31165779,  189923.6366643 ,  171356.96868146,\n",
       "        181339.65468682,  171356.96868146,  235026.20162749,\n",
       "        188711.05051111,  166472.78445511,  165009.22116788,\n",
       "        160607.25143501,  166506.62406869,  194170.50816828,\n",
       "        181616.01153103,  165426.57640201,  185820.58351803,\n",
       "        181170.45661893,  165499.89556476,  180042.46949968,\n",
       "        190961.38481401,  164899.24242376,  174478.67303398,\n",
       "        174275.63535252,  187585.88335966,  178181.29075292,\n",
       "        172174.75934292,  185414.5081551 ,  191322.34069217,\n",
       "        173838.54034381,  185231.21024823,  166579.94323144,\n",
       "        201415.00544166,  183539.22956935,  184655.93681741,\n",
       "        191841.21476703,  192876.14294894,  166732.22149254,\n",
       "        186195.63923518,  179816.87207583,  187323.62635443,\n",
       "        173753.94130986,  186308.43794711,  176658.50814193,\n",
       "        198259.46147556,  173057.40926373,  176306.01216717,\n",
       "        179884.55130298,  195273.11557734,  190002.59576265,\n",
       "        171018.57254568,  172710.55322456,  177989.53294265,\n",
       "        189260.94423174,  171695.36481723,  185823.40348583,\n",
       "        187374.3857748 ,  207114.16036166,  165505.53550035,\n",
       "        183973.50461026,  171018.57254568,  177786.49526118,\n",
       "        183482.83021339,  171864.56288512,  188445.97353809,\n",
       "        182199.74486524,  178621.20572943,  191062.90365475,\n",
       "        176838.98608101,  171356.96868146,  179193.65919244,\n",
       "        183894.54551192,  173505.78414363,  175953.5161924 ,\n",
       "        174724.01023242,  173889.29976417,  174402.53390343,\n",
       "        177927.49365109,  171018.57254568,  177786.49526118,\n",
       "        177067.40347266,  179173.91941786,  174673.25081205,\n",
       "        190961.38481401,  198090.26340767,  181277.61539526,\n",
       "        197873.12588721,  177256.34131513,  181551.15227168,\n",
       "        162502.26979535,  161210.72454381,  183426.43085743,\n",
       "        184554.41797668,  183539.22956935,  190470.71041714,\n",
       "        178745.28431254,  183539.22956935,  185093.03182612,\n",
       "        178697.34485997,  173923.13937775,  180535.96386435,\n",
       "        161351.72293372,  164462.14741505,  223701.21095023,\n",
       "        175629.21989562,  169326.59186681,  172090.16030897,\n",
       "        181593.45178865,  172786.69235511,  174402.53390343,\n",
       "        177222.50170156,  183164.1738522 ,  184960.49333961,\n",
       "        208512.86438953,  183412.33101844,  221552.39548806,\n",
       "        185259.40992621,  201076.60930588,  191937.09367216,\n",
       "        185126.8714397 ,  181520.1326259 ,  176105.7944535 ,\n",
       "        210498.12171941,  183386.95130825,  178463.28753273,\n",
       "        162220.27301554,  187794.56097672,  173866.74002179,\n",
       "        183542.04953715,  182862.4372978 ,  186271.77836573,\n",
       "        159665.38219044,  215517.66440007,  174402.53390343,\n",
       "        188476.99318387,  186127.96000803,  181308.63504104,\n",
       "        187817.12071911,  186847.05179655,  181170.45661893,\n",
       "        177011.0041167 ,  205594.19771848,  179760.47271987,\n",
       "        177515.77835256,  169523.98961268,  177135.08269981,\n",
       "        199663.80543902,  177400.15967284,  168962.81602085,\n",
       "        187515.38416471,  191206.72201245,  186931.6508305 ,\n",
       "        180465.4646694 ,  184089.12328999,  166613.78284502,\n",
       "        173906.21957096,  177363.50009146,  186872.43150673,\n",
       "        187938.37933443,  185569.606384  ,  186057.46081308,\n",
       "        176094.51458231,  183522.30976256,  186584.79479133,\n",
       "        178734.00444135,  166664.54226538,  181170.45661893,\n",
       "        198851.65471316,  168198.60474756,  282689.29735137,\n",
       "        227919.88277622,  161557.58058298,  181170.45661893,\n",
       "        214161.25988917,  177927.49365109,  180535.96386435,\n",
       "        177744.19574421,  158836.31165779,  194311.50655818,\n",
       "        182298.44373818,  187656.38255461,  181520.1326259 ,\n",
       "        199677.90527801,  170807.07496083,  178463.28753273,\n",
       "        183034.45533349,  188880.248579  ,  183793.02667118,\n",
       "        187275.68690187,  193902.61122746,  179478.47594005,\n",
       "        190577.86919347,  177825.97481035,  184342.92039182,\n",
       "        190202.81347632,  183155.71394881,  178243.33004448,\n",
       "        177332.48044568,  181635.75130562,  198045.1439229 ,\n",
       "        180428.80508802,  176658.50814193,  165237.63855953,\n",
       "        186367.65727087,  185665.48528914,  181170.45661893,\n",
       "        160528.29233667,  188206.27627525,  225404.47150029,\n",
       "        159902.25948548,  193270.93844068,  168621.59991728,\n",
       "        173903.39960317,  171695.36481723,  181593.45178865,\n",
       "        180535.96386435,  185781.10396886,  194824.74069744,\n",
       "        176923.58511496,  192501.08723179,  177786.49526118,\n",
       "        178827.06337869,  188626.45147717,  174543.53229334,\n",
       "        182072.84631433,  186951.39060508,  184058.10364421,\n",
       "        190546.84954769,  180211.66756757,  181593.45178865,\n",
       "        187989.13875479,  190115.39447458,  177143.54260321,\n",
       "        184808.21507851,  160068.63758557,  198998.29303867,\n",
       "        172152.19960053,  174402.53390343,  167386.4540217 ,\n",
       "        191559.21798722,  179980.43020812,  159397.48524962,\n",
       "        190256.39286448,  181847.24889048,  184060.92361201,\n",
       "        177011.0041167 ,  185682.40509593,  191161.60252768,\n",
       "        197139.9342597 ,  164927.44210174,  165116.37994421,\n",
       "        181004.07851884,  178953.9619296 ,  186074.38061987,\n",
       "        175417.72231076,  174402.53390343,  176229.87303662,\n",
       "        172284.73808704,  188231.65598543,  171356.96868146,\n",
       "        171018.57254568,  184915.37385484,  179391.05693831,\n",
       "        179760.47271987,  178801.68366851,  182963.95613854,\n",
       "        186855.51169995,  191491.53876006,  174687.35065104,\n",
       "        178463.28753273,  203448.2022241 ,  184554.41797668,\n",
       "        184895.63408025,  183071.11491486,  187938.37933443,\n",
       "        174103.61731683,  185188.91073125,  175939.41635341,\n",
       "        160189.89620089,  192895.88272353,  191215.18191584,\n",
       "        186054.64084528,  189743.15872522,  181170.45661893,\n",
       "        163071.90329057,  186810.39221518,  190143.59415256,\n",
       "        171695.36481723,  176097.33455011,  179760.47271987,\n",
       "        185970.04181133,  186686.31363206,  182072.84631433,\n",
       "        181618.83149883,  181170.45661893,  160494.45272309,\n",
       "        220635.90595367,  181804.94937351,  182357.66306194,\n",
       "        187092.38899499,  210216.1249396 ,  178463.28753273,\n",
       "        158985.76995109,  183384.13134046,  166788.6208485 ,\n",
       "        181706.25050057,  174774.76965279,  173928.77931335,\n",
       "        215517.66440007,  170426.37930808,  174910.1281071 ,\n",
       "        158402.03661688,  186012.34132831,  178858.08302447,\n",
       "        189004.32716212,  165542.19508173,  160776.4495029 ,\n",
       "        180465.4646694 ,  173951.33905573,  178770.66402273,\n",
       "        176029.65532295,  168373.44275105,  175812.51780249,\n",
       "        257027.59038845,  195191.3365112 ,  187498.46435792,\n",
       "        178942.68205841,  176658.50814193,  195467.69335541,\n",
       "        177363.50009146,  179478.47594005,  177786.49526118])"
      ]
     },
     "execution_count": 58,
     "metadata": {},
     "output_type": "execute_result"
    }
   ],
   "source": [
    "# y = df['saleprice'] #not y since we dont have\n",
    "X_final_test = final_test[['lot_area']]\n",
    "\n",
    "X_final_test_sc = ss.transform(X_final_test)\n",
    "# use the final_test X\n",
    "\n",
    "lr.predict(X_final_test_sc)\n",
    "# put in DF\n",
    "# then export to csv and submit"
   ]
  },
  {
   "cell_type": "code",
   "execution_count": 59,
   "metadata": {
    "collapsed": true
   },
   "outputs": [],
   "source": [
    "preds = lr.predict(X_final_test_sc)"
   ]
  },
  {
   "cell_type": "code",
   "execution_count": 60,
   "metadata": {},
   "outputs": [],
   "source": [
    "export = pd.DataFrame(lr.predict(X_final_test_sc))"
   ]
  },
  {
   "cell_type": "code",
   "execution_count": 62,
   "metadata": {},
   "outputs": [],
   "source": [
    "submission=final_test[['id']]"
   ]
  },
  {
   "cell_type": "code",
   "execution_count": 63,
   "metadata": {},
   "outputs": [
    {
     "data": {
      "text/plain": [
       "879"
      ]
     },
     "execution_count": 63,
     "metadata": {},
     "output_type": "execute_result"
    }
   ],
   "source": [
    "len(preds)"
   ]
  },
  {
   "cell_type": "code",
   "execution_count": 64,
   "metadata": {},
   "outputs": [
    {
     "data": {
      "text/plain": [
       "(879, 80)"
      ]
     },
     "execution_count": 64,
     "metadata": {},
     "output_type": "execute_result"
    }
   ],
   "source": [
    "final_test.shape"
   ]
  },
  {
   "cell_type": "code",
   "execution_count": 65,
   "metadata": {},
   "outputs": [
    {
     "name": "stderr",
     "output_type": "stream",
     "text": [
      "C:\\Users\\Mark\\Anaconda3\\lib\\site-packages\\ipykernel_launcher.py:1: SettingWithCopyWarning: \n",
      "A value is trying to be set on a copy of a slice from a DataFrame.\n",
      "Try using .loc[row_indexer,col_indexer] = value instead\n",
      "\n",
      "See the caveats in the documentation: http://pandas.pydata.org/pandas-docs/stable/indexing.html#indexing-view-versus-copy\n",
      "  \"\"\"Entry point for launching an IPython kernel.\n"
     ]
    }
   ],
   "source": [
    "submission['SalePrice'] = preds"
   ]
  },
  {
   "cell_type": "code",
   "execution_count": 66,
   "metadata": {},
   "outputs": [
    {
     "data": {
      "text/html": [
       "<div>\n",
       "<style>\n",
       "    .dataframe thead tr:only-child th {\n",
       "        text-align: right;\n",
       "    }\n",
       "\n",
       "    .dataframe thead th {\n",
       "        text-align: left;\n",
       "    }\n",
       "\n",
       "    .dataframe tbody tr th {\n",
       "        vertical-align: top;\n",
       "    }\n",
       "</style>\n",
       "<table border=\"1\" class=\"dataframe\">\n",
       "  <thead>\n",
       "    <tr style=\"text-align: right;\">\n",
       "      <th></th>\n",
       "      <th>id</th>\n",
       "      <th>SalePrice</th>\n",
       "    </tr>\n",
       "  </thead>\n",
       "  <tbody>\n",
       "    <tr>\n",
       "      <th>0</th>\n",
       "      <td>2658</td>\n",
       "      <td>179878.911367</td>\n",
       "    </tr>\n",
       "    <tr>\n",
       "      <th>1</th>\n",
       "      <td>2718</td>\n",
       "      <td>181345.294622</td>\n",
       "    </tr>\n",
       "    <tr>\n",
       "      <th>2</th>\n",
       "      <td>2414</td>\n",
       "      <td>202331.494976</td>\n",
       "    </tr>\n",
       "    <tr>\n",
       "      <th>3</th>\n",
       "      <td>1989</td>\n",
       "      <td>178124.891397</td>\n",
       "    </tr>\n",
       "    <tr>\n",
       "      <th>4</th>\n",
       "      <td>625</td>\n",
       "      <td>180888.459839</td>\n",
       "    </tr>\n",
       "  </tbody>\n",
       "</table>\n",
       "</div>"
      ],
      "text/plain": [
       "     id      SalePrice\n",
       "0  2658  179878.911367\n",
       "1  2718  181345.294622\n",
       "2  2414  202331.494976\n",
       "3  1989  178124.891397\n",
       "4   625  180888.459839"
      ]
     },
     "execution_count": 66,
     "metadata": {},
     "output_type": "execute_result"
    }
   ],
   "source": [
    "submission.head()"
   ]
  },
  {
   "cell_type": "code",
   "execution_count": 67,
   "metadata": {
    "collapsed": true
   },
   "outputs": [],
   "source": [
    "submission.to_csv('export_submit.csv', index=False)"
   ]
  },
  {
   "cell_type": "code",
   "execution_count": 39,
   "metadata": {
    "collapsed": true
   },
   "outputs": [],
   "source": []
  },
  {
   "cell_type": "code",
   "execution_count": null,
   "metadata": {
    "collapsed": true
   },
   "outputs": [],
   "source": []
  }
 ],
 "metadata": {
  "kernelspec": {
   "display_name": "Python 3",
   "language": "python",
   "name": "python3"
  },
  "language_info": {
   "codemirror_mode": {
    "name": "ipython",
    "version": 3
   },
   "file_extension": ".py",
   "mimetype": "text/x-python",
   "name": "python",
   "nbconvert_exporter": "python",
   "pygments_lexer": "ipython3",
   "version": "3.6.3"
  }
 },
 "nbformat": 4,
 "nbformat_minor": 2
}
