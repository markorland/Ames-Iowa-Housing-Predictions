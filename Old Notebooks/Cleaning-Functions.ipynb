{
 "cells": [
  {
   "cell_type": "code",
   "execution_count": 1,
   "metadata": {
    "collapsed": true
   },
   "outputs": [],
   "source": [
    "import numpy as np\n",
    "import pandas as pd\n",
    "import seaborn as sns\n",
    "import matplotlib.pyplot as plt\n",
    "\n",
    "%matplotlib inline"
   ]
  },
  {
   "cell_type": "code",
   "execution_count": 14,
   "metadata": {
    "collapsed": true
   },
   "outputs": [],
   "source": [
    "df_data = pd.read_csv('train.csv')\n",
    "final_data = pd.read_csv('test.csv')"
   ]
  },
  {
   "cell_type": "code",
   "execution_count": null,
   "metadata": {
    "collapsed": true
   },
   "outputs": [],
   "source": [
    "def does_does_not(cell):\n",
    "    if cell >= 1:\n",
    "        return 1\n",
    "    else:\n",
    "        return 0\n",
    "\n",
    "def clean1(df):\n",
    "    df.rename(columns= {col: col.lower().replace(' ','_') for col in df.columns}, inplace=True)\n",
    "    \n",
    "    df['deck_porch'] = df['wood_deck_sf'] + df['open_porch_sf'] + df['enclosed_porch'] + df['3ssn_porch'] + df['screen_porch']\n",
    "    df['fence'] = df['fence'].notnull().astype('int')\n",
    "    df['overall_cond_qual'] = df['overall_cond'] + df['overall_qual']\n",
    "    \n",
    "    df.drop([\n",
    "    'alley', 'lot_frontage', 'mas_vnr_type', 'fireplace_qu', 'pool_qc', 'misc_feature',\n",
    "    'bsmt_qual', 'bsmt_cond', 'bsmt_exposure', 'bsmtfin_type_1', 'bsmtfin_sf_1', 'bsmtfin_type_2',\n",
    "    'bsmtfin_sf_2', 'bsmt_unf_sf', 'bsmt_full_bath', 'bsmt_half_bath',\n",
    "    'garage_type', 'garage_yr_blt', 'garage_finish', 'garage_area', 'garage_qual', 'garage_cond',\n",
    "    'wood_deck_sf', 'open_porch_sf', 'enclosed_porch', '3ssn_porch', 'screen_porch',\n",
    "    'overall_cond', 'overall_qual'], axis=1, inplace=True)\n",
    "        \n",
    "    features_replace = ['pool_area' , 'garage_cars', 'fireplaces', 'total_bsmt_sf', 'mas_vnr_area', 'deck_porch']\n",
    "    for i in features_replace:\n",
    "        df[i] = df[i].map(does_does_not)\n",
    "    \n",
    "    df.rename(columns={\n",
    "    'pool_area': 'has_pool',\n",
    "    'garage_cars': 'has_garage', \n",
    "    'fireplaces': 'has_fireplace',\n",
    "    'total_bsmt_sf': 'has_bsmt',\n",
    "    'mas_vnr_area': 'has_mas_vnr',\n",
    "    'fence': 'has_fence'}, inplace=True)\n",
    "    \n",
    "    return df.head()"
   ]
  },
  {
   "cell_type": "code",
   "execution_count": null,
   "metadata": {
    "collapsed": true
   },
   "outputs": [],
   "source": [
    "def clean2(df):\n",
    "    df['lot_shape'] =df['lot_shape'].replace({'IR3':'IR2'})\n",
    "    df['condition_1'] =df['condition_1'].replace({'PosA':'Pos', 'PosN':'Pos', 'RRAe':'RRe', 'RRNe':'RRe', 'RRNn':'RRn', 'RRAn':'RRn'})\n",
    "    df['condition_2'] =df['condition_2'].replace({'PosA':'Pos', 'PosN':'Pos', 'RRAe':'RRe', 'RRNe':'RRe', 'RRNn':'RRn', 'RRAn':'RRn'})\n",
    "    df['year_built'] = pd.to_datetime(df['year_built'], format='%Y')\n",
    "    df['year_remod/add'] = pd.to_datetime(df['year_remod/add'], format='%Y')\n",
    "    df['mo_sold'] = pd.to_datetime(df['mo_sold'], format='%m')\n",
    "    df['yr_sold'] = pd.to_datetime(df['yr_sold'], format='%Y')\n",
    "    df['exter_qual'] = df['exter_qual'].replace({'Ex': 5, 'Gd': 4, 'TA': 3, 'Fa': 2, 'Po': 1})\n",
    "    df['exter_cond'] = df['exter_cond'].replace({'Ex': 5, 'Gd': 4, 'TA': 3, 'Fa': 2, 'Po': 1})\n",
    "    df['heating_qc'] = df['heating_qc'].replace({'Ex': 5, 'Gd': 4, 'TA': 3, 'Fa': 2, 'Po': 1})\n",
    "    df['electrical'] = df['electrical'].replace({'SBrkr': 5, 'FuseA': 4, 'FuseF': 3, 'FuseP': 2, 'Mix': 1})\n",
    "    df['kitchen_qual'] = df['kitchen_qual'].replace({'Ex': 5, 'Gd': 4, 'TA': 3, 'Fa': 2, 'Po': 1})\n",
    "\n",
    "    df.drop(['gr_liv_area', '2nd_flr_sf', 'bedroom_abvgr'], axis=1, inplace=True)\n",
    "    \n",
    "    df = pd.get_dummies(df, columns=[\n",
    "    'neighborhood',\n",
    "    'lot_shape',\n",
    "    'ms_subclass',\n",
    "    'ms_zoning',\n",
    "    'land_contour',\n",
    "    'lot_config',\n",
    "    'utilities',\n",
    "    'land_slope',\n",
    "    'condition_1',\n",
    "    'condition_2',\n",
    "    'bldg_type',\n",
    "    'exterior_1st',\n",
    "    'exterior_2nd',\n",
    "    'foundation',\n",
    "    'heating',\n",
    "    'central_air',\n",
    "    'full_bath',\n",
    "    'half_bath',\n",
    "    'kitchen_abvgr',\n",
    "    'functional',\n",
    "    'paved_drive',\n",
    "    'sale_type',\n",
    "    'street',\n",
    "    'house_style'\n",
    "    \n",
    "], prefix=[\n",
    "    'n_',\n",
    "    'ls_',\n",
    "    'mssub_',\n",
    "    'mszon_',\n",
    "    'landcon_',\n",
    "    'lotfig_',\n",
    "    'ut_',\n",
    "    'landm_',\n",
    "    'cond1_',\n",
    "    'cond2_',\n",
    "    'btype_',\n",
    "    'ext1_',\n",
    "    'ext2_',\n",
    "    'found_',\n",
    "    'heat_',\n",
    "    'ac_',\n",
    "    'fb_',\n",
    "    'hb_',\n",
    "    'kita_',\n",
    "    'funct_',\n",
    "    'paved_',\n",
    "    'stype_',\n",
    "    'st_',\n",
    "    'hstyle_'\n",
    "      \n",
    "])\n",
    "    return(df.head())"
   ]
  },
  {
   "cell_type": "code",
   "execution_count": null,
   "metadata": {},
   "outputs": [],
   "source": [
    "clean1(df)"
   ]
  },
  {
   "cell_type": "code",
   "execution_count": null,
   "metadata": {},
   "outputs": [],
   "source": [
    "clean2(df)"
   ]
  },
  {
   "cell_type": "code",
   "execution_count": null,
   "metadata": {},
   "outputs": [],
   "source": [
    "clean1(final)"
   ]
  },
  {
   "cell_type": "code",
   "execution_count": null,
   "metadata": {},
   "outputs": [],
   "source": [
    "clean2(final)"
   ]
  },
  {
   "cell_type": "code",
   "execution_count": null,
   "metadata": {
    "collapsed": true
   },
   "outputs": [],
   "source": []
  },
  {
   "cell_type": "code",
   "execution_count": null,
   "metadata": {
    "collapsed": true
   },
   "outputs": [],
   "source": []
  },
  {
   "cell_type": "code",
   "execution_count": 3,
   "metadata": {
    "collapsed": true
   },
   "outputs": [],
   "source": [
    "def does_does_not(cell):\n",
    "    if cell >= 1:\n",
    "        return 1\n",
    "    else:\n",
    "        return 0\n",
    "\n",
    "def clean(df):\n",
    "    df.rename(columns= {col: col.lower().replace(' ','_') for col in df.columns}, inplace=True)\n",
    "\n",
    "    df['deck_porch'] = df['wood_deck_sf'] + df['open_porch_sf'] + df['enclosed_porch'] + df['3ssn_porch'] + df['screen_porch']\n",
    "    df['fence'] = df['fence'].notnull().astype('int')\n",
    "    df['overall_cond_qual'] = df['overall_cond'] + df['overall_qual']\n",
    "\n",
    "    df.drop([\n",
    "    'alley', 'lot_frontage', 'mas_vnr_type', 'fireplace_qu', 'pool_qc', 'misc_feature',\n",
    "    'bsmt_qual', 'bsmt_cond', 'bsmt_exposure', 'bsmtfin_type_1', 'bsmtfin_sf_1', 'bsmtfin_type_2',\n",
    "    'bsmtfin_sf_2', 'bsmt_unf_sf', 'bsmt_full_bath', 'bsmt_half_bath',\n",
    "    'garage_type', 'garage_yr_blt', 'garage_finish', 'garage_area', 'garage_qual', 'garage_cond',\n",
    "    'wood_deck_sf', 'open_porch_sf', 'enclosed_porch', '3ssn_porch', 'screen_porch',\n",
    "    'overall_cond', 'overall_qual'], axis=1, inplace=True)\n",
    "\n",
    "    features_replace = ['pool_area' , 'garage_cars', 'fireplaces', 'total_bsmt_sf', 'mas_vnr_area', 'deck_porch']\n",
    "    for i in features_replace:\n",
    "        df[i] = df[i].map(does_does_not)\n",
    "\n",
    "    df.rename(columns={\n",
    "    'pool_area': 'has_pool',\n",
    "    'garage_cars': 'has_garage', \n",
    "    'fireplaces': 'has_fireplace',\n",
    "    'total_bsmt_sf': 'has_bsmt',\n",
    "    'mas_vnr_area': 'has_mas_vnr',\n",
    "    'fence': 'has_fence'}, inplace=True)\n",
    "\n",
    "\n",
    "    df['lot_shape'] =df['lot_shape'].replace({'IR3':'IR2'})\n",
    "    df['condition_1'] =df['condition_1'].replace({'PosA':'Pos', 'PosN':'Pos', 'RRAe':'RRe', 'RRNe':'RRe', 'RRNn':'RRn', 'RRAn':'RRn'})\n",
    "    df['condition_2'] =df['condition_2'].replace({'PosA':'Pos', 'PosN':'Pos', 'RRAe':'RRe', 'RRNe':'RRe', 'RRNn':'RRn', 'RRAn':'RRn'})\n",
    "    df['year_built'] = pd.to_datetime(df['year_built'], format='%Y')\n",
    "    df['year_remod/add'] = pd.to_datetime(df['year_remod/add'], format='%Y')\n",
    "    df['mo_sold'] = pd.to_datetime(df['mo_sold'], format='%m')\n",
    "    df['yr_sold'] = pd.to_datetime(df['yr_sold'], format='%Y')\n",
    "    df['exter_qual'] = df['exter_qual'].replace({'Ex': 5, 'Gd': 4, 'TA': 3, 'Fa': 2, 'Po': 1})\n",
    "    df['exter_cond'] = df['exter_cond'].replace({'Ex': 5, 'Gd': 4, 'TA': 3, 'Fa': 2, 'Po': 1})\n",
    "    df['heating_qc'] = df['heating_qc'].replace({'Ex': 5, 'Gd': 4, 'TA': 3, 'Fa': 2, 'Po': 1})\n",
    "    df['electrical'] = df['electrical'].replace({'SBrkr': 5, 'FuseA': 4, 'FuseF': 3, 'FuseP': 2, 'Mix': 1})\n",
    "    df['kitchen_qual'] = df['kitchen_qual'].replace({'Ex': 5, 'Gd': 4, 'TA': 3, 'Fa': 2, 'Po': 1})\n",
    "\n",
    "    df.drop(['gr_liv_area', '2nd_flr_sf', 'bedroom_abvgr'], axis=1, inplace=True)\n",
    "\n",
    "    df = pd.get_dummies(df, columns=[\n",
    "    'neighborhood',\n",
    "    'lot_shape',\n",
    "    'ms_subclass',\n",
    "    'ms_zoning',\n",
    "    'land_contour',\n",
    "    'lot_config',\n",
    "    'utilities',\n",
    "    'land_slope',\n",
    "    'condition_1',\n",
    "    'condition_2',\n",
    "    'bldg_type',\n",
    "    'exterior_1st',\n",
    "    'exterior_2nd',\n",
    "    'foundation',\n",
    "    'heating',\n",
    "    'central_air',\n",
    "    'full_bath',\n",
    "    'half_bath',\n",
    "    'kitchen_abvgr',\n",
    "    'functional',\n",
    "    'paved_drive',\n",
    "    'sale_type',\n",
    "    'street',\n",
    "    'house_style'\n",
    "    'roof_style',\n",
    "    'roof_matl',   \n",
    "    ], prefix=[\n",
    "    'n_',\n",
    "    'ls_',\n",
    "    'mssub_',\n",
    "    'mszon_',\n",
    "    'landcon_',\n",
    "    'lotfig_',\n",
    "    'ut_',\n",
    "    'landm_',\n",
    "    'cond1_',\n",
    "    'cond2_',\n",
    "    'btype_',\n",
    "    'ext1_',\n",
    "    'ext2_',\n",
    "    'found_',\n",
    "    'heat_',\n",
    "    'ac_',\n",
    "    'fb_',\n",
    "    'hb_',\n",
    "    'kita_',\n",
    "    'funct_',\n",
    "    'paved_',\n",
    "    'stype_',\n",
    "    'st_',\n",
    "    'hstyle_',\n",
    "    'rst_',\n",
    "    'rmat_',\n",
    "    ])\n",
    "    \n",
    "    return df "
   ]
  },
  {
   "cell_type": "code",
   "execution_count": 15,
   "metadata": {},
   "outputs": [],
   "source": [
    "df = clean(df_data)\n",
    "final = clean(final_data)"
   ]
  },
  {
   "cell_type": "code",
   "execution_count": 16,
   "metadata": {
    "collapsed": true
   },
   "outputs": [],
   "source": [
    "def mia_columns(df1, df2):\n",
    "    mia_df2 = list(set(df1.columns) - set(df2.columns))\n",
    "    print(mia_df2)\n",
    "    mia_df1 = list(set(df2.columns) - set(df1.columns))\n",
    "    print(mia_df1)\n",
    "    \n",
    "    for i in mia_df2:\n",
    "        df2[i] = 0\n",
    "    \n",
    "    for i in mia_df1:\n",
    "        df1[i] = 0"
   ]
  },
  {
   "cell_type": "code",
   "execution_count": 17,
   "metadata": {},
   "outputs": [
    {
     "name": "stdout",
     "output_type": "stream",
     "text": [
      "['heat__OthW', 'n__Landmrk', 'ext1__CBlock', 'cond2__RRe', 'ut__NoSeWa', 'n__GrnHill', 'cond2__RRn', 'sale_condition', 'mszon__A (agr)', 'funct__Sev', 'saleprice', 'ext1__ImStucc', 'mssub__150', 'ext1__Stone', 'cond2__Artery', 'heat__Wall', 'funct__Sal', 'ext2__Stone']\n",
      "['stype__VWD', 'ext1__PreCast', 'heat__Floor', 'ext2__Other', 'ext2__PreCast']\n"
     ]
    }
   ],
   "source": [
    "mia_columns(df, final)"
   ]
  },
  {
   "cell_type": "code",
   "execution_count": null,
   "metadata": {
    "collapsed": true
   },
   "outputs": [],
   "source": []
  }
 ],
 "metadata": {
  "kernelspec": {
   "display_name": "Python 3",
   "language": "python",
   "name": "python3"
  },
  "language_info": {
   "codemirror_mode": {
    "name": "ipython",
    "version": 3
   },
   "file_extension": ".py",
   "mimetype": "text/x-python",
   "name": "python",
   "nbconvert_exporter": "python",
   "pygments_lexer": "ipython3",
   "version": "3.6.3"
  }
 },
 "nbformat": 4,
 "nbformat_minor": 2
}
