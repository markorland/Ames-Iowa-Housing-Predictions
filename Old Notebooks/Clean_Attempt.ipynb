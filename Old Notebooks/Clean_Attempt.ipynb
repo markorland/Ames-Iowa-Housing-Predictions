{
 "cells": [
  {
   "cell_type": "code",
   "execution_count": 25,
   "metadata": {
    "collapsed": true
   },
   "outputs": [],
   "source": [
    "import matplotlib.pyplot as plt\n",
    "import numpy as np\n",
    "import pandas as pd\n",
    "from scipy import stats\n",
    "import seaborn as sns\n",
    "\n",
    "from sklearn.linear_model import LinearRegression, ElasticNet, ElasticNetCV\n",
    "from sklearn.model_selection import train_test_split, KFold, cross_val_score, cross_val_predict, GridSearchCV\n",
    "from sklearn.neighbors import KNeighborsClassifier\n",
    "from sklearn.preprocessing import StandardScaler\n",
    "from sklearn import metrics\n",
    "\n",
    "%matplotlib inline"
   ]
  },
  {
   "cell_type": "code",
   "execution_count": 26,
   "metadata": {
    "collapsed": true
   },
   "outputs": [],
   "source": [
    "df_data = pd.read_csv('train.csv')\n",
    "final_data = pd.read_csv('test.csv')"
   ]
  },
  {
   "cell_type": "code",
   "execution_count": 27,
   "metadata": {},
   "outputs": [],
   "source": [
    "def does_does_not(cell):\n",
    "    if cell >= 1:\n",
    "        return 1\n",
    "    else:\n",
    "        return 0\n",
    "\n",
    "def clean(df):\n",
    "    df.rename(columns= {col: col.lower().replace(' ','_') for col in df.columns}, inplace=True)\n",
    "\n",
    "    df['deck_porch'] = df['wood_deck_sf'] + df['open_porch_sf'] + df['enclosed_porch'] + df['3ssn_porch'] + df['screen_porch']\n",
    "    df['fence'] = df['fence'].notnull().astype('int')\n",
    "#     df['overall_cond_qual'] = df['overall_cond'] + df['overall_qual']\n",
    "\n",
    "    df.drop([\n",
    "    'alley', 'lot_frontage', 'mas_vnr_type', 'fireplace_qu', 'pool_qc', 'misc_feature',\n",
    "    'bsmt_qual', 'bsmt_cond', 'bsmt_exposure', 'bsmtfin_type_1', 'bsmtfin_sf_1', 'bsmtfin_type_2',\n",
    "    'bsmtfin_sf_2', 'bsmt_unf_sf', 'bsmt_full_bath', 'bsmt_half_bath',\n",
    "    'garage_type', 'garage_yr_blt', 'garage_finish', 'garage_area', 'garage_qual', 'garage_cond',\n",
    "    'wood_deck_sf', 'open_porch_sf', 'enclosed_porch', '3ssn_porch', 'screen_porch',\n",
    "#     'overall_cond', 'overall_qual'\n",
    "    ], axis=1, inplace=True)\n",
    "\n",
    "    features_replace = ['pool_area' , 'garage_cars', 'fireplaces', 'total_bsmt_sf', 'mas_vnr_area', 'deck_porch']\n",
    "    for i in features_replace:\n",
    "        df[i] = df[i].map(does_does_not)\n",
    "\n",
    "    df.rename(columns={\n",
    "    'pool_area': 'has_pool',\n",
    "    'garage_cars': 'has_garage', \n",
    "    'fireplaces': 'has_fireplace',\n",
    "    'total_bsmt_sf': 'has_bsmt',\n",
    "    'mas_vnr_area': 'has_mas_vnr',\n",
    "    'fence': 'has_fence'}, inplace=True)\n",
    "\n",
    "\n",
    "    df['lot_shape'] =df['lot_shape'].replace({'IR3':'IR2'})\n",
    "    df['condition_1'] =df['condition_1'].replace({'PosA':'Pos', 'PosN':'Pos', 'RRAe':'RRe', 'RRNe':'RRe', 'RRNn':'RRn', 'RRAn':'RRn'})\n",
    "    df['condition_2'] =df['condition_2'].replace({'PosA':'Pos', 'PosN':'Pos', 'RRAe':'RRe', 'RRNe':'RRe', 'RRNn':'RRn', 'RRAn':'RRn'})\n",
    "#     df['year_built'] = pd.to_datetime(df['year_built'], format='%Y')\n",
    "#     df['year_remod/add'] = pd.to_datetime(df['year_remod/add'], format='%Y')\n",
    "#     df['mo_sold'] = pd.to_datetime(df['mo_sold'], format='%m')\n",
    "#     df['yr_sold'] = pd.to_datetime(df['yr_sold'], format='%Y')\n",
    "    df['exter_qual'] = df['exter_qual'].replace({'Ex': 5, 'Gd': 4, 'TA': 3, 'Fa': 2, 'Po': 1})\n",
    "    df['exter_cond'] = df['exter_cond'].replace({'Ex': 5, 'Gd': 4, 'TA': 3, 'Fa': 2, 'Po': 1})\n",
    "    df['heating_qc'] = df['heating_qc'].replace({'Ex': 5, 'Gd': 4, 'TA': 3, 'Fa': 2, 'Po': 1})\n",
    "    df['electrical'] = df['electrical'].replace({'SBrkr': 5, 'FuseA': 4, 'FuseF': 3, 'FuseP': 2, 'Mix': 1})\n",
    "    df['kitchen_qual'] = df['kitchen_qual'].replace({'Ex': 5, 'Gd': 4, 'TA': 3, 'Fa': 2, 'Po': 1})\n",
    "\n",
    "    df.drop(['gr_liv_area', '2nd_flr_sf', 'bedroom_abvgr'], axis=1, inplace=True)\n",
    "\n",
    "    df = pd.get_dummies(df, columns=[\n",
    "    'neighborhood',\n",
    "    'lot_shape',\n",
    "    'ms_subclass',\n",
    "    'ms_zoning',\n",
    "    'land_contour',\n",
    "    'lot_config',\n",
    "    'utilities',\n",
    "    'land_slope',\n",
    "    'condition_1',\n",
    "    'condition_2',\n",
    "    'bldg_type',\n",
    "    'exterior_1st',\n",
    "    'exterior_2nd',\n",
    "    'foundation',\n",
    "    'heating',\n",
    "    'central_air',\n",
    "    'full_bath',\n",
    "    'half_bath',\n",
    "    'kitchen_abvgr',\n",
    "    'functional',\n",
    "    'paved_drive',\n",
    "    'sale_type',\n",
    "    'street',\n",
    "    'house_style',\n",
    "    'roof_style',\n",
    "    'roof_matl',\n",
    "    'electrical'\n",
    "    ], prefix=[\n",
    "    'n_',\n",
    "    'ls_',\n",
    "    'mssub_',\n",
    "    'mszon_',\n",
    "    'landcon_',\n",
    "    'lotfig_',\n",
    "    'ut_',\n",
    "    'landm_',\n",
    "    'cond1_',\n",
    "    'cond2_',\n",
    "    'btype_',\n",
    "    'ext1_',\n",
    "    'ext2_',\n",
    "    'found_',\n",
    "    'heat_',\n",
    "    'ac_',\n",
    "    'fb_',\n",
    "    'hb_',\n",
    "    'kita_',\n",
    "    'funct_',\n",
    "    'paved_',\n",
    "    'stype_',\n",
    "    'st_',\n",
    "    'hstyle_',\n",
    "    'rst_',\n",
    "    'rmat_',\n",
    "    'ele_'\n",
    "    ])\n",
    "    \n",
    "    return df "
   ]
  },
  {
   "cell_type": "code",
   "execution_count": 28,
   "metadata": {},
   "outputs": [],
   "source": [
    "df = clean(df_data)\n",
    "final = clean(final_data)"
   ]
  },
  {
   "cell_type": "code",
   "execution_count": 29,
   "metadata": {
    "collapsed": true
   },
   "outputs": [],
   "source": [
    "def mia_columns(df1, df2):\n",
    "    mia_df2 = list(set(df1.columns) - set(df2.columns))\n",
    "    print(mia_df2)\n",
    "    mia_df1 = list(set(df2.columns) - set(df1.columns))\n",
    "    print(mia_df1)\n",
    "    \n",
    "    for i in mia_df2:\n",
    "        df2[i] = 0\n",
    "    \n",
    "    for i in mia_df1:\n",
    "        df1[i] = 0"
   ]
  },
  {
   "cell_type": "code",
   "execution_count": null,
   "metadata": {
    "collapsed": true
   },
   "outputs": [],
   "source": [
    "# n_jobs = -1 --> split over multiple cores"
   ]
  },
  {
   "cell_type": "code",
   "execution_count": 30,
   "metadata": {},
   "outputs": [
    {
     "name": "stdout",
     "output_type": "stream",
     "text": [
      "['rmat__ClyTile', 'ele__1', 'ext1__Stone', 'ele__5', 'cond2__Artery', 'heat__OthW', 'n__GrnHill', 'sale_condition', 'saleprice', 'cond2__RRn', 'mssub__150', 'rmat__Membran', 'funct__Sev', 'heat__Wall', 'ext1__CBlock', 'ele__4', 'ext1__ImStucc', 'ele__2', 'mszon__A (agr)', 'ext2__Stone', 'ut__NoSeWa', 'n__Landmrk', 'ele__3', 'funct__Sal', 'cond2__RRe']\n",
      "['rmat__Roll', 'ele__3.0', 'ele__5.0', 'heat__Floor', 'ext1__PreCast', 'ext2__Other', 'ele__2.0', 'ele__4.0', 'rmat__Metal', 'ext2__PreCast', 'stype__VWD']\n"
     ]
    }
   ],
   "source": [
    "mia_columns(df, final)"
   ]
  },
  {
   "cell_type": "code",
   "execution_count": 31,
   "metadata": {},
   "outputs": [],
   "source": [
    "y = df['saleprice']\n",
    "X = df.drop(['id', 'pid', 'sale_condition', 'saleprice'], axis=1)\n",
    "# select all but id, pid, sale_condition, saleprice"
   ]
  },
  {
   "cell_type": "code",
   "execution_count": 32,
   "metadata": {},
   "outputs": [],
   "source": [
    "X_train, X_test, y_train, y_test = train_test_split(X, y, random_state=101)\n",
    "ss = StandardScaler()\n",
    "X_train_sc = ss.fit_transform(X_train)\n",
    "X_test_sc = ss.transform(X_test)"
   ]
  },
  {
   "cell_type": "code",
   "execution_count": 33,
   "metadata": {},
   "outputs": [
    {
     "data": {
      "text/plain": [
       "LinearRegression(copy_X=True, fit_intercept=True, n_jobs=1, normalize=False)"
      ]
     },
     "execution_count": 33,
     "metadata": {},
     "output_type": "execute_result"
    }
   ],
   "source": [
    "lr = LinearRegression()\n",
    "lr.fit(X_train_sc, y_train)"
   ]
  },
  {
   "cell_type": "code",
   "execution_count": 34,
   "metadata": {},
   "outputs": [
    {
     "name": "stdout",
     "output_type": "stream",
     "text": [
      "train 0.892002798672\n",
      "test -2.31711171869e+22\n"
     ]
    }
   ],
   "source": [
    "print('train', lr.score(X_train_sc, y_train))\n",
    "print('test', lr.score(X_test_sc, y_test))"
   ]
  },
  {
   "cell_type": "code",
   "execution_count": null,
   "metadata": {
    "collapsed": true
   },
   "outputs": [],
   "source": []
  },
  {
   "cell_type": "code",
   "execution_count": 37,
   "metadata": {},
   "outputs": [
    {
     "data": {
      "text/plain": [
       "{'alpha': 0.26000000000000012, 'l1_ratio': 0.001}"
      ]
     },
     "execution_count": 37,
     "metadata": {},
     "output_type": "execute_result"
    }
   ],
   "source": [
    "enet = ElasticNet()\n",
    "params = {\n",
    "    'alpha': np.arange(.1, .4, .005),\n",
    "    'l1_ratio': np.arange(.001, .01, .05)\n",
    "}\n",
    "gs = GridSearchCV(enet, params, n_jobs=-1)\n",
    "gs.fit(X_train_sc, y_train)\n",
    "gs.best_params_"
   ]
  },
  {
   "cell_type": "code",
   "execution_count": 38,
   "metadata": {},
   "outputs": [
    {
     "data": {
      "text/plain": [
       "0.85969130329704457"
      ]
     },
     "execution_count": 38,
     "metadata": {},
     "output_type": "execute_result"
    }
   ],
   "source": [
    "gs.score(X_test_sc, y_test)"
   ]
  },
  {
   "cell_type": "code",
   "execution_count": 39,
   "metadata": {},
   "outputs": [
    {
     "name": "stderr",
     "output_type": "stream",
     "text": [
      "C:\\Users\\Mark\\Anaconda3\\lib\\site-packages\\sklearn\\utils\\deprecation.py:122: FutureWarning: You are accessing a training score ('mean_train_score'), which will not be available by default any more in 0.21. If you need training scores, please set return_train_score=True\n",
      "  warnings.warn(*warn_args, **warn_kwargs)\n",
      "C:\\Users\\Mark\\Anaconda3\\lib\\site-packages\\sklearn\\utils\\deprecation.py:122: FutureWarning: You are accessing a training score ('split0_train_score'), which will not be available by default any more in 0.21. If you need training scores, please set return_train_score=True\n",
      "  warnings.warn(*warn_args, **warn_kwargs)\n",
      "C:\\Users\\Mark\\Anaconda3\\lib\\site-packages\\sklearn\\utils\\deprecation.py:122: FutureWarning: You are accessing a training score ('split1_train_score'), which will not be available by default any more in 0.21. If you need training scores, please set return_train_score=True\n",
      "  warnings.warn(*warn_args, **warn_kwargs)\n",
      "C:\\Users\\Mark\\Anaconda3\\lib\\site-packages\\sklearn\\utils\\deprecation.py:122: FutureWarning: You are accessing a training score ('split2_train_score'), which will not be available by default any more in 0.21. If you need training scores, please set return_train_score=True\n",
      "  warnings.warn(*warn_args, **warn_kwargs)\n",
      "C:\\Users\\Mark\\Anaconda3\\lib\\site-packages\\sklearn\\utils\\deprecation.py:122: FutureWarning: You are accessing a training score ('std_train_score'), which will not be available by default any more in 0.21. If you need training scores, please set return_train_score=True\n",
      "  warnings.warn(*warn_args, **warn_kwargs)\n"
     ]
    },
    {
     "data": {
      "text/html": [
       "<div>\n",
       "<style>\n",
       "    .dataframe thead tr:only-child th {\n",
       "        text-align: right;\n",
       "    }\n",
       "\n",
       "    .dataframe thead th {\n",
       "        text-align: left;\n",
       "    }\n",
       "\n",
       "    .dataframe tbody tr th {\n",
       "        vertical-align: top;\n",
       "    }\n",
       "</style>\n",
       "<table border=\"1\" class=\"dataframe\">\n",
       "  <thead>\n",
       "    <tr style=\"text-align: right;\">\n",
       "      <th></th>\n",
       "      <th>mean_fit_time</th>\n",
       "      <th>mean_score_time</th>\n",
       "      <th>mean_test_score</th>\n",
       "      <th>mean_train_score</th>\n",
       "      <th>param_alpha</th>\n",
       "      <th>param_l1_ratio</th>\n",
       "      <th>params</th>\n",
       "      <th>rank_test_score</th>\n",
       "      <th>split0_test_score</th>\n",
       "      <th>split0_train_score</th>\n",
       "      <th>split1_test_score</th>\n",
       "      <th>split1_train_score</th>\n",
       "      <th>split2_test_score</th>\n",
       "      <th>split2_train_score</th>\n",
       "      <th>std_fit_time</th>\n",
       "      <th>std_score_time</th>\n",
       "      <th>std_test_score</th>\n",
       "      <th>std_train_score</th>\n",
       "    </tr>\n",
       "  </thead>\n",
       "  <tbody>\n",
       "    <tr>\n",
       "      <th>32</th>\n",
       "      <td>0.050467</td>\n",
       "      <td>0.002005</td>\n",
       "      <td>0.830379</td>\n",
       "      <td>0.886592</td>\n",
       "      <td>0.26</td>\n",
       "      <td>0.001</td>\n",
       "      <td>{'alpha': 0.26, 'l1_ratio': 0.001}</td>\n",
       "      <td>1</td>\n",
       "      <td>0.856013</td>\n",
       "      <td>0.883818</td>\n",
       "      <td>0.849460</td>\n",
       "      <td>0.882883</td>\n",
       "      <td>0.785576</td>\n",
       "      <td>0.893074</td>\n",
       "      <td>0.002632</td>\n",
       "      <td>0.001638</td>\n",
       "      <td>0.031762</td>\n",
       "      <td>0.004599</td>\n",
       "    </tr>\n",
       "    <tr>\n",
       "      <th>31</th>\n",
       "      <td>0.051136</td>\n",
       "      <td>0.001337</td>\n",
       "      <td>0.830377</td>\n",
       "      <td>0.886852</td>\n",
       "      <td>0.255</td>\n",
       "      <td>0.001</td>\n",
       "      <td>{'alpha': 0.255, 'l1_ratio': 0.001}</td>\n",
       "      <td>2</td>\n",
       "      <td>0.856038</td>\n",
       "      <td>0.884091</td>\n",
       "      <td>0.849520</td>\n",
       "      <td>0.883169</td>\n",
       "      <td>0.785485</td>\n",
       "      <td>0.893296</td>\n",
       "      <td>0.002165</td>\n",
       "      <td>0.000945</td>\n",
       "      <td>0.031824</td>\n",
       "      <td>0.004572</td>\n",
       "    </tr>\n",
       "    <tr>\n",
       "      <th>33</th>\n",
       "      <td>0.054478</td>\n",
       "      <td>0.001338</td>\n",
       "      <td>0.830376</td>\n",
       "      <td>0.886332</td>\n",
       "      <td>0.265</td>\n",
       "      <td>0.001</td>\n",
       "      <td>{'alpha': 0.265, 'l1_ratio': 0.001}</td>\n",
       "      <td>3</td>\n",
       "      <td>0.855982</td>\n",
       "      <td>0.883546</td>\n",
       "      <td>0.849396</td>\n",
       "      <td>0.882598</td>\n",
       "      <td>0.785662</td>\n",
       "      <td>0.892852</td>\n",
       "      <td>0.003692</td>\n",
       "      <td>0.000472</td>\n",
       "      <td>0.031701</td>\n",
       "      <td>0.004626</td>\n",
       "    </tr>\n",
       "    <tr>\n",
       "      <th>30</th>\n",
       "      <td>0.051137</td>\n",
       "      <td>0.001337</td>\n",
       "      <td>0.830370</td>\n",
       "      <td>0.887112</td>\n",
       "      <td>0.25</td>\n",
       "      <td>0.001</td>\n",
       "      <td>{'alpha': 0.25, 'l1_ratio': 0.001}</td>\n",
       "      <td>4</td>\n",
       "      <td>0.856060</td>\n",
       "      <td>0.884363</td>\n",
       "      <td>0.849575</td>\n",
       "      <td>0.883454</td>\n",
       "      <td>0.785387</td>\n",
       "      <td>0.893518</td>\n",
       "      <td>0.005114</td>\n",
       "      <td>0.000473</td>\n",
       "      <td>0.031887</td>\n",
       "      <td>0.004545</td>\n",
       "    </tr>\n",
       "    <tr>\n",
       "      <th>34</th>\n",
       "      <td>0.049799</td>\n",
       "      <td>0.001671</td>\n",
       "      <td>0.830368</td>\n",
       "      <td>0.886072</td>\n",
       "      <td>0.27</td>\n",
       "      <td>0.001</td>\n",
       "      <td>{'alpha': 0.27, 'l1_ratio': 0.001}</td>\n",
       "      <td>5</td>\n",
       "      <td>0.855947</td>\n",
       "      <td>0.883273</td>\n",
       "      <td>0.849328</td>\n",
       "      <td>0.882313</td>\n",
       "      <td>0.785742</td>\n",
       "      <td>0.892629</td>\n",
       "      <td>0.002501</td>\n",
       "      <td>0.000473</td>\n",
       "      <td>0.031640</td>\n",
       "      <td>0.004653</td>\n",
       "    </tr>\n",
       "  </tbody>\n",
       "</table>\n",
       "</div>"
      ],
      "text/plain": [
       "    mean_fit_time  mean_score_time  mean_test_score  mean_train_score  \\\n",
       "32       0.050467         0.002005         0.830379          0.886592   \n",
       "31       0.051136         0.001337         0.830377          0.886852   \n",
       "33       0.054478         0.001338         0.830376          0.886332   \n",
       "30       0.051137         0.001337         0.830370          0.887112   \n",
       "34       0.049799         0.001671         0.830368          0.886072   \n",
       "\n",
       "   param_alpha param_l1_ratio                               params  \\\n",
       "32        0.26          0.001   {'alpha': 0.26, 'l1_ratio': 0.001}   \n",
       "31       0.255          0.001  {'alpha': 0.255, 'l1_ratio': 0.001}   \n",
       "33       0.265          0.001  {'alpha': 0.265, 'l1_ratio': 0.001}   \n",
       "30        0.25          0.001   {'alpha': 0.25, 'l1_ratio': 0.001}   \n",
       "34        0.27          0.001   {'alpha': 0.27, 'l1_ratio': 0.001}   \n",
       "\n",
       "    rank_test_score  split0_test_score  split0_train_score  split1_test_score  \\\n",
       "32                1           0.856013            0.883818           0.849460   \n",
       "31                2           0.856038            0.884091           0.849520   \n",
       "33                3           0.855982            0.883546           0.849396   \n",
       "30                4           0.856060            0.884363           0.849575   \n",
       "34                5           0.855947            0.883273           0.849328   \n",
       "\n",
       "    split1_train_score  split2_test_score  split2_train_score  std_fit_time  \\\n",
       "32            0.882883           0.785576            0.893074      0.002632   \n",
       "31            0.883169           0.785485            0.893296      0.002165   \n",
       "33            0.882598           0.785662            0.892852      0.003692   \n",
       "30            0.883454           0.785387            0.893518      0.005114   \n",
       "34            0.882313           0.785742            0.892629      0.002501   \n",
       "\n",
       "    std_score_time  std_test_score  std_train_score  \n",
       "32        0.001638        0.031762         0.004599  \n",
       "31        0.000945        0.031824         0.004572  \n",
       "33        0.000472        0.031701         0.004626  \n",
       "30        0.000473        0.031887         0.004545  \n",
       "34        0.000473        0.031640         0.004653  "
      ]
     },
     "execution_count": 39,
     "metadata": {},
     "output_type": "execute_result"
    }
   ],
   "source": [
    "pd.DataFrame(gs.cv_results_).sort_values(by='rank_test_score').head()"
   ]
  },
  {
   "cell_type": "code",
   "execution_count": 40,
   "metadata": {
    "collapsed": true
   },
   "outputs": [],
   "source": [
    "# X_final = final.drop(['id', 'pid', 'sale_condition', 'saleprice'], axis=1)\n",
    "# X_final_sc = ss.transform(X_final)\n",
    "# predictions = gs.predict(X_final_sc)"
   ]
  },
  {
   "cell_type": "code",
   "execution_count": 41,
   "metadata": {},
   "outputs": [],
   "source": [
    "# final['SalePrice'] = predictions\n",
    "# final[['id','SalePrice']].to_csv('export_clean_attempt2.csv', index=False)"
   ]
  },
  {
   "cell_type": "code",
   "execution_count": null,
   "metadata": {
    "collapsed": true
   },
   "outputs": [],
   "source": []
  },
  {
   "cell_type": "markdown",
   "metadata": {},
   "source": [
    "## Testing Decision Tree"
   ]
  },
  {
   "cell_type": "code",
   "execution_count": 22,
   "metadata": {
    "collapsed": true
   },
   "outputs": [],
   "source": [
    "from sklearn.tree import DecisionTreeRegressor"
   ]
  },
  {
   "cell_type": "code",
   "execution_count": 71,
   "metadata": {},
   "outputs": [
    {
     "data": {
      "text/plain": [
       "{'max_depth': 4, 'max_features': 'log2'}"
      ]
     },
     "execution_count": 71,
     "metadata": {},
     "output_type": "execute_result"
    }
   ],
   "source": [
    "dtr = DecisionTreeRegressor(random_state=101)\n",
    "dtr.fit(X_train_sc, y_train)\n",
    "params = {\n",
    "    'max_depth': np.arange(1, 6, 1),\n",
    "    'max_features': [1, 4, 'sqrt', 'log2']\n",
    "}\n",
    "gs = GridSearchCV(dtr, params, n_jobs=-1)\n",
    "gs.fit(X_train_sc, y_train)\n",
    "gs.best_params_\n",
    "\n",
    "\n",
    "\n",
    "# max_depth grid search over\n",
    "# max_features \n",
    "\n",
    "# possibly try ensambling trees"
   ]
  },
  {
   "cell_type": "code",
   "execution_count": 72,
   "metadata": {},
   "outputs": [
    {
     "data": {
      "text/plain": [
       "0.49367651000132406"
      ]
     },
     "execution_count": 72,
     "metadata": {},
     "output_type": "execute_result"
    }
   ],
   "source": [
    "gs.score(X_test_sc, y_test)"
   ]
  },
  {
   "cell_type": "code",
   "execution_count": 73,
   "metadata": {
    "scrolled": true
   },
   "outputs": [
    {
     "data": {
      "text/plain": [
       "0.51339071915400081"
      ]
     },
     "execution_count": 73,
     "metadata": {},
     "output_type": "execute_result"
    }
   ],
   "source": [
    "gs.score(X_train_sc, y_train)"
   ]
  },
  {
   "cell_type": "code",
   "execution_count": null,
   "metadata": {
    "collapsed": true
   },
   "outputs": [],
   "source": []
  },
  {
   "cell_type": "code",
   "execution_count": null,
   "metadata": {
    "collapsed": true
   },
   "outputs": [],
   "source": []
  },
  {
   "cell_type": "code",
   "execution_count": 80,
   "metadata": {},
   "outputs": [],
   "source": [
    "# X_final = final.drop(['id', 'pid', 'sale_condition', 'saleprice', 'SalePrice'], axis=1)\n",
    "# X_final_sc = ss.transform(X_final)\n",
    "# predictions = gs.predict(X_final_sc)"
   ]
  },
  {
   "cell_type": "code",
   "execution_count": 81,
   "metadata": {
    "collapsed": true
   },
   "outputs": [],
   "source": [
    "# final['SalePrice'] = predictions\n",
    "# final[['id','SalePrice']].to_csv('export_dtree.csv', index=False)"
   ]
  },
  {
   "cell_type": "code",
   "execution_count": null,
   "metadata": {
    "collapsed": true
   },
   "outputs": [],
   "source": []
  },
  {
   "cell_type": "markdown",
   "metadata": {},
   "source": [
    "## Random Forest"
   ]
  },
  {
   "cell_type": "code",
   "execution_count": 67,
   "metadata": {
    "collapsed": true
   },
   "outputs": [],
   "source": [
    "from sklearn.ensemble import RandomForestRegressor"
   ]
  },
  {
   "cell_type": "code",
   "execution_count": 91,
   "metadata": {},
   "outputs": [
    {
     "data": {
      "text/plain": [
       "{'criterion': 'mse', 'max_depth': 5, 'max_features': 'sqrt'}"
      ]
     },
     "execution_count": 91,
     "metadata": {},
     "output_type": "execute_result"
    }
   ],
   "source": [
    "rf = RandomForestRegressor(random_state=101)\n",
    "\n",
    "rf.fit(X_train_sc, y_train)\n",
    "params = {\n",
    "#     'criterion': ['mse', 'mae'],\n",
    "    'max_depth': np.arange(1, 6, 1),\n",
    "    'max_features': [1, 4, 'sqrt', 'log2']\n",
    "}\n",
    "gs = GridSearchCV(rf, params, n_jobs=-1)\n",
    "gs.fit(X_train_sc, y_train)\n",
    "gs.best_params_"
   ]
  },
  {
   "cell_type": "code",
   "execution_count": 92,
   "metadata": {},
   "outputs": [
    {
     "data": {
      "text/plain": [
       "0.7113133578831945"
      ]
     },
     "execution_count": 92,
     "metadata": {},
     "output_type": "execute_result"
    }
   ],
   "source": [
    "gs.score(X_test_sc, y_test)\n",
    "# 0.7113133578831945"
   ]
  },
  {
   "cell_type": "code",
   "execution_count": 93,
   "metadata": {},
   "outputs": [
    {
     "data": {
      "text/plain": [
       "0.73776835169906929"
      ]
     },
     "execution_count": 93,
     "metadata": {},
     "output_type": "execute_result"
    }
   ],
   "source": [
    "gs.score(X_train_sc, y_train)\n",
    "# 0.73776835169906929"
   ]
  },
  {
   "cell_type": "code",
   "execution_count": 88,
   "metadata": {
    "collapsed": true
   },
   "outputs": [],
   "source": [
    "# X_final = final.drop(['id', 'pid', 'sale_condition', 'saleprice', 'SalePrice'], axis=1)\n",
    "# X_final_sc = ss.transform(X_final)\n",
    "# predictions = gs.predict(X_final_sc)"
   ]
  },
  {
   "cell_type": "code",
   "execution_count": 89,
   "metadata": {
    "collapsed": true
   },
   "outputs": [],
   "source": [
    "# final['SalePrice'] = predictions\n",
    "# final[['id','SalePrice']].to_csv('export_rf.csv', index=False)"
   ]
  },
  {
   "cell_type": "code",
   "execution_count": null,
   "metadata": {
    "collapsed": true
   },
   "outputs": [],
   "source": []
  },
  {
   "cell_type": "markdown",
   "metadata": {},
   "source": [
    "## Gradient Boosting"
   ]
  },
  {
   "cell_type": "code",
   "execution_count": 94,
   "metadata": {
    "collapsed": true
   },
   "outputs": [],
   "source": [
    "from sklearn.ensemble import GradientBoostingRegressor"
   ]
  },
  {
   "cell_type": "code",
   "execution_count": 113,
   "metadata": {},
   "outputs": [
    {
     "data": {
      "text/plain": [
       "{'criterion': 'mae',\n",
       " 'loss': 'huber',\n",
       " 'max_depth': 5,\n",
       " 'max_features': 'log2',\n",
       " 'n_estimators': 1000}"
      ]
     },
     "execution_count": 113,
     "metadata": {},
     "output_type": "execute_result"
    }
   ],
   "source": [
    "gb = GradientBoostingRegressor(random_state=101)\n",
    "\n",
    "gb.fit(X_train_sc, y_train)\n",
    "params = {\n",
    "    'loss': ['huber'], #['ls', 'lad', 'huber', 'quantile']\n",
    "    'max_depth': np.arange(4, 6, 1),\n",
    "    'criterion': ['mae'], #['mse', 'mae', 'friedman_mse']\n",
    "    'max_features': [1, 4, 'sqrt', 'log2'],\n",
    "    'n_estimators': [300, 500, 1000]\n",
    "}\n",
    "gs = GridSearchCV(gb, params, n_jobs=-1)\n",
    "gs.fit(X_train_sc, y_train)\n",
    "gs.best_params_"
   ]
  },
  {
   "cell_type": "code",
   "execution_count": 114,
   "metadata": {},
   "outputs": [
    {
     "data": {
      "text/plain": [
       "0.90790961372937073"
      ]
     },
     "execution_count": 114,
     "metadata": {},
     "output_type": "execute_result"
    }
   ],
   "source": [
    "gs.score(X_test_sc, y_test)\n",
    "# plain 0.90252878976979123\n",
    "# huber 0.89292379875671601\n",
    "# {'loss': 'huber', 'max_depth': 5} 0.90589232431861111\n",
    "# {'criterion': 'mae', 'loss': 'huber', 'max_depth': 3} 0.90597834698026458\n",
    "# {'criterion': 'mae', 'loss': 'huber', 'max_depth': 5, 'max_features': 'sqrt'} 0.9045417183283615\n",
    "# {'criterion': 'mae',\n",
    "# 'loss': 'huber', 'max_depth': 5, 'max_features': 'log2', 'n_estimators': 300} 0.90794842532518771\n",
    "# {'criterion': 'mae', 'loss': 'huber', 'max_depth': 5, 'max_features': 'log2', 'n_estimators': 1000} 0.90790961372937073"
   ]
  },
  {
   "cell_type": "code",
   "execution_count": 115,
   "metadata": {},
   "outputs": [
    {
     "data": {
      "text/plain": [
       "0.98467198273141898"
      ]
     },
     "execution_count": 115,
     "metadata": {},
     "output_type": "execute_result"
    }
   ],
   "source": [
    "gs.score(X_train_sc, y_train)\n",
    "# 0.93918822856034878\n",
    "# 0.9309919929623941\n",
    "# 0.97217982680214243\n",
    "# 0.92993912736295514\n",
    "# 0.94199221769889019\n",
    "# 0.96241756998979489\n",
    "# 0.98467198273141898"
   ]
  },
  {
   "cell_type": "code",
   "execution_count": 116,
   "metadata": {
    "collapsed": true
   },
   "outputs": [],
   "source": [
    "# X_final = final.drop(['id', 'pid', 'sale_condition', 'saleprice', 'SalePrice'], axis=1)\n",
    "# X_final_sc = ss.transform(X_final)\n",
    "# predictions = gs.predict(X_final_sc)"
   ]
  },
  {
   "cell_type": "code",
   "execution_count": 117,
   "metadata": {
    "collapsed": true
   },
   "outputs": [],
   "source": [
    "# final['SalePrice'] = predictions\n",
    "# final[['id','SalePrice']].to_csv('export_gb.csv', index=False)"
   ]
  },
  {
   "cell_type": "code",
   "execution_count": null,
   "metadata": {
    "collapsed": true
   },
   "outputs": [],
   "source": []
  },
  {
   "cell_type": "markdown",
   "metadata": {},
   "source": [
    "## SVR"
   ]
  },
  {
   "cell_type": "code",
   "execution_count": 118,
   "metadata": {
    "collapsed": true
   },
   "outputs": [],
   "source": [
    "from sklearn.svm import SVR"
   ]
  },
  {
   "cell_type": "code",
   "execution_count": 141,
   "metadata": {},
   "outputs": [
    {
     "data": {
      "text/plain": [
       "{'C': 20, 'degree': 3, 'kernel': 'linear'}"
      ]
     },
     "execution_count": 141,
     "metadata": {},
     "output_type": "execute_result"
    }
   ],
   "source": [
    "svr = SVR()\n",
    "\n",
    "gb.fit(X_train_sc, y_train)\n",
    "params = {\n",
    "    'kernel': ['linear'],\n",
    "    'degree': [3],\n",
    "    'C': [10, 15, 20],\n",
    "}\n",
    "gs = GridSearchCV(svr, params, n_jobs=-1)\n",
    "gs.fit(X_train_sc, y_train)\n",
    "gs.best_params_"
   ]
  },
  {
   "cell_type": "code",
   "execution_count": 142,
   "metadata": {},
   "outputs": [
    {
     "data": {
      "text/plain": [
       "0.76676970456362969"
      ]
     },
     "execution_count": 142,
     "metadata": {},
     "output_type": "execute_result"
    }
   ],
   "source": [
    "gs.score(X_test_sc, y_test)\n",
    "# -0.061633291974839681\n",
    "# linear 0.16649637247328819\n",
    "# c=3 0.41431378303430599"
   ]
  },
  {
   "cell_type": "code",
   "execution_count": 143,
   "metadata": {},
   "outputs": [
    {
     "data": {
      "text/plain": [
       "0.77592513773713501"
      ]
     },
     "execution_count": 143,
     "metadata": {},
     "output_type": "execute_result"
    }
   ],
   "source": [
    "gs.score(X_train_sc, y_train)\n",
    "# -0.053018817800281282\n",
    "# 0.17806148048421822\n",
    "# 0.42678741656518404"
   ]
  },
  {
   "cell_type": "code",
   "execution_count": 144,
   "metadata": {
    "collapsed": true
   },
   "outputs": [],
   "source": [
    "# X_final = final.drop(['id', 'pid', 'sale_condition', 'saleprice', 'SalePrice'], axis=1)\n",
    "# X_final_sc = ss.transform(X_final)\n",
    "# predictions = gs.predict(X_final_sc)"
   ]
  },
  {
   "cell_type": "code",
   "execution_count": 145,
   "metadata": {
    "collapsed": true
   },
   "outputs": [],
   "source": [
    "# final['SalePrice'] = predictions\n",
    "# final[['id','SalePrice']].to_csv('export_svr2.csv', index=False)"
   ]
  },
  {
   "cell_type": "code",
   "execution_count": null,
   "metadata": {},
   "outputs": [],
   "source": []
  },
  {
   "cell_type": "markdown",
   "metadata": {},
   "source": [
    "## KNN"
   ]
  },
  {
   "cell_type": "code",
   "execution_count": 147,
   "metadata": {
    "collapsed": true
   },
   "outputs": [],
   "source": [
    "from sklearn.neighbors import KNeighborsRegressor"
   ]
  },
  {
   "cell_type": "code",
   "execution_count": 161,
   "metadata": {},
   "outputs": [
    {
     "data": {
      "text/plain": [
       "{'algorithm': 'auto', 'n_neighbors': 8, 'weights': 'distance'}"
      ]
     },
     "execution_count": 161,
     "metadata": {},
     "output_type": "execute_result"
    }
   ],
   "source": [
    "knn = KNeighborsRegressor()\n",
    "\n",
    "gb.fit(X_train_sc, y_train)\n",
    "params = {\n",
    "    'n_neighbors': np.arange(7, 10, 1),\n",
    "    'weights': ['uniform', 'distance'],\n",
    "    'algorithm': ['auto', 'ball_tree', 'kd_tree', 'brute']\n",
    "}\n",
    "gs = GridSearchCV(knn, params, n_jobs=-1)\n",
    "gs.fit(X_train_sc, y_train)\n",
    "gs.best_params_"
   ]
  },
  {
   "cell_type": "code",
   "execution_count": 162,
   "metadata": {},
   "outputs": [
    {
     "data": {
      "text/plain": [
       "0.77611852510862611"
      ]
     },
     "execution_count": 162,
     "metadata": {},
     "output_type": "execute_result"
    }
   ],
   "source": [
    "gs.score(X_test_sc, y_test)\n",
    "# 0.7484117445075622"
   ]
  },
  {
   "cell_type": "code",
   "execution_count": 163,
   "metadata": {},
   "outputs": [
    {
     "data": {
      "text/plain": [
       "0.99999909579182777"
      ]
     },
     "execution_count": 163,
     "metadata": {},
     "output_type": "execute_result"
    }
   ],
   "source": [
    "gs.score(X_train_sc, y_train)\n",
    "# 0.81229272409369702"
   ]
  },
  {
   "cell_type": "code",
   "execution_count": 152,
   "metadata": {
    "collapsed": true
   },
   "outputs": [],
   "source": [
    "# X_final = final.drop(['id', 'pid', 'sale_condition', 'saleprice', 'SalePrice'], axis=1)\n",
    "# X_final_sc = ss.transform(X_final)\n",
    "# predictions = gs.predict(X_final_sc)"
   ]
  },
  {
   "cell_type": "code",
   "execution_count": 153,
   "metadata": {
    "collapsed": true
   },
   "outputs": [],
   "source": [
    "# final['SalePrice'] = predictions\n",
    "# final[['id','SalePrice']].to_csv('export_knn2.csv', index=False)"
   ]
  },
  {
   "cell_type": "code",
   "execution_count": null,
   "metadata": {
    "collapsed": true
   },
   "outputs": [],
   "source": []
  }
 ],
 "metadata": {
  "kernelspec": {
   "display_name": "Python 3",
   "language": "python",
   "name": "python3"
  },
  "language_info": {
   "codemirror_mode": {
    "name": "ipython",
    "version": 3
   },
   "file_extension": ".py",
   "mimetype": "text/x-python",
   "name": "python",
   "nbconvert_exporter": "python",
   "pygments_lexer": "ipython3",
   "version": "3.6.3"
  }
 },
 "nbformat": 4,
 "nbformat_minor": 2
}
