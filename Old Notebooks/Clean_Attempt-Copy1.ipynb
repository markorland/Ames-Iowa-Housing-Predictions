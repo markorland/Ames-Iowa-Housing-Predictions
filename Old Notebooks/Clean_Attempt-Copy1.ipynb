{
 "cells": [
  {
   "cell_type": "code",
   "execution_count": 1,
   "metadata": {
    "collapsed": true
   },
   "outputs": [],
   "source": [
    "import matplotlib.pyplot as plt\n",
    "import numpy as np\n",
    "import pandas as pd\n",
    "from scipy import stats\n",
    "import seaborn as sns\n",
    "\n",
    "from sklearn.linear_model import LinearRegression, ElasticNet, ElasticNetCV\n",
    "from sklearn.model_selection import train_test_split, KFold, cross_val_score, cross_val_predict, GridSearchCV\n",
    "from sklearn.neighbors import KNeighborsClassifier\n",
    "from sklearn.preprocessing import StandardScaler\n",
    "from sklearn import metrics\n",
    "\n",
    "%matplotlib inline"
   ]
  },
  {
   "cell_type": "code",
   "execution_count": 218,
   "metadata": {
    "collapsed": true
   },
   "outputs": [],
   "source": [
    "df_data = pd.read_csv('train.csv')\n",
    "final_data = pd.read_csv('test.csv')"
   ]
  },
  {
   "cell_type": "code",
   "execution_count": 219,
   "metadata": {
    "collapsed": true
   },
   "outputs": [],
   "source": [
    "def does_does_not(cell):\n",
    "    if cell >= 1:\n",
    "        return 1\n",
    "    else:\n",
    "        return 0\n",
    "\n",
    "def clean(df):\n",
    "    # CLEAN COL NAMES\n",
    "    df.rename(columns= {col: col.lower().replace(' ','_') for col in df.columns}, inplace=True)\n",
    "    \n",
    "#     df = df.loc[df['gr_liv_area'] < 4000].copy()\n",
    "\n",
    "    # CREATION OF DECK/PROCH COLUMN AND SETTING FENCE TO INT\n",
    "    df['deck_porch'] = df['wood_deck_sf'] + df['open_porch_sf'] + df['enclosed_porch'] + df['3ssn_porch'] + df['screen_porch']\n",
    "    df['fence'] = df['fence'].notnull().astype('int')\n",
    "#     df['overall_cond_qual'] = df['overall_cond'] + df['overall_qual']\n",
    "\n",
    "    # DROPPING COLUMS THAT ARE GOING TO BE BINARY\n",
    "    df.drop([\n",
    "    'alley', 'lot_frontage', 'mas_vnr_type', 'fireplace_qu', 'pool_qc', 'misc_feature',\n",
    "    'bsmt_qual', 'bsmt_cond', 'bsmt_exposure', 'bsmtfin_type_1', 'bsmtfin_sf_1', 'bsmtfin_type_2',\n",
    "    'bsmtfin_sf_2', 'bsmt_unf_sf', 'bsmt_full_bath', 'bsmt_half_bath',\n",
    "    'garage_type', 'garage_yr_blt', 'garage_finish', 'garage_area', 'garage_qual', 'garage_cond',\n",
    "    'wood_deck_sf', 'open_porch_sf', 'enclosed_porch', '3ssn_porch', 'screen_porch',\n",
    "#     'overall_cond', 'overall_qual'\n",
    "    ], axis=1, inplace=True)\n",
    "\n",
    "    # MAKING COLUMNS BINARY\n",
    "    features_replace = ['pool_area' , 'garage_cars', 'fireplaces', 'mas_vnr_area', 'deck_porch'] # 'total_bsmt_sf', \n",
    "    for i in features_replace:\n",
    "        df[i] = df[i].map(does_does_not)\n",
    "\n",
    "    # RENAMING BINARY COLUMNS\n",
    "    df.rename(columns={\n",
    "    'pool_area': 'has_pool',\n",
    "    'garage_cars': 'has_garage', \n",
    "    'fireplaces': 'has_fireplace',\n",
    "#     'total_bsmt_sf': 'has_bsmt',\n",
    "    'mas_vnr_area': 'has_mas_vnr',\n",
    "    'fence': 'has_fence'}, inplace=True)\n",
    "\n",
    "\n",
    "    # COMBINING SIMILAR/SAMLL VALES\n",
    "    df['lot_shape'] =df['lot_shape'].replace({'IR3':'IR2'})\n",
    "    df['condition_1'] =df['condition_1'].replace({'PosA':'Pos', 'PosN':'Pos', 'RRAe':'RRe', 'RRNe':'RRe', 'RRNn':'RRn', 'RRAn':'RRn'})\n",
    "    df['condition_2'] =df['condition_2'].replace({'PosA':'Pos', 'PosN':'Pos', 'RRAe':'RRe', 'RRNe':'RRe', 'RRNn':'RRn', 'RRAn':'RRn'})\n",
    "#     df['year_built'] = pd.to_datetime(df['year_built'], format='%Y')\n",
    "#     df['year_remod/add'] = pd.to_datetime(df['year_remod/add'], format='%Y')\n",
    "#     df['mo_sold'] = pd.to_datetime(df['mo_sold'], format='%m')\n",
    "#     df['yr_sold'] = pd.to_datetime(df['yr_sold'], format='%Y')\n",
    "    \n",
    "    # CATEROGRY TO NUMBERICAL\n",
    "    df['exter_qual'] = df['exter_qual'].replace({'Ex': 5, 'Gd': 4, 'TA': 3, 'Fa': 2, 'Po': 1})\n",
    "    df['exter_cond'] = df['exter_cond'].replace({'Ex': 5, 'Gd': 4, 'TA': 3, 'Fa': 2, 'Po': 1})\n",
    "    df['heating_qc'] = df['heating_qc'].replace({'Ex': 5, 'Gd': 4, 'TA': 3, 'Fa': 2, 'Po': 1})\n",
    "    df['electrical'] = df['electrical'].replace({'SBrkr': 5, 'FuseA': 4, 'FuseF': 3, 'FuseP': 2, 'Mix': 1})\n",
    "    df['kitchen_qual'] = df['kitchen_qual'].replace({'Ex': 5, 'Gd': 4, 'TA': 3, 'Fa': 2, 'Po': 1})\n",
    "\n",
    "    # DROPPING SIMILAR COLUMNS\n",
    "    df.drop(['1st_flr_sf', '2nd_flr_sf', 'bedroom_abvgr'], axis=1, inplace=True) # , 'gr_liv_area'\n",
    "\n",
    "    # DUMMIES FOR CAT COLUMNS\n",
    "    df = pd.get_dummies(df, columns=[\n",
    "    'neighborhood',\n",
    "    'lot_shape',\n",
    "    'ms_subclass',\n",
    "    'ms_zoning',\n",
    "    'land_contour',\n",
    "    'lot_config',\n",
    "    'utilities',\n",
    "    'land_slope',\n",
    "    'condition_1',\n",
    "    'condition_2',\n",
    "    'bldg_type',\n",
    "    'exterior_1st',\n",
    "    'exterior_2nd',\n",
    "    'foundation',\n",
    "    'heating',\n",
    "    'central_air',\n",
    "    'full_bath',\n",
    "    'half_bath',\n",
    "    'kitchen_abvgr',\n",
    "    'functional',\n",
    "    'paved_drive',\n",
    "    'sale_type',\n",
    "    'street',\n",
    "    'house_style',\n",
    "    'roof_style',\n",
    "    'roof_matl',\n",
    "    'electrical'\n",
    "    ], prefix=[\n",
    "    'n_',\n",
    "    'ls_',\n",
    "    'mssub_',\n",
    "    'mszon_',\n",
    "    'landcon_',\n",
    "    'lotfig_',\n",
    "    'ut_',\n",
    "    'landm_',\n",
    "    'cond1_',\n",
    "    'cond2_',\n",
    "    'btype_',\n",
    "    'ext1_',\n",
    "    'ext2_',\n",
    "    'found_',\n",
    "    'heat_',\n",
    "    'ac_',\n",
    "    'fb_',\n",
    "    'hb_',\n",
    "    'kita_',\n",
    "    'funct_',\n",
    "    'paved_',\n",
    "    'stype_',\n",
    "    'st_',\n",
    "    'hstyle_',\n",
    "    'rst_',\n",
    "    'rmat_',\n",
    "    'ele_'\n",
    "    ])\n",
    "    \n",
    "    return df "
   ]
  },
  {
   "cell_type": "code",
   "execution_count": null,
   "metadata": {
    "collapsed": true
   },
   "outputs": [],
   "source": []
  },
  {
   "cell_type": "code",
   "execution_count": 220,
   "metadata": {},
   "outputs": [],
   "source": [
    "df = clean(df_data)\n",
    "final = clean(final_data)\n",
    "df = df.loc[df['gr_liv_area'] < 4000].copy()"
   ]
  },
  {
   "cell_type": "code",
   "execution_count": 221,
   "metadata": {
    "collapsed": true
   },
   "outputs": [],
   "source": [
    "def mia_columns(df1, df2):\n",
    "    mia_df2 = list(set(df1.columns) - set(df2.columns))\n",
    "    print(mia_df2)\n",
    "    mia_df1 = list(set(df2.columns) - set(df1.columns))\n",
    "    print(mia_df1)\n",
    "    \n",
    "    for i in mia_df2:\n",
    "        df2[i] = 0\n",
    "    \n",
    "    for i in mia_df1:\n",
    "        df2.drop([i], axis=1, inplace=True)\n",
    "    \n",
    "    df1['total_bsmt_sf'].fillna(0, inplace=True)\n",
    "    df2['total_bsmt_sf'].fillna(0, inplace=True)"
   ]
  },
  {
   "cell_type": "code",
   "execution_count": 222,
   "metadata": {},
   "outputs": [
    {
     "name": "stdout",
     "output_type": "stream",
     "text": [
      "['mszon__A (agr)', 'saleprice', 'n__Landmrk', 'ele__5', 'ut__NoSeWa', 'ext1__Stone', 'ele__2', 'cond2__Artery', 'rmat__ClyTile', 'rmat__Membran', 'funct__Sal', 'ext2__Stone', 'sale_condition', 'ext1__ImStucc', 'ele__3', 'heat__OthW', 'ele__4', 'funct__Sev', 'mssub__150', 'ele__1', 'cond2__RRe', 'cond2__RRn', 'heat__Wall', 'n__GrnHill', 'ext1__CBlock']\n",
      "['ext2__PreCast', 'rmat__Roll', 'ext2__Other', 'rmat__Metal', 'ext1__PreCast', 'ele__2.0', 'ele__3.0', 'ele__5.0', 'stype__VWD', 'heat__Floor', 'ele__4.0']\n"
     ]
    }
   ],
   "source": [
    "mia_columns(df, final)"
   ]
  },
  {
   "cell_type": "code",
   "execution_count": null,
   "metadata": {
    "collapsed": true
   },
   "outputs": [],
   "source": []
  },
  {
   "cell_type": "code",
   "execution_count": 92,
   "metadata": {
    "collapsed": true
   },
   "outputs": [],
   "source": [
    "df_droping = pd.read_csv('train.csv')"
   ]
  },
  {
   "cell_type": "code",
   "execution_count": 94,
   "metadata": {
    "collapsed": true
   },
   "outputs": [
    {
     "data": {
      "text/plain": [
       "<matplotlib.collections.PathCollection at 0x25f5aa91630>"
      ]
     },
     "execution_count": 94,
     "metadata": {},
     "output_type": "execute_result"
    },
    {
     "data": {
      "image/png": "[encoded data removed]",
      "text/plain": [
       "<matplotlib.figure.Figure at 0x25f57a1d400>"
      ]
     },
     "metadata": {},
     "output_type": "display_data"
    }
   ],
   "source": [
    "xax = df_droping['Gr Liv Area']\n",
    "yax = df_droping['SalePrice']\n",
    "plt.scatter(xax, yax)"
   ]
  },
  {
   "cell_type": "code",
   "execution_count": 100,
   "metadata": {
    "collapsed": true
   },
   "outputs": [
    {
     "data": {
      "text/html": [
       "<div>\n",
       "<style>\n",
       "    .dataframe thead tr:only-child th {\n",
       "        text-align: right;\n",
       "    }\n",
       "\n",
       "    .dataframe thead th {\n",
       "        text-align: left;\n",
       "    }\n",
       "\n",
       "    .dataframe tbody tr th {\n",
       "        vertical-align: top;\n",
       "    }\n",
       "</style>\n",
       "<table border=\"1\" class=\"dataframe\">\n",
       "  <thead>\n",
       "    <tr style=\"text-align: right;\">\n",
       "      <th></th>\n",
       "      <th>Id</th>\n",
       "      <th>PID</th>\n",
       "      <th>MS SubClass</th>\n",
       "      <th>MS Zoning</th>\n",
       "      <th>Lot Frontage</th>\n",
       "      <th>Lot Area</th>\n",
       "      <th>Street</th>\n",
       "      <th>Alley</th>\n",
       "      <th>Lot Shape</th>\n",
       "      <th>Land Contour</th>\n",
       "      <th>...</th>\n",
       "      <th>Pool Area</th>\n",
       "      <th>Pool QC</th>\n",
       "      <th>Fence</th>\n",
       "      <th>Misc Feature</th>\n",
       "      <th>Misc Val</th>\n",
       "      <th>Mo Sold</th>\n",
       "      <th>Yr Sold</th>\n",
       "      <th>Sale Type</th>\n",
       "      <th>Sale Condition</th>\n",
       "      <th>SalePrice</th>\n",
       "    </tr>\n",
       "  </thead>\n",
       "  <tbody>\n",
       "    <tr>\n",
       "      <th>0</th>\n",
       "      <td>109</td>\n",
       "      <td>533352170</td>\n",
       "      <td>60</td>\n",
       "      <td>RL</td>\n",
       "      <td>NaN</td>\n",
       "      <td>13517</td>\n",
       "      <td>Pave</td>\n",
       "      <td>NaN</td>\n",
       "      <td>IR1</td>\n",
       "      <td>Lvl</td>\n",
       "      <td>...</td>\n",
       "      <td>0</td>\n",
       "      <td>NaN</td>\n",
       "      <td>NaN</td>\n",
       "      <td>NaN</td>\n",
       "      <td>0</td>\n",
       "      <td>3</td>\n",
       "      <td>2010</td>\n",
       "      <td>WD</td>\n",
       "      <td>Normal</td>\n",
       "      <td>130500</td>\n",
       "    </tr>\n",
       "    <tr>\n",
       "      <th>1</th>\n",
       "      <td>544</td>\n",
       "      <td>531379050</td>\n",
       "      <td>60</td>\n",
       "      <td>RL</td>\n",
       "      <td>43.0</td>\n",
       "      <td>11492</td>\n",
       "      <td>Pave</td>\n",
       "      <td>NaN</td>\n",
       "      <td>IR1</td>\n",
       "      <td>Lvl</td>\n",
       "      <td>...</td>\n",
       "      <td>0</td>\n",
       "      <td>NaN</td>\n",
       "      <td>NaN</td>\n",
       "      <td>NaN</td>\n",
       "      <td>0</td>\n",
       "      <td>4</td>\n",
       "      <td>2009</td>\n",
       "      <td>WD</td>\n",
       "      <td>Normal</td>\n",
       "      <td>220000</td>\n",
       "    </tr>\n",
       "    <tr>\n",
       "      <th>2</th>\n",
       "      <td>153</td>\n",
       "      <td>535304180</td>\n",
       "      <td>20</td>\n",
       "      <td>RL</td>\n",
       "      <td>68.0</td>\n",
       "      <td>7922</td>\n",
       "      <td>Pave</td>\n",
       "      <td>NaN</td>\n",
       "      <td>Reg</td>\n",
       "      <td>Lvl</td>\n",
       "      <td>...</td>\n",
       "      <td>0</td>\n",
       "      <td>NaN</td>\n",
       "      <td>NaN</td>\n",
       "      <td>NaN</td>\n",
       "      <td>0</td>\n",
       "      <td>1</td>\n",
       "      <td>2010</td>\n",
       "      <td>WD</td>\n",
       "      <td>Abnorml</td>\n",
       "      <td>109000</td>\n",
       "    </tr>\n",
       "    <tr>\n",
       "      <th>3</th>\n",
       "      <td>318</td>\n",
       "      <td>916386060</td>\n",
       "      <td>60</td>\n",
       "      <td>RL</td>\n",
       "      <td>73.0</td>\n",
       "      <td>9802</td>\n",
       "      <td>Pave</td>\n",
       "      <td>NaN</td>\n",
       "      <td>Reg</td>\n",
       "      <td>Lvl</td>\n",
       "      <td>...</td>\n",
       "      <td>0</td>\n",
       "      <td>NaN</td>\n",
       "      <td>NaN</td>\n",
       "      <td>NaN</td>\n",
       "      <td>0</td>\n",
       "      <td>4</td>\n",
       "      <td>2010</td>\n",
       "      <td>WD</td>\n",
       "      <td>Normal</td>\n",
       "      <td>174000</td>\n",
       "    </tr>\n",
       "    <tr>\n",
       "      <th>4</th>\n",
       "      <td>255</td>\n",
       "      <td>906425045</td>\n",
       "      <td>50</td>\n",
       "      <td>RL</td>\n",
       "      <td>82.0</td>\n",
       "      <td>14235</td>\n",
       "      <td>Pave</td>\n",
       "      <td>NaN</td>\n",
       "      <td>IR1</td>\n",
       "      <td>Lvl</td>\n",
       "      <td>...</td>\n",
       "      <td>0</td>\n",
       "      <td>NaN</td>\n",
       "      <td>NaN</td>\n",
       "      <td>NaN</td>\n",
       "      <td>0</td>\n",
       "      <td>3</td>\n",
       "      <td>2010</td>\n",
       "      <td>WD</td>\n",
       "      <td>Normal</td>\n",
       "      <td>138500</td>\n",
       "    </tr>\n",
       "    <tr>\n",
       "      <th>5</th>\n",
       "      <td>138</td>\n",
       "      <td>535126040</td>\n",
       "      <td>20</td>\n",
       "      <td>RL</td>\n",
       "      <td>137.0</td>\n",
       "      <td>16492</td>\n",
       "      <td>Pave</td>\n",
       "      <td>NaN</td>\n",
       "      <td>IR1</td>\n",
       "      <td>Lvl</td>\n",
       "      <td>...</td>\n",
       "      <td>0</td>\n",
       "      <td>NaN</td>\n",
       "      <td>NaN</td>\n",
       "      <td>NaN</td>\n",
       "      <td>0</td>\n",
       "      <td>6</td>\n",
       "      <td>2010</td>\n",
       "      <td>WD</td>\n",
       "      <td>Normal</td>\n",
       "      <td>190000</td>\n",
       "    </tr>\n",
       "    <tr>\n",
       "      <th>6</th>\n",
       "      <td>2827</td>\n",
       "      <td>908186070</td>\n",
       "      <td>180</td>\n",
       "      <td>RM</td>\n",
       "      <td>35.0</td>\n",
       "      <td>3675</td>\n",
       "      <td>Pave</td>\n",
       "      <td>NaN</td>\n",
       "      <td>Reg</td>\n",
       "      <td>Lvl</td>\n",
       "      <td>...</td>\n",
       "      <td>0</td>\n",
       "      <td>NaN</td>\n",
       "      <td>NaN</td>\n",
       "      <td>NaN</td>\n",
       "      <td>0</td>\n",
       "      <td>6</td>\n",
       "      <td>2006</td>\n",
       "      <td>New</td>\n",
       "      <td>Partial</td>\n",
       "      <td>140000</td>\n",
       "    </tr>\n",
       "    <tr>\n",
       "      <th>7</th>\n",
       "      <td>145</td>\n",
       "      <td>535154050</td>\n",
       "      <td>20</td>\n",
       "      <td>RL</td>\n",
       "      <td>NaN</td>\n",
       "      <td>12160</td>\n",
       "      <td>Pave</td>\n",
       "      <td>NaN</td>\n",
       "      <td>IR1</td>\n",
       "      <td>Lvl</td>\n",
       "      <td>...</td>\n",
       "      <td>0</td>\n",
       "      <td>NaN</td>\n",
       "      <td>MnPrv</td>\n",
       "      <td>NaN</td>\n",
       "      <td>0</td>\n",
       "      <td>5</td>\n",
       "      <td>2010</td>\n",
       "      <td>COD</td>\n",
       "      <td>Abnorml</td>\n",
       "      <td>142000</td>\n",
       "    </tr>\n",
       "    <tr>\n",
       "      <th>8</th>\n",
       "      <td>1942</td>\n",
       "      <td>535353130</td>\n",
       "      <td>20</td>\n",
       "      <td>RL</td>\n",
       "      <td>NaN</td>\n",
       "      <td>15783</td>\n",
       "      <td>Pave</td>\n",
       "      <td>NaN</td>\n",
       "      <td>Reg</td>\n",
       "      <td>Lvl</td>\n",
       "      <td>...</td>\n",
       "      <td>0</td>\n",
       "      <td>NaN</td>\n",
       "      <td>MnPrv</td>\n",
       "      <td>Shed</td>\n",
       "      <td>400</td>\n",
       "      <td>6</td>\n",
       "      <td>2007</td>\n",
       "      <td>WD</td>\n",
       "      <td>Normal</td>\n",
       "      <td>112500</td>\n",
       "    </tr>\n",
       "    <tr>\n",
       "      <th>9</th>\n",
       "      <td>1956</td>\n",
       "      <td>535426130</td>\n",
       "      <td>60</td>\n",
       "      <td>RL</td>\n",
       "      <td>70.0</td>\n",
       "      <td>11606</td>\n",
       "      <td>Pave</td>\n",
       "      <td>NaN</td>\n",
       "      <td>IR1</td>\n",
       "      <td>HLS</td>\n",
       "      <td>...</td>\n",
       "      <td>0</td>\n",
       "      <td>NaN</td>\n",
       "      <td>NaN</td>\n",
       "      <td>NaN</td>\n",
       "      <td>0</td>\n",
       "      <td>9</td>\n",
       "      <td>2007</td>\n",
       "      <td>WD</td>\n",
       "      <td>Family</td>\n",
       "      <td>135000</td>\n",
       "    </tr>\n",
       "    <tr>\n",
       "      <th>10</th>\n",
       "      <td>1044</td>\n",
       "      <td>527451290</td>\n",
       "      <td>160</td>\n",
       "      <td>RM</td>\n",
       "      <td>21.0</td>\n",
       "      <td>1680</td>\n",
       "      <td>Pave</td>\n",
       "      <td>NaN</td>\n",
       "      <td>Reg</td>\n",
       "      <td>Lvl</td>\n",
       "      <td>...</td>\n",
       "      <td>0</td>\n",
       "      <td>NaN</td>\n",
       "      <td>NaN</td>\n",
       "      <td>NaN</td>\n",
       "      <td>0</td>\n",
       "      <td>7</td>\n",
       "      <td>2008</td>\n",
       "      <td>COD</td>\n",
       "      <td>Abnorml</td>\n",
       "      <td>85400</td>\n",
       "    </tr>\n",
       "    <tr>\n",
       "      <th>11</th>\n",
       "      <td>2752</td>\n",
       "      <td>906380150</td>\n",
       "      <td>20</td>\n",
       "      <td>RL</td>\n",
       "      <td>64.0</td>\n",
       "      <td>7488</td>\n",
       "      <td>Pave</td>\n",
       "      <td>NaN</td>\n",
       "      <td>IR1</td>\n",
       "      <td>Lvl</td>\n",
       "      <td>...</td>\n",
       "      <td>0</td>\n",
       "      <td>NaN</td>\n",
       "      <td>NaN</td>\n",
       "      <td>NaN</td>\n",
       "      <td>0</td>\n",
       "      <td>2</td>\n",
       "      <td>2006</td>\n",
       "      <td>WD</td>\n",
       "      <td>Abnorml</td>\n",
       "      <td>183600</td>\n",
       "    </tr>\n",
       "    <tr>\n",
       "      <th>12</th>\n",
       "      <td>807</td>\n",
       "      <td>906226060</td>\n",
       "      <td>70</td>\n",
       "      <td>RL</td>\n",
       "      <td>120.0</td>\n",
       "      <td>26400</td>\n",
       "      <td>Pave</td>\n",
       "      <td>NaN</td>\n",
       "      <td>Reg</td>\n",
       "      <td>Bnk</td>\n",
       "      <td>...</td>\n",
       "      <td>0</td>\n",
       "      <td>NaN</td>\n",
       "      <td>NaN</td>\n",
       "      <td>NaN</td>\n",
       "      <td>0</td>\n",
       "      <td>6</td>\n",
       "      <td>2009</td>\n",
       "      <td>WD</td>\n",
       "      <td>Normal</td>\n",
       "      <td>131000</td>\n",
       "    </tr>\n",
       "    <tr>\n",
       "      <th>13</th>\n",
       "      <td>1177</td>\n",
       "      <td>533236070</td>\n",
       "      <td>160</td>\n",
       "      <td>FV</td>\n",
       "      <td>24.0</td>\n",
       "      <td>2645</td>\n",
       "      <td>Pave</td>\n",
       "      <td>Pave</td>\n",
       "      <td>Reg</td>\n",
       "      <td>Lvl</td>\n",
       "      <td>...</td>\n",
       "      <td>0</td>\n",
       "      <td>NaN</td>\n",
       "      <td>NaN</td>\n",
       "      <td>NaN</td>\n",
       "      <td>0</td>\n",
       "      <td>12</td>\n",
       "      <td>2008</td>\n",
       "      <td>ConLD</td>\n",
       "      <td>Normal</td>\n",
       "      <td>200000</td>\n",
       "    </tr>\n",
       "    <tr>\n",
       "      <th>14</th>\n",
       "      <td>1480</td>\n",
       "      <td>907418040</td>\n",
       "      <td>20</td>\n",
       "      <td>RL</td>\n",
       "      <td>74.0</td>\n",
       "      <td>9627</td>\n",
       "      <td>Pave</td>\n",
       "      <td>NaN</td>\n",
       "      <td>Reg</td>\n",
       "      <td>Lvl</td>\n",
       "      <td>...</td>\n",
       "      <td>0</td>\n",
       "      <td>NaN</td>\n",
       "      <td>NaN</td>\n",
       "      <td>NaN</td>\n",
       "      <td>0</td>\n",
       "      <td>6</td>\n",
       "      <td>2008</td>\n",
       "      <td>WD</td>\n",
       "      <td>Normal</td>\n",
       "      <td>193000</td>\n",
       "    </tr>\n",
       "    <tr>\n",
       "      <th>15</th>\n",
       "      <td>324</td>\n",
       "      <td>923202105</td>\n",
       "      <td>20</td>\n",
       "      <td>RL</td>\n",
       "      <td>93.0</td>\n",
       "      <td>10114</td>\n",
       "      <td>Pave</td>\n",
       "      <td>NaN</td>\n",
       "      <td>Reg</td>\n",
       "      <td>Lvl</td>\n",
       "      <td>...</td>\n",
       "      <td>0</td>\n",
       "      <td>NaN</td>\n",
       "      <td>NaN</td>\n",
       "      <td>NaN</td>\n",
       "      <td>0</td>\n",
       "      <td>3</td>\n",
       "      <td>2010</td>\n",
       "      <td>WD</td>\n",
       "      <td>Normal</td>\n",
       "      <td>173500</td>\n",
       "    </tr>\n",
       "    <tr>\n",
       "      <th>16</th>\n",
       "      <td>1311</td>\n",
       "      <td>902301140</td>\n",
       "      <td>70</td>\n",
       "      <td>RM</td>\n",
       "      <td>34.0</td>\n",
       "      <td>4571</td>\n",
       "      <td>Pave</td>\n",
       "      <td>Grvl</td>\n",
       "      <td>Reg</td>\n",
       "      <td>Lvl</td>\n",
       "      <td>...</td>\n",
       "      <td>0</td>\n",
       "      <td>NaN</td>\n",
       "      <td>NaN</td>\n",
       "      <td>NaN</td>\n",
       "      <td>0</td>\n",
       "      <td>5</td>\n",
       "      <td>2008</td>\n",
       "      <td>COD</td>\n",
       "      <td>Abnorml</td>\n",
       "      <td>98000</td>\n",
       "    </tr>\n",
       "    <tr>\n",
       "      <th>17</th>\n",
       "      <td>770</td>\n",
       "      <td>905101490</td>\n",
       "      <td>20</td>\n",
       "      <td>RL</td>\n",
       "      <td>80.0</td>\n",
       "      <td>8816</td>\n",
       "      <td>Pave</td>\n",
       "      <td>NaN</td>\n",
       "      <td>Reg</td>\n",
       "      <td>Lvl</td>\n",
       "      <td>...</td>\n",
       "      <td>0</td>\n",
       "      <td>NaN</td>\n",
       "      <td>MnPrv</td>\n",
       "      <td>NaN</td>\n",
       "      <td>0</td>\n",
       "      <td>6</td>\n",
       "      <td>2009</td>\n",
       "      <td>WD</td>\n",
       "      <td>Normal</td>\n",
       "      <td>139000</td>\n",
       "    </tr>\n",
       "    <tr>\n",
       "      <th>18</th>\n",
       "      <td>2063</td>\n",
       "      <td>905107140</td>\n",
       "      <td>20</td>\n",
       "      <td>RL</td>\n",
       "      <td>71.0</td>\n",
       "      <td>8197</td>\n",
       "      <td>Pave</td>\n",
       "      <td>NaN</td>\n",
       "      <td>Reg</td>\n",
       "      <td>Lvl</td>\n",
       "      <td>...</td>\n",
       "      <td>0</td>\n",
       "      <td>NaN</td>\n",
       "      <td>MnPrv</td>\n",
       "      <td>NaN</td>\n",
       "      <td>0</td>\n",
       "      <td>4</td>\n",
       "      <td>2007</td>\n",
       "      <td>WD</td>\n",
       "      <td>Normal</td>\n",
       "      <td>143500</td>\n",
       "    </tr>\n",
       "    <tr>\n",
       "      <th>19</th>\n",
       "      <td>69</td>\n",
       "      <td>528458070</td>\n",
       "      <td>60</td>\n",
       "      <td>FV</td>\n",
       "      <td>72.0</td>\n",
       "      <td>8640</td>\n",
       "      <td>Pave</td>\n",
       "      <td>NaN</td>\n",
       "      <td>Reg</td>\n",
       "      <td>Lvl</td>\n",
       "      <td>...</td>\n",
       "      <td>0</td>\n",
       "      <td>NaN</td>\n",
       "      <td>NaN</td>\n",
       "      <td>NaN</td>\n",
       "      <td>0</td>\n",
       "      <td>6</td>\n",
       "      <td>2010</td>\n",
       "      <td>Con</td>\n",
       "      <td>Normal</td>\n",
       "      <td>215200</td>\n",
       "    </tr>\n",
       "    <tr>\n",
       "      <th>20</th>\n",
       "      <td>2062</td>\n",
       "      <td>905106150</td>\n",
       "      <td>20</td>\n",
       "      <td>RL</td>\n",
       "      <td>109.0</td>\n",
       "      <td>8724</td>\n",
       "      <td>Pave</td>\n",
       "      <td>NaN</td>\n",
       "      <td>Reg</td>\n",
       "      <td>Lvl</td>\n",
       "      <td>...</td>\n",
       "      <td>0</td>\n",
       "      <td>NaN</td>\n",
       "      <td>NaN</td>\n",
       "      <td>NaN</td>\n",
       "      <td>0</td>\n",
       "      <td>5</td>\n",
       "      <td>2007</td>\n",
       "      <td>WD</td>\n",
       "      <td>Normal</td>\n",
       "      <td>129000</td>\n",
       "    </tr>\n",
       "    <tr>\n",
       "      <th>21</th>\n",
       "      <td>351</td>\n",
       "      <td>527131030</td>\n",
       "      <td>120</td>\n",
       "      <td>RL</td>\n",
       "      <td>40.0</td>\n",
       "      <td>5664</td>\n",
       "      <td>Pave</td>\n",
       "      <td>NaN</td>\n",
       "      <td>IR1</td>\n",
       "      <td>Lvl</td>\n",
       "      <td>...</td>\n",
       "      <td>0</td>\n",
       "      <td>NaN</td>\n",
       "      <td>NaN</td>\n",
       "      <td>NaN</td>\n",
       "      <td>0</td>\n",
       "      <td>10</td>\n",
       "      <td>2009</td>\n",
       "      <td>WD</td>\n",
       "      <td>Normal</td>\n",
       "      <td>278000</td>\n",
       "    </tr>\n",
       "    <tr>\n",
       "      <th>22</th>\n",
       "      <td>2393</td>\n",
       "      <td>528142010</td>\n",
       "      <td>60</td>\n",
       "      <td>RL</td>\n",
       "      <td>103.0</td>\n",
       "      <td>12867</td>\n",
       "      <td>Pave</td>\n",
       "      <td>NaN</td>\n",
       "      <td>IR1</td>\n",
       "      <td>Lvl</td>\n",
       "      <td>...</td>\n",
       "      <td>0</td>\n",
       "      <td>NaN</td>\n",
       "      <td>NaN</td>\n",
       "      <td>NaN</td>\n",
       "      <td>0</td>\n",
       "      <td>7</td>\n",
       "      <td>2006</td>\n",
       "      <td>New</td>\n",
       "      <td>Partial</td>\n",
       "      <td>344133</td>\n",
       "    </tr>\n",
       "    <tr>\n",
       "      <th>23</th>\n",
       "      <td>12</td>\n",
       "      <td>527165230</td>\n",
       "      <td>20</td>\n",
       "      <td>RL</td>\n",
       "      <td>NaN</td>\n",
       "      <td>7980</td>\n",
       "      <td>Pave</td>\n",
       "      <td>NaN</td>\n",
       "      <td>IR1</td>\n",
       "      <td>Lvl</td>\n",
       "      <td>...</td>\n",
       "      <td>0</td>\n",
       "      <td>NaN</td>\n",
       "      <td>GdPrv</td>\n",
       "      <td>Shed</td>\n",
       "      <td>500</td>\n",
       "      <td>3</td>\n",
       "      <td>2010</td>\n",
       "      <td>WD</td>\n",
       "      <td>Normal</td>\n",
       "      <td>185000</td>\n",
       "    </tr>\n",
       "    <tr>\n",
       "      <th>24</th>\n",
       "      <td>2339</td>\n",
       "      <td>527250040</td>\n",
       "      <td>190</td>\n",
       "      <td>RL</td>\n",
       "      <td>100.0</td>\n",
       "      <td>34650</td>\n",
       "      <td>Pave</td>\n",
       "      <td>NaN</td>\n",
       "      <td>Reg</td>\n",
       "      <td>Bnk</td>\n",
       "      <td>...</td>\n",
       "      <td>0</td>\n",
       "      <td>NaN</td>\n",
       "      <td>NaN</td>\n",
       "      <td>NaN</td>\n",
       "      <td>0</td>\n",
       "      <td>1</td>\n",
       "      <td>2006</td>\n",
       "      <td>WD</td>\n",
       "      <td>Normal</td>\n",
       "      <td>145000</td>\n",
       "    </tr>\n",
       "    <tr>\n",
       "      <th>25</th>\n",
       "      <td>624</td>\n",
       "      <td>535104120</td>\n",
       "      <td>20</td>\n",
       "      <td>RL</td>\n",
       "      <td>92.0</td>\n",
       "      <td>10573</td>\n",
       "      <td>Pave</td>\n",
       "      <td>NaN</td>\n",
       "      <td>IR1</td>\n",
       "      <td>Lvl</td>\n",
       "      <td>...</td>\n",
       "      <td>0</td>\n",
       "      <td>NaN</td>\n",
       "      <td>GdPrv</td>\n",
       "      <td>NaN</td>\n",
       "      <td>0</td>\n",
       "      <td>4</td>\n",
       "      <td>2009</td>\n",
       "      <td>WD</td>\n",
       "      <td>Normal</td>\n",
       "      <td>187500</td>\n",
       "    </tr>\n",
       "    <tr>\n",
       "      <th>26</th>\n",
       "      <td>86</td>\n",
       "      <td>532376160</td>\n",
       "      <td>20</td>\n",
       "      <td>RL</td>\n",
       "      <td>65.0</td>\n",
       "      <td>8450</td>\n",
       "      <td>Pave</td>\n",
       "      <td>NaN</td>\n",
       "      <td>Reg</td>\n",
       "      <td>Lvl</td>\n",
       "      <td>...</td>\n",
       "      <td>0</td>\n",
       "      <td>NaN</td>\n",
       "      <td>MnPrv</td>\n",
       "      <td>NaN</td>\n",
       "      <td>0</td>\n",
       "      <td>4</td>\n",
       "      <td>2010</td>\n",
       "      <td>WD</td>\n",
       "      <td>Normal</td>\n",
       "      <td>138500</td>\n",
       "    </tr>\n",
       "    <tr>\n",
       "      <th>27</th>\n",
       "      <td>1534</td>\n",
       "      <td>909277040</td>\n",
       "      <td>50</td>\n",
       "      <td>RL</td>\n",
       "      <td>NaN</td>\n",
       "      <td>11700</td>\n",
       "      <td>Pave</td>\n",
       "      <td>Grvl</td>\n",
       "      <td>IR1</td>\n",
       "      <td>HLS</td>\n",
       "      <td>...</td>\n",
       "      <td>0</td>\n",
       "      <td>NaN</td>\n",
       "      <td>NaN</td>\n",
       "      <td>NaN</td>\n",
       "      <td>0</td>\n",
       "      <td>7</td>\n",
       "      <td>2008</td>\n",
       "      <td>WD</td>\n",
       "      <td>Normal</td>\n",
       "      <td>198000</td>\n",
       "    </tr>\n",
       "    <tr>\n",
       "      <th>28</th>\n",
       "      <td>2243</td>\n",
       "      <td>911103060</td>\n",
       "      <td>190</td>\n",
       "      <td>C (all)</td>\n",
       "      <td>75.0</td>\n",
       "      <td>8250</td>\n",
       "      <td>Pave</td>\n",
       "      <td>NaN</td>\n",
       "      <td>Reg</td>\n",
       "      <td>Lvl</td>\n",
       "      <td>...</td>\n",
       "      <td>0</td>\n",
       "      <td>NaN</td>\n",
       "      <td>NaN</td>\n",
       "      <td>NaN</td>\n",
       "      <td>0</td>\n",
       "      <td>6</td>\n",
       "      <td>2007</td>\n",
       "      <td>WD</td>\n",
       "      <td>Normal</td>\n",
       "      <td>119600</td>\n",
       "    </tr>\n",
       "    <tr>\n",
       "      <th>29</th>\n",
       "      <td>1957</td>\n",
       "      <td>535450190</td>\n",
       "      <td>50</td>\n",
       "      <td>RL</td>\n",
       "      <td>60.0</td>\n",
       "      <td>8064</td>\n",
       "      <td>Pave</td>\n",
       "      <td>NaN</td>\n",
       "      <td>Reg</td>\n",
       "      <td>Lvl</td>\n",
       "      <td>...</td>\n",
       "      <td>0</td>\n",
       "      <td>NaN</td>\n",
       "      <td>MnPrv</td>\n",
       "      <td>Shed</td>\n",
       "      <td>2000</td>\n",
       "      <td>7</td>\n",
       "      <td>2007</td>\n",
       "      <td>WD</td>\n",
       "      <td>Normal</td>\n",
       "      <td>122900</td>\n",
       "    </tr>\n",
       "    <tr>\n",
       "      <th>...</th>\n",
       "      <td>...</td>\n",
       "      <td>...</td>\n",
       "      <td>...</td>\n",
       "      <td>...</td>\n",
       "      <td>...</td>\n",
       "      <td>...</td>\n",
       "      <td>...</td>\n",
       "      <td>...</td>\n",
       "      <td>...</td>\n",
       "      <td>...</td>\n",
       "      <td>...</td>\n",
       "      <td>...</td>\n",
       "      <td>...</td>\n",
       "      <td>...</td>\n",
       "      <td>...</td>\n",
       "      <td>...</td>\n",
       "      <td>...</td>\n",
       "      <td>...</td>\n",
       "      <td>...</td>\n",
       "      <td>...</td>\n",
       "      <td>...</td>\n",
       "    </tr>\n",
       "    <tr>\n",
       "      <th>2021</th>\n",
       "      <td>2810</td>\n",
       "      <td>907410100</td>\n",
       "      <td>60</td>\n",
       "      <td>RL</td>\n",
       "      <td>70.0</td>\n",
       "      <td>8400</td>\n",
       "      <td>Pave</td>\n",
       "      <td>NaN</td>\n",
       "      <td>Reg</td>\n",
       "      <td>Lvl</td>\n",
       "      <td>...</td>\n",
       "      <td>0</td>\n",
       "      <td>NaN</td>\n",
       "      <td>NaN</td>\n",
       "      <td>NaN</td>\n",
       "      <td>0</td>\n",
       "      <td>3</td>\n",
       "      <td>2006</td>\n",
       "      <td>WD</td>\n",
       "      <td>Normal</td>\n",
       "      <td>195800</td>\n",
       "    </tr>\n",
       "    <tr>\n",
       "      <th>2022</th>\n",
       "      <td>2872</td>\n",
       "      <td>909475020</td>\n",
       "      <td>20</td>\n",
       "      <td>RL</td>\n",
       "      <td>NaN</td>\n",
       "      <td>16381</td>\n",
       "      <td>Pave</td>\n",
       "      <td>NaN</td>\n",
       "      <td>IR1</td>\n",
       "      <td>Lvl</td>\n",
       "      <td>...</td>\n",
       "      <td>0</td>\n",
       "      <td>NaN</td>\n",
       "      <td>NaN</td>\n",
       "      <td>NaN</td>\n",
       "      <td>0</td>\n",
       "      <td>12</td>\n",
       "      <td>2006</td>\n",
       "      <td>WD</td>\n",
       "      <td>Normal</td>\n",
       "      <td>223000</td>\n",
       "    </tr>\n",
       "    <tr>\n",
       "      <th>2023</th>\n",
       "      <td>1072</td>\n",
       "      <td>528181010</td>\n",
       "      <td>120</td>\n",
       "      <td>RL</td>\n",
       "      <td>135.0</td>\n",
       "      <td>12304</td>\n",
       "      <td>Pave</td>\n",
       "      <td>NaN</td>\n",
       "      <td>IR3</td>\n",
       "      <td>Lvl</td>\n",
       "      <td>...</td>\n",
       "      <td>0</td>\n",
       "      <td>NaN</td>\n",
       "      <td>NaN</td>\n",
       "      <td>NaN</td>\n",
       "      <td>0</td>\n",
       "      <td>6</td>\n",
       "      <td>2008</td>\n",
       "      <td>WD</td>\n",
       "      <td>Normal</td>\n",
       "      <td>192000</td>\n",
       "    </tr>\n",
       "    <tr>\n",
       "      <th>2024</th>\n",
       "      <td>1654</td>\n",
       "      <td>527353080</td>\n",
       "      <td>60</td>\n",
       "      <td>RL</td>\n",
       "      <td>80.0</td>\n",
       "      <td>11584</td>\n",
       "      <td>Pave</td>\n",
       "      <td>NaN</td>\n",
       "      <td>Reg</td>\n",
       "      <td>Lvl</td>\n",
       "      <td>...</td>\n",
       "      <td>0</td>\n",
       "      <td>NaN</td>\n",
       "      <td>NaN</td>\n",
       "      <td>NaN</td>\n",
       "      <td>0</td>\n",
       "      <td>11</td>\n",
       "      <td>2007</td>\n",
       "      <td>WD</td>\n",
       "      <td>Normal</td>\n",
       "      <td>197000</td>\n",
       "    </tr>\n",
       "    <tr>\n",
       "      <th>2025</th>\n",
       "      <td>2394</td>\n",
       "      <td>528142060</td>\n",
       "      <td>60</td>\n",
       "      <td>RL</td>\n",
       "      <td>82.0</td>\n",
       "      <td>10672</td>\n",
       "      <td>Pave</td>\n",
       "      <td>NaN</td>\n",
       "      <td>IR1</td>\n",
       "      <td>Lvl</td>\n",
       "      <td>...</td>\n",
       "      <td>0</td>\n",
       "      <td>NaN</td>\n",
       "      <td>NaN</td>\n",
       "      <td>NaN</td>\n",
       "      <td>0</td>\n",
       "      <td>11</td>\n",
       "      <td>2006</td>\n",
       "      <td>New</td>\n",
       "      <td>Partial</td>\n",
       "      <td>298236</td>\n",
       "    </tr>\n",
       "    <tr>\n",
       "      <th>2026</th>\n",
       "      <td>2212</td>\n",
       "      <td>909275110</td>\n",
       "      <td>70</td>\n",
       "      <td>RL</td>\n",
       "      <td>60.0</td>\n",
       "      <td>7230</td>\n",
       "      <td>Pave</td>\n",
       "      <td>NaN</td>\n",
       "      <td>Reg</td>\n",
       "      <td>Lvl</td>\n",
       "      <td>...</td>\n",
       "      <td>0</td>\n",
       "      <td>NaN</td>\n",
       "      <td>GdPrv</td>\n",
       "      <td>NaN</td>\n",
       "      <td>0</td>\n",
       "      <td>10</td>\n",
       "      <td>2007</td>\n",
       "      <td>WD</td>\n",
       "      <td>Normal</td>\n",
       "      <td>238000</td>\n",
       "    </tr>\n",
       "    <tr>\n",
       "      <th>2027</th>\n",
       "      <td>2628</td>\n",
       "      <td>535456010</td>\n",
       "      <td>90</td>\n",
       "      <td>RL</td>\n",
       "      <td>75.0</td>\n",
       "      <td>8512</td>\n",
       "      <td>Pave</td>\n",
       "      <td>NaN</td>\n",
       "      <td>Reg</td>\n",
       "      <td>Lvl</td>\n",
       "      <td>...</td>\n",
       "      <td>0</td>\n",
       "      <td>NaN</td>\n",
       "      <td>NaN</td>\n",
       "      <td>NaN</td>\n",
       "      <td>0</td>\n",
       "      <td>9</td>\n",
       "      <td>2006</td>\n",
       "      <td>WD</td>\n",
       "      <td>Normal</td>\n",
       "      <td>119000</td>\n",
       "    </tr>\n",
       "    <tr>\n",
       "      <th>2028</th>\n",
       "      <td>2526</td>\n",
       "      <td>534127190</td>\n",
       "      <td>20</td>\n",
       "      <td>RL</td>\n",
       "      <td>NaN</td>\n",
       "      <td>20781</td>\n",
       "      <td>Pave</td>\n",
       "      <td>NaN</td>\n",
       "      <td>IR2</td>\n",
       "      <td>Lvl</td>\n",
       "      <td>...</td>\n",
       "      <td>0</td>\n",
       "      <td>NaN</td>\n",
       "      <td>NaN</td>\n",
       "      <td>NaN</td>\n",
       "      <td>0</td>\n",
       "      <td>6</td>\n",
       "      <td>2006</td>\n",
       "      <td>WD</td>\n",
       "      <td>Normal</td>\n",
       "      <td>262500</td>\n",
       "    </tr>\n",
       "    <tr>\n",
       "      <th>2029</th>\n",
       "      <td>969</td>\n",
       "      <td>921128050</td>\n",
       "      <td>20</td>\n",
       "      <td>RL</td>\n",
       "      <td>85.0</td>\n",
       "      <td>12633</td>\n",
       "      <td>Pave</td>\n",
       "      <td>NaN</td>\n",
       "      <td>IR1</td>\n",
       "      <td>HLS</td>\n",
       "      <td>...</td>\n",
       "      <td>0</td>\n",
       "      <td>NaN</td>\n",
       "      <td>NaN</td>\n",
       "      <td>NaN</td>\n",
       "      <td>0</td>\n",
       "      <td>5</td>\n",
       "      <td>2009</td>\n",
       "      <td>WD</td>\n",
       "      <td>Normal</td>\n",
       "      <td>425000</td>\n",
       "    </tr>\n",
       "    <tr>\n",
       "      <th>2030</th>\n",
       "      <td>306</td>\n",
       "      <td>911202100</td>\n",
       "      <td>50</td>\n",
       "      <td>C (all)</td>\n",
       "      <td>66.0</td>\n",
       "      <td>8712</td>\n",
       "      <td>Pave</td>\n",
       "      <td>Pave</td>\n",
       "      <td>Reg</td>\n",
       "      <td>HLS</td>\n",
       "      <td>...</td>\n",
       "      <td>0</td>\n",
       "      <td>NaN</td>\n",
       "      <td>NaN</td>\n",
       "      <td>NaN</td>\n",
       "      <td>0</td>\n",
       "      <td>1</td>\n",
       "      <td>2010</td>\n",
       "      <td>WD</td>\n",
       "      <td>Abnorml</td>\n",
       "      <td>102776</td>\n",
       "    </tr>\n",
       "    <tr>\n",
       "      <th>2031</th>\n",
       "      <td>25</td>\n",
       "      <td>527402250</td>\n",
       "      <td>20</td>\n",
       "      <td>RL</td>\n",
       "      <td>NaN</td>\n",
       "      <td>12537</td>\n",
       "      <td>Pave</td>\n",
       "      <td>NaN</td>\n",
       "      <td>IR1</td>\n",
       "      <td>Lvl</td>\n",
       "      <td>...</td>\n",
       "      <td>0</td>\n",
       "      <td>NaN</td>\n",
       "      <td>NaN</td>\n",
       "      <td>NaN</td>\n",
       "      <td>0</td>\n",
       "      <td>4</td>\n",
       "      <td>2010</td>\n",
       "      <td>WD</td>\n",
       "      <td>Normal</td>\n",
       "      <td>149900</td>\n",
       "    </tr>\n",
       "    <tr>\n",
       "      <th>2032</th>\n",
       "      <td>311</td>\n",
       "      <td>914475090</td>\n",
       "      <td>80</td>\n",
       "      <td>RL</td>\n",
       "      <td>74.0</td>\n",
       "      <td>9620</td>\n",
       "      <td>Pave</td>\n",
       "      <td>NaN</td>\n",
       "      <td>Reg</td>\n",
       "      <td>Lvl</td>\n",
       "      <td>...</td>\n",
       "      <td>0</td>\n",
       "      <td>NaN</td>\n",
       "      <td>GdPrv</td>\n",
       "      <td>Shed</td>\n",
       "      <td>80</td>\n",
       "      <td>5</td>\n",
       "      <td>2010</td>\n",
       "      <td>WD</td>\n",
       "      <td>Normal</td>\n",
       "      <td>190000</td>\n",
       "    </tr>\n",
       "    <tr>\n",
       "      <th>2033</th>\n",
       "      <td>300</td>\n",
       "      <td>909455040</td>\n",
       "      <td>120</td>\n",
       "      <td>RM</td>\n",
       "      <td>35.0</td>\n",
       "      <td>3907</td>\n",
       "      <td>Pave</td>\n",
       "      <td>NaN</td>\n",
       "      <td>IR1</td>\n",
       "      <td>HLS</td>\n",
       "      <td>...</td>\n",
       "      <td>0</td>\n",
       "      <td>NaN</td>\n",
       "      <td>NaN</td>\n",
       "      <td>NaN</td>\n",
       "      <td>0</td>\n",
       "      <td>3</td>\n",
       "      <td>2010</td>\n",
       "      <td>WD</td>\n",
       "      <td>Normal</td>\n",
       "      <td>162500</td>\n",
       "    </tr>\n",
       "    <tr>\n",
       "      <th>2034</th>\n",
       "      <td>2775</td>\n",
       "      <td>907175060</td>\n",
       "      <td>20</td>\n",
       "      <td>RL</td>\n",
       "      <td>79.0</td>\n",
       "      <td>9236</td>\n",
       "      <td>Pave</td>\n",
       "      <td>NaN</td>\n",
       "      <td>IR1</td>\n",
       "      <td>Lvl</td>\n",
       "      <td>...</td>\n",
       "      <td>0</td>\n",
       "      <td>NaN</td>\n",
       "      <td>NaN</td>\n",
       "      <td>NaN</td>\n",
       "      <td>0</td>\n",
       "      <td>7</td>\n",
       "      <td>2006</td>\n",
       "      <td>WD</td>\n",
       "      <td>Normal</td>\n",
       "      <td>217000</td>\n",
       "    </tr>\n",
       "    <tr>\n",
       "      <th>2035</th>\n",
       "      <td>2862</td>\n",
       "      <td>909279040</td>\n",
       "      <td>30</td>\n",
       "      <td>RL</td>\n",
       "      <td>80.0</td>\n",
       "      <td>11600</td>\n",
       "      <td>Pave</td>\n",
       "      <td>NaN</td>\n",
       "      <td>Reg</td>\n",
       "      <td>Lvl</td>\n",
       "      <td>...</td>\n",
       "      <td>0</td>\n",
       "      <td>NaN</td>\n",
       "      <td>NaN</td>\n",
       "      <td>NaN</td>\n",
       "      <td>0</td>\n",
       "      <td>7</td>\n",
       "      <td>2006</td>\n",
       "      <td>WD</td>\n",
       "      <td>Normal</td>\n",
       "      <td>137500</td>\n",
       "    </tr>\n",
       "    <tr>\n",
       "      <th>2036</th>\n",
       "      <td>525</td>\n",
       "      <td>528477070</td>\n",
       "      <td>60</td>\n",
       "      <td>FV</td>\n",
       "      <td>84.0</td>\n",
       "      <td>10603</td>\n",
       "      <td>Pave</td>\n",
       "      <td>NaN</td>\n",
       "      <td>Reg</td>\n",
       "      <td>Lvl</td>\n",
       "      <td>...</td>\n",
       "      <td>0</td>\n",
       "      <td>NaN</td>\n",
       "      <td>NaN</td>\n",
       "      <td>NaN</td>\n",
       "      <td>0</td>\n",
       "      <td>7</td>\n",
       "      <td>2009</td>\n",
       "      <td>WD</td>\n",
       "      <td>Normal</td>\n",
       "      <td>270000</td>\n",
       "    </tr>\n",
       "    <tr>\n",
       "      <th>2037</th>\n",
       "      <td>2730</td>\n",
       "      <td>905300080</td>\n",
       "      <td>20</td>\n",
       "      <td>RL</td>\n",
       "      <td>100.0</td>\n",
       "      <td>13350</td>\n",
       "      <td>Pave</td>\n",
       "      <td>NaN</td>\n",
       "      <td>IR1</td>\n",
       "      <td>Lvl</td>\n",
       "      <td>...</td>\n",
       "      <td>0</td>\n",
       "      <td>NaN</td>\n",
       "      <td>MnPrv</td>\n",
       "      <td>NaN</td>\n",
       "      <td>0</td>\n",
       "      <td>6</td>\n",
       "      <td>2006</td>\n",
       "      <td>WD</td>\n",
       "      <td>Normal</td>\n",
       "      <td>142500</td>\n",
       "    </tr>\n",
       "    <tr>\n",
       "      <th>2038</th>\n",
       "      <td>1892</td>\n",
       "      <td>534401200</td>\n",
       "      <td>80</td>\n",
       "      <td>RL</td>\n",
       "      <td>80.0</td>\n",
       "      <td>9200</td>\n",
       "      <td>Pave</td>\n",
       "      <td>NaN</td>\n",
       "      <td>Reg</td>\n",
       "      <td>Lvl</td>\n",
       "      <td>...</td>\n",
       "      <td>0</td>\n",
       "      <td>NaN</td>\n",
       "      <td>GdPrv</td>\n",
       "      <td>NaN</td>\n",
       "      <td>0</td>\n",
       "      <td>5</td>\n",
       "      <td>2007</td>\n",
       "      <td>WD</td>\n",
       "      <td>Normal</td>\n",
       "      <td>161000</td>\n",
       "    </tr>\n",
       "    <tr>\n",
       "      <th>2039</th>\n",
       "      <td>2288</td>\n",
       "      <td>923228220</td>\n",
       "      <td>160</td>\n",
       "      <td>RM</td>\n",
       "      <td>21.0</td>\n",
       "      <td>1495</td>\n",
       "      <td>Pave</td>\n",
       "      <td>NaN</td>\n",
       "      <td>Reg</td>\n",
       "      <td>Lvl</td>\n",
       "      <td>...</td>\n",
       "      <td>0</td>\n",
       "      <td>NaN</td>\n",
       "      <td>NaN</td>\n",
       "      <td>NaN</td>\n",
       "      <td>0</td>\n",
       "      <td>5</td>\n",
       "      <td>2007</td>\n",
       "      <td>WD</td>\n",
       "      <td>Normal</td>\n",
       "      <td>93900</td>\n",
       "    </tr>\n",
       "    <tr>\n",
       "      <th>2040</th>\n",
       "      <td>2728</td>\n",
       "      <td>905225080</td>\n",
       "      <td>50</td>\n",
       "      <td>RL</td>\n",
       "      <td>81.0</td>\n",
       "      <td>15593</td>\n",
       "      <td>Pave</td>\n",
       "      <td>NaN</td>\n",
       "      <td>Reg</td>\n",
       "      <td>Lvl</td>\n",
       "      <td>...</td>\n",
       "      <td>0</td>\n",
       "      <td>NaN</td>\n",
       "      <td>NaN</td>\n",
       "      <td>NaN</td>\n",
       "      <td>0</td>\n",
       "      <td>7</td>\n",
       "      <td>2006</td>\n",
       "      <td>WD</td>\n",
       "      <td>Normal</td>\n",
       "      <td>225000</td>\n",
       "    </tr>\n",
       "    <tr>\n",
       "      <th>2041</th>\n",
       "      <td>1065</td>\n",
       "      <td>528166120</td>\n",
       "      <td>60</td>\n",
       "      <td>RL</td>\n",
       "      <td>110.0</td>\n",
       "      <td>13688</td>\n",
       "      <td>Pave</td>\n",
       "      <td>NaN</td>\n",
       "      <td>IR1</td>\n",
       "      <td>Lvl</td>\n",
       "      <td>...</td>\n",
       "      <td>0</td>\n",
       "      <td>NaN</td>\n",
       "      <td>NaN</td>\n",
       "      <td>NaN</td>\n",
       "      <td>0</td>\n",
       "      <td>3</td>\n",
       "      <td>2008</td>\n",
       "      <td>WD</td>\n",
       "      <td>Normal</td>\n",
       "      <td>412500</td>\n",
       "    </tr>\n",
       "    <tr>\n",
       "      <th>2042</th>\n",
       "      <td>2842</td>\n",
       "      <td>909101080</td>\n",
       "      <td>50</td>\n",
       "      <td>RL</td>\n",
       "      <td>45.0</td>\n",
       "      <td>8248</td>\n",
       "      <td>Pave</td>\n",
       "      <td>Grvl</td>\n",
       "      <td>Reg</td>\n",
       "      <td>Lvl</td>\n",
       "      <td>...</td>\n",
       "      <td>0</td>\n",
       "      <td>NaN</td>\n",
       "      <td>NaN</td>\n",
       "      <td>NaN</td>\n",
       "      <td>0</td>\n",
       "      <td>9</td>\n",
       "      <td>2006</td>\n",
       "      <td>COD</td>\n",
       "      <td>Abnorml</td>\n",
       "      <td>83000</td>\n",
       "    </tr>\n",
       "    <tr>\n",
       "      <th>2043</th>\n",
       "      <td>2011</td>\n",
       "      <td>903227140</td>\n",
       "      <td>70</td>\n",
       "      <td>RM</td>\n",
       "      <td>50.0</td>\n",
       "      <td>6000</td>\n",
       "      <td>Pave</td>\n",
       "      <td>NaN</td>\n",
       "      <td>Reg</td>\n",
       "      <td>Lvl</td>\n",
       "      <td>...</td>\n",
       "      <td>0</td>\n",
       "      <td>NaN</td>\n",
       "      <td>GdWo</td>\n",
       "      <td>NaN</td>\n",
       "      <td>0</td>\n",
       "      <td>2</td>\n",
       "      <td>2007</td>\n",
       "      <td>WD</td>\n",
       "      <td>Normal</td>\n",
       "      <td>128000</td>\n",
       "    </tr>\n",
       "    <tr>\n",
       "      <th>2044</th>\n",
       "      <td>1140</td>\n",
       "      <td>531382090</td>\n",
       "      <td>60</td>\n",
       "      <td>RL</td>\n",
       "      <td>65.0</td>\n",
       "      <td>8453</td>\n",
       "      <td>Pave</td>\n",
       "      <td>NaN</td>\n",
       "      <td>IR1</td>\n",
       "      <td>Lvl</td>\n",
       "      <td>...</td>\n",
       "      <td>0</td>\n",
       "      <td>NaN</td>\n",
       "      <td>NaN</td>\n",
       "      <td>NaN</td>\n",
       "      <td>0</td>\n",
       "      <td>4</td>\n",
       "      <td>2008</td>\n",
       "      <td>WD</td>\n",
       "      <td>Normal</td>\n",
       "      <td>182000</td>\n",
       "    </tr>\n",
       "    <tr>\n",
       "      <th>2045</th>\n",
       "      <td>1051</td>\n",
       "      <td>528102030</td>\n",
       "      <td>20</td>\n",
       "      <td>RL</td>\n",
       "      <td>96.0</td>\n",
       "      <td>12444</td>\n",
       "      <td>Pave</td>\n",
       "      <td>NaN</td>\n",
       "      <td>Reg</td>\n",
       "      <td>Lvl</td>\n",
       "      <td>...</td>\n",
       "      <td>0</td>\n",
       "      <td>NaN</td>\n",
       "      <td>NaN</td>\n",
       "      <td>NaN</td>\n",
       "      <td>0</td>\n",
       "      <td>11</td>\n",
       "      <td>2008</td>\n",
       "      <td>New</td>\n",
       "      <td>Partial</td>\n",
       "      <td>394617</td>\n",
       "    </tr>\n",
       "    <tr>\n",
       "      <th>2046</th>\n",
       "      <td>1587</td>\n",
       "      <td>921126030</td>\n",
       "      <td>20</td>\n",
       "      <td>RL</td>\n",
       "      <td>79.0</td>\n",
       "      <td>11449</td>\n",
       "      <td>Pave</td>\n",
       "      <td>NaN</td>\n",
       "      <td>IR1</td>\n",
       "      <td>HLS</td>\n",
       "      <td>...</td>\n",
       "      <td>0</td>\n",
       "      <td>NaN</td>\n",
       "      <td>NaN</td>\n",
       "      <td>NaN</td>\n",
       "      <td>0</td>\n",
       "      <td>1</td>\n",
       "      <td>2008</td>\n",
       "      <td>WD</td>\n",
       "      <td>Normal</td>\n",
       "      <td>298751</td>\n",
       "    </tr>\n",
       "    <tr>\n",
       "      <th>2047</th>\n",
       "      <td>785</td>\n",
       "      <td>905377130</td>\n",
       "      <td>30</td>\n",
       "      <td>RL</td>\n",
       "      <td>NaN</td>\n",
       "      <td>12342</td>\n",
       "      <td>Pave</td>\n",
       "      <td>NaN</td>\n",
       "      <td>IR1</td>\n",
       "      <td>Lvl</td>\n",
       "      <td>...</td>\n",
       "      <td>0</td>\n",
       "      <td>NaN</td>\n",
       "      <td>NaN</td>\n",
       "      <td>NaN</td>\n",
       "      <td>0</td>\n",
       "      <td>3</td>\n",
       "      <td>2009</td>\n",
       "      <td>WD</td>\n",
       "      <td>Normal</td>\n",
       "      <td>82500</td>\n",
       "    </tr>\n",
       "    <tr>\n",
       "      <th>2048</th>\n",
       "      <td>916</td>\n",
       "      <td>909253010</td>\n",
       "      <td>50</td>\n",
       "      <td>RL</td>\n",
       "      <td>57.0</td>\n",
       "      <td>7558</td>\n",
       "      <td>Pave</td>\n",
       "      <td>NaN</td>\n",
       "      <td>Reg</td>\n",
       "      <td>Bnk</td>\n",
       "      <td>...</td>\n",
       "      <td>0</td>\n",
       "      <td>NaN</td>\n",
       "      <td>NaN</td>\n",
       "      <td>NaN</td>\n",
       "      <td>0</td>\n",
       "      <td>3</td>\n",
       "      <td>2009</td>\n",
       "      <td>WD</td>\n",
       "      <td>Normal</td>\n",
       "      <td>177000</td>\n",
       "    </tr>\n",
       "    <tr>\n",
       "      <th>2049</th>\n",
       "      <td>639</td>\n",
       "      <td>535179160</td>\n",
       "      <td>20</td>\n",
       "      <td>RL</td>\n",
       "      <td>80.0</td>\n",
       "      <td>10400</td>\n",
       "      <td>Pave</td>\n",
       "      <td>NaN</td>\n",
       "      <td>Reg</td>\n",
       "      <td>Lvl</td>\n",
       "      <td>...</td>\n",
       "      <td>0</td>\n",
       "      <td>NaN</td>\n",
       "      <td>NaN</td>\n",
       "      <td>NaN</td>\n",
       "      <td>0</td>\n",
       "      <td>11</td>\n",
       "      <td>2009</td>\n",
       "      <td>WD</td>\n",
       "      <td>Family</td>\n",
       "      <td>144000</td>\n",
       "    </tr>\n",
       "    <tr>\n",
       "      <th>2050</th>\n",
       "      <td>10</td>\n",
       "      <td>527162130</td>\n",
       "      <td>60</td>\n",
       "      <td>RL</td>\n",
       "      <td>60.0</td>\n",
       "      <td>7500</td>\n",
       "      <td>Pave</td>\n",
       "      <td>NaN</td>\n",
       "      <td>Reg</td>\n",
       "      <td>Lvl</td>\n",
       "      <td>...</td>\n",
       "      <td>0</td>\n",
       "      <td>NaN</td>\n",
       "      <td>NaN</td>\n",
       "      <td>NaN</td>\n",
       "      <td>0</td>\n",
       "      <td>6</td>\n",
       "      <td>2010</td>\n",
       "      <td>WD</td>\n",
       "      <td>Normal</td>\n",
       "      <td>189000</td>\n",
       "    </tr>\n",
       "  </tbody>\n",
       "</table>\n",
       "<p>2049 rows × 82 columns</p>\n",
       "</div>"
      ],
      "text/plain": [
       "        Id        PID  MS SubClass MS Zoning  Lot Frontage  Lot Area Street  \\\n",
       "0      109  533352170           60        RL           NaN     13517   Pave   \n",
       "1      544  531379050           60        RL          43.0     11492   Pave   \n",
       "2      153  535304180           20        RL          68.0      7922   Pave   \n",
       "3      318  916386060           60        RL          73.0      9802   Pave   \n",
       "4      255  906425045           50        RL          82.0     14235   Pave   \n",
       "5      138  535126040           20        RL         137.0     16492   Pave   \n",
       "6     2827  908186070          180        RM          35.0      3675   Pave   \n",
       "7      145  535154050           20        RL           NaN     12160   Pave   \n",
       "8     1942  535353130           20        RL           NaN     15783   Pave   \n",
       "9     1956  535426130           60        RL          70.0     11606   Pave   \n",
       "10    1044  527451290          160        RM          21.0      1680   Pave   \n",
       "11    2752  906380150           20        RL          64.0      7488   Pave   \n",
       "12     807  906226060           70        RL         120.0     26400   Pave   \n",
       "13    1177  533236070          160        FV          24.0      2645   Pave   \n",
       "14    1480  907418040           20        RL          74.0      9627   Pave   \n",
       "15     324  923202105           20        RL          93.0     10114   Pave   \n",
       "16    1311  902301140           70        RM          34.0      4571   Pave   \n",
       "17     770  905101490           20        RL          80.0      8816   Pave   \n",
       "18    2063  905107140           20        RL          71.0      8197   Pave   \n",
       "19      69  528458070           60        FV          72.0      8640   Pave   \n",
       "20    2062  905106150           20        RL         109.0      8724   Pave   \n",
       "21     351  527131030          120        RL          40.0      5664   Pave   \n",
       "22    2393  528142010           60        RL         103.0     12867   Pave   \n",
       "23      12  527165230           20        RL           NaN      7980   Pave   \n",
       "24    2339  527250040          190        RL         100.0     34650   Pave   \n",
       "25     624  535104120           20        RL          92.0     10573   Pave   \n",
       "26      86  532376160           20        RL          65.0      8450   Pave   \n",
       "27    1534  909277040           50        RL           NaN     11700   Pave   \n",
       "28    2243  911103060          190   C (all)          75.0      8250   Pave   \n",
       "29    1957  535450190           50        RL          60.0      8064   Pave   \n",
       "...    ...        ...          ...       ...           ...       ...    ...   \n",
       "2021  2810  907410100           60        RL          70.0      8400   Pave   \n",
       "2022  2872  909475020           20        RL           NaN     16381   Pave   \n",
       "2023  1072  528181010          120        RL         135.0     12304   Pave   \n",
       "2024  1654  527353080           60        RL          80.0     11584   Pave   \n",
       "2025  2394  528142060           60        RL          82.0     10672   Pave   \n",
       "2026  2212  909275110           70        RL          60.0      7230   Pave   \n",
       "2027  2628  535456010           90        RL          75.0      8512   Pave   \n",
       "2028  2526  534127190           20        RL           NaN     20781   Pave   \n",
       "2029   969  921128050           20        RL          85.0     12633   Pave   \n",
       "2030   306  911202100           50   C (all)          66.0      8712   Pave   \n",
       "2031    25  527402250           20        RL           NaN     12537   Pave   \n",
       "2032   311  914475090           80        RL          74.0      9620   Pave   \n",
       "2033   300  909455040          120        RM          35.0      3907   Pave   \n",
       "2034  2775  907175060           20        RL          79.0      9236   Pave   \n",
       "2035  2862  909279040           30        RL          80.0     11600   Pave   \n",
       "2036   525  528477070           60        FV          84.0     10603   Pave   \n",
       "2037  2730  905300080           20        RL         100.0     13350   Pave   \n",
       "2038  1892  534401200           80        RL          80.0      9200   Pave   \n",
       "2039  2288  923228220          160        RM          21.0      1495   Pave   \n",
       "2040  2728  905225080           50        RL          81.0     15593   Pave   \n",
       "2041  1065  528166120           60        RL         110.0     13688   Pave   \n",
       "2042  2842  909101080           50        RL          45.0      8248   Pave   \n",
       "2043  2011  903227140           70        RM          50.0      6000   Pave   \n",
       "2044  1140  531382090           60        RL          65.0      8453   Pave   \n",
       "2045  1051  528102030           20        RL          96.0     12444   Pave   \n",
       "2046  1587  921126030           20        RL          79.0     11449   Pave   \n",
       "2047   785  905377130           30        RL           NaN     12342   Pave   \n",
       "2048   916  909253010           50        RL          57.0      7558   Pave   \n",
       "2049   639  535179160           20        RL          80.0     10400   Pave   \n",
       "2050    10  527162130           60        RL          60.0      7500   Pave   \n",
       "\n",
       "     Alley Lot Shape Land Contour    ...     Pool Area Pool QC  Fence  \\\n",
       "0      NaN       IR1          Lvl    ...             0     NaN    NaN   \n",
       "1      NaN       IR1          Lvl    ...             0     NaN    NaN   \n",
       "2      NaN       Reg          Lvl    ...             0     NaN    NaN   \n",
       "3      NaN       Reg          Lvl    ...             0     NaN    NaN   \n",
       "4      NaN       IR1          Lvl    ...             0     NaN    NaN   \n",
       "5      NaN       IR1          Lvl    ...             0     NaN    NaN   \n",
       "6      NaN       Reg          Lvl    ...             0     NaN    NaN   \n",
       "7      NaN       IR1          Lvl    ...             0     NaN  MnPrv   \n",
       "8      NaN       Reg          Lvl    ...             0     NaN  MnPrv   \n",
       "9      NaN       IR1          HLS    ...             0     NaN    NaN   \n",
       "10     NaN       Reg          Lvl    ...             0     NaN    NaN   \n",
       "11     NaN       IR1          Lvl    ...             0     NaN    NaN   \n",
       "12     NaN       Reg          Bnk    ...             0     NaN    NaN   \n",
       "13    Pave       Reg          Lvl    ...             0     NaN    NaN   \n",
       "14     NaN       Reg          Lvl    ...             0     NaN    NaN   \n",
       "15     NaN       Reg          Lvl    ...             0     NaN    NaN   \n",
       "16    Grvl       Reg          Lvl    ...             0     NaN    NaN   \n",
       "17     NaN       Reg          Lvl    ...             0     NaN  MnPrv   \n",
       "18     NaN       Reg          Lvl    ...             0     NaN  MnPrv   \n",
       "19     NaN       Reg          Lvl    ...             0     NaN    NaN   \n",
       "20     NaN       Reg          Lvl    ...             0     NaN    NaN   \n",
       "21     NaN       IR1          Lvl    ...             0     NaN    NaN   \n",
       "22     NaN       IR1          Lvl    ...             0     NaN    NaN   \n",
       "23     NaN       IR1          Lvl    ...             0     NaN  GdPrv   \n",
       "24     NaN       Reg          Bnk    ...             0     NaN    NaN   \n",
       "25     NaN       IR1          Lvl    ...             0     NaN  GdPrv   \n",
       "26     NaN       Reg          Lvl    ...             0     NaN  MnPrv   \n",
       "27    Grvl       IR1          HLS    ...             0     NaN    NaN   \n",
       "28     NaN       Reg          Lvl    ...             0     NaN    NaN   \n",
       "29     NaN       Reg          Lvl    ...             0     NaN  MnPrv   \n",
       "...    ...       ...          ...    ...           ...     ...    ...   \n",
       "2021   NaN       Reg          Lvl    ...             0     NaN    NaN   \n",
       "2022   NaN       IR1          Lvl    ...             0     NaN    NaN   \n",
       "2023   NaN       IR3          Lvl    ...             0     NaN    NaN   \n",
       "2024   NaN       Reg          Lvl    ...             0     NaN    NaN   \n",
       "2025   NaN       IR1          Lvl    ...             0     NaN    NaN   \n",
       "2026   NaN       Reg          Lvl    ...             0     NaN  GdPrv   \n",
       "2027   NaN       Reg          Lvl    ...             0     NaN    NaN   \n",
       "2028   NaN       IR2          Lvl    ...             0     NaN    NaN   \n",
       "2029   NaN       IR1          HLS    ...             0     NaN    NaN   \n",
       "2030  Pave       Reg          HLS    ...             0     NaN    NaN   \n",
       "2031   NaN       IR1          Lvl    ...             0     NaN    NaN   \n",
       "2032   NaN       Reg          Lvl    ...             0     NaN  GdPrv   \n",
       "2033   NaN       IR1          HLS    ...             0     NaN    NaN   \n",
       "2034   NaN       IR1          Lvl    ...             0     NaN    NaN   \n",
       "2035   NaN       Reg          Lvl    ...             0     NaN    NaN   \n",
       "2036   NaN       Reg          Lvl    ...             0     NaN    NaN   \n",
       "2037   NaN       IR1          Lvl    ...             0     NaN  MnPrv   \n",
       "2038   NaN       Reg          Lvl    ...             0     NaN  GdPrv   \n",
       "2039   NaN       Reg          Lvl    ...             0     NaN    NaN   \n",
       "2040   NaN       Reg          Lvl    ...             0     NaN    NaN   \n",
       "2041   NaN       IR1          Lvl    ...             0     NaN    NaN   \n",
       "2042  Grvl       Reg          Lvl    ...             0     NaN    NaN   \n",
       "2043   NaN       Reg          Lvl    ...             0     NaN   GdWo   \n",
       "2044   NaN       IR1          Lvl    ...             0     NaN    NaN   \n",
       "2045   NaN       Reg          Lvl    ...             0     NaN    NaN   \n",
       "2046   NaN       IR1          HLS    ...             0     NaN    NaN   \n",
       "2047   NaN       IR1          Lvl    ...             0     NaN    NaN   \n",
       "2048   NaN       Reg          Bnk    ...             0     NaN    NaN   \n",
       "2049   NaN       Reg          Lvl    ...             0     NaN    NaN   \n",
       "2050   NaN       Reg          Lvl    ...             0     NaN    NaN   \n",
       "\n",
       "     Misc Feature Misc Val Mo Sold Yr Sold Sale Type  Sale Condition  \\\n",
       "0             NaN        0       3    2010       WD           Normal   \n",
       "1             NaN        0       4    2009       WD           Normal   \n",
       "2             NaN        0       1    2010       WD          Abnorml   \n",
       "3             NaN        0       4    2010       WD           Normal   \n",
       "4             NaN        0       3    2010       WD           Normal   \n",
       "5             NaN        0       6    2010       WD           Normal   \n",
       "6             NaN        0       6    2006       New         Partial   \n",
       "7             NaN        0       5    2010       COD         Abnorml   \n",
       "8            Shed      400       6    2007       WD           Normal   \n",
       "9             NaN        0       9    2007       WD           Family   \n",
       "10            NaN        0       7    2008       COD         Abnorml   \n",
       "11            NaN        0       2    2006       WD          Abnorml   \n",
       "12            NaN        0       6    2009       WD           Normal   \n",
       "13            NaN        0      12    2008     ConLD          Normal   \n",
       "14            NaN        0       6    2008       WD           Normal   \n",
       "15            NaN        0       3    2010       WD           Normal   \n",
       "16            NaN        0       5    2008       COD         Abnorml   \n",
       "17            NaN        0       6    2009       WD           Normal   \n",
       "18            NaN        0       4    2007       WD           Normal   \n",
       "19            NaN        0       6    2010       Con          Normal   \n",
       "20            NaN        0       5    2007       WD           Normal   \n",
       "21            NaN        0      10    2009       WD           Normal   \n",
       "22            NaN        0       7    2006       New         Partial   \n",
       "23           Shed      500       3    2010       WD           Normal   \n",
       "24            NaN        0       1    2006       WD           Normal   \n",
       "25            NaN        0       4    2009       WD           Normal   \n",
       "26            NaN        0       4    2010       WD           Normal   \n",
       "27            NaN        0       7    2008       WD           Normal   \n",
       "28            NaN        0       6    2007       WD           Normal   \n",
       "29           Shed     2000       7    2007       WD           Normal   \n",
       "...           ...      ...     ...     ...       ...             ...   \n",
       "2021          NaN        0       3    2006       WD           Normal   \n",
       "2022          NaN        0      12    2006       WD           Normal   \n",
       "2023          NaN        0       6    2008       WD           Normal   \n",
       "2024          NaN        0      11    2007       WD           Normal   \n",
       "2025          NaN        0      11    2006       New         Partial   \n",
       "2026          NaN        0      10    2007       WD           Normal   \n",
       "2027          NaN        0       9    2006       WD           Normal   \n",
       "2028          NaN        0       6    2006       WD           Normal   \n",
       "2029          NaN        0       5    2009       WD           Normal   \n",
       "2030          NaN        0       1    2010       WD          Abnorml   \n",
       "2031          NaN        0       4    2010       WD           Normal   \n",
       "2032         Shed       80       5    2010       WD           Normal   \n",
       "2033          NaN        0       3    2010       WD           Normal   \n",
       "2034          NaN        0       7    2006       WD           Normal   \n",
       "2035          NaN        0       7    2006       WD           Normal   \n",
       "2036          NaN        0       7    2009       WD           Normal   \n",
       "2037          NaN        0       6    2006       WD           Normal   \n",
       "2038          NaN        0       5    2007       WD           Normal   \n",
       "2039          NaN        0       5    2007       WD           Normal   \n",
       "2040          NaN        0       7    2006       WD           Normal   \n",
       "2041          NaN        0       3    2008       WD           Normal   \n",
       "2042          NaN        0       9    2006       COD         Abnorml   \n",
       "2043          NaN        0       2    2007       WD           Normal   \n",
       "2044          NaN        0       4    2008       WD           Normal   \n",
       "2045          NaN        0      11    2008       New         Partial   \n",
       "2046          NaN        0       1    2008       WD           Normal   \n",
       "2047          NaN        0       3    2009       WD           Normal   \n",
       "2048          NaN        0       3    2009       WD           Normal   \n",
       "2049          NaN        0      11    2009       WD           Family   \n",
       "2050          NaN        0       6    2010       WD           Normal   \n",
       "\n",
       "      SalePrice  \n",
       "0        130500  \n",
       "1        220000  \n",
       "2        109000  \n",
       "3        174000  \n",
       "4        138500  \n",
       "5        190000  \n",
       "6        140000  \n",
       "7        142000  \n",
       "8        112500  \n",
       "9        135000  \n",
       "10        85400  \n",
       "11       183600  \n",
       "12       131000  \n",
       "13       200000  \n",
       "14       193000  \n",
       "15       173500  \n",
       "16        98000  \n",
       "17       139000  \n",
       "18       143500  \n",
       "19       215200  \n",
       "20       129000  \n",
       "21       278000  \n",
       "22       344133  \n",
       "23       185000  \n",
       "24       145000  \n",
       "25       187500  \n",
       "26       138500  \n",
       "27       198000  \n",
       "28       119600  \n",
       "29       122900  \n",
       "...         ...  \n",
       "2021     195800  \n",
       "2022     223000  \n",
       "2023     192000  \n",
       "2024     197000  \n",
       "2025     298236  \n",
       "2026     238000  \n",
       "2027     119000  \n",
       "2028     262500  \n",
       "2029     425000  \n",
       "2030     102776  \n",
       "2031     149900  \n",
       "2032     190000  \n",
       "2033     162500  \n",
       "2034     217000  \n",
       "2035     137500  \n",
       "2036     270000  \n",
       "2037     142500  \n",
       "2038     161000  \n",
       "2039      93900  \n",
       "2040     225000  \n",
       "2041     412500  \n",
       "2042      83000  \n",
       "2043     128000  \n",
       "2044     182000  \n",
       "2045     394617  \n",
       "2046     298751  \n",
       "2047      82500  \n",
       "2048     177000  \n",
       "2049     144000  \n",
       "2050     189000  \n",
       "\n",
       "[2049 rows x 82 columns]"
      ]
     },
     "execution_count": 100,
     "metadata": {},
     "output_type": "execute_result"
    }
   ],
   "source": [
    "df_droping.loc[df_droping['Gr Liv Area'] < 4000]"
   ]
  },
  {
   "cell_type": "code",
   "execution_count": null,
   "metadata": {
    "collapsed": true
   },
   "outputs": [],
   "source": []
  },
  {
   "cell_type": "code",
   "execution_count": null,
   "metadata": {
    "collapsed": true
   },
   "outputs": [],
   "source": []
  },
  {
   "cell_type": "code",
   "execution_count": null,
   "metadata": {
    "collapsed": true
   },
   "outputs": [],
   "source": []
  },
  {
   "cell_type": "code",
   "execution_count": 115,
   "metadata": {
    "collapsed": true
   },
   "outputs": [],
   "source": [
    "y = df['saleprice']\n",
    "X = df.drop(['id', 'pid', 'sale_condition', 'saleprice'], axis=1)\n",
    "# select all but id, pid, sale_condition, saleprice"
   ]
  },
  {
   "cell_type": "code",
   "execution_count": 116,
   "metadata": {
    "collapsed": true
   },
   "outputs": [],
   "source": [
    "X_train, X_test, y_train, y_test = train_test_split(X, y)\n",
    "ss = StandardScaler()\n",
    "X_train_sc = ss.fit_transform(X_train)\n",
    "X_test_sc = ss.transform(X_test)"
   ]
  },
  {
   "cell_type": "code",
   "execution_count": 117,
   "metadata": {},
   "outputs": [
    {
     "data": {
      "text/plain": [
       "LinearRegression(copy_X=True, fit_intercept=True, n_jobs=1, normalize=False)"
      ]
     },
     "execution_count": 117,
     "metadata": {},
     "output_type": "execute_result"
    }
   ],
   "source": [
    "lr = LinearRegression()\n",
    "lr.fit(X_train_sc, y_train)"
   ]
  },
  {
   "cell_type": "code",
   "execution_count": 118,
   "metadata": {},
   "outputs": [
    {
     "name": "stdout",
     "output_type": "stream",
     "text": [
      "train 0.909608735344\n",
      "test -6.85442443707e+22\n"
     ]
    }
   ],
   "source": [
    "print('train', lr.score(X_train_sc, y_train))\n",
    "print('test', lr.score(X_test_sc, y_test))"
   ]
  },
  {
   "cell_type": "code",
   "execution_count": 119,
   "metadata": {},
   "outputs": [
    {
     "data": {
      "text/plain": [
       "(513, 209)"
      ]
     },
     "execution_count": 119,
     "metadata": {},
     "output_type": "execute_result"
    }
   ],
   "source": [
    "X_test.shape"
   ]
  },
  {
   "cell_type": "code",
   "execution_count": 120,
   "metadata": {},
   "outputs": [
    {
     "data": {
      "text/plain": [
       "(876, 213)"
      ]
     },
     "execution_count": 120,
     "metadata": {},
     "output_type": "execute_result"
    }
   ],
   "source": [
    "final.shape"
   ]
  },
  {
   "cell_type": "code",
   "execution_count": 44,
   "metadata": {},
   "outputs": [
    {
     "data": {
      "text/plain": [
       "['pid', 'sale_condition', 'id', 'saleprice']"
      ]
     },
     "execution_count": 44,
     "metadata": {},
     "output_type": "execute_result"
    }
   ],
   "source": [
    "list(set(final.columns) - set(X_test.columns))"
   ]
  },
  {
   "cell_type": "code",
   "execution_count": null,
   "metadata": {
    "collapsed": true
   },
   "outputs": [],
   "source": []
  },
  {
   "cell_type": "code",
   "execution_count": null,
   "metadata": {
    "collapsed": true
   },
   "outputs": [],
   "source": []
  },
  {
   "cell_type": "code",
   "execution_count": null,
   "metadata": {
    "collapsed": true
   },
   "outputs": [],
   "source": []
  },
  {
   "cell_type": "code",
   "execution_count": null,
   "metadata": {
    "collapsed": true
   },
   "outputs": [],
   "source": []
  },
  {
   "cell_type": "code",
   "execution_count": null,
   "metadata": {
    "collapsed": true
   },
   "outputs": [],
   "source": []
  },
  {
   "cell_type": "code",
   "execution_count": null,
   "metadata": {
    "collapsed": true
   },
   "outputs": [],
   "source": []
  },
  {
   "cell_type": "code",
   "execution_count": null,
   "metadata": {
    "collapsed": true
   },
   "outputs": [],
   "source": [
    "X_train_sc"
   ]
  },
  {
   "cell_type": "code",
   "execution_count": 150,
   "metadata": {},
   "outputs": [
    {
     "data": {
      "text/plain": [
       "{'alpha': 0.24500000000000013, 'l1_ratio': 0.001}"
      ]
     },
     "execution_count": 150,
     "metadata": {},
     "output_type": "execute_result"
    }
   ],
   "source": [
    "enet = ElasticNet()\n",
    "params = {\n",
    "    'alpha': np.arange(.1, .4, .005),\n",
    "    'l1_ratio': np.arange(.001, .01, .05)\n",
    "}\n",
    "gs = GridSearchCV(enet, params, n_jobs=-1)\n",
    "gs.fit(X_train_sc, y_train)\n",
    "gs.best_params_"
   ]
  },
  {
   "cell_type": "code",
   "execution_count": null,
   "metadata": {
    "collapsed": true
   },
   "outputs": [],
   "source": []
  },
  {
   "cell_type": "code",
   "execution_count": 124,
   "metadata": {},
   "outputs": [
    {
     "data": {
      "text/plain": [
       "0.90009285430478059"
      ]
     },
     "execution_count": 124,
     "metadata": {},
     "output_type": "execute_result"
    }
   ],
   "source": [
    "gs.score(X_test_sc, y_test)"
   ]
  },
  {
   "cell_type": "code",
   "execution_count": 39,
   "metadata": {
    "collapsed": true
   },
   "outputs": [
    {
     "name": "stderr",
     "output_type": "stream",
     "text": [
      "C:\\Users\\Mark\\Anaconda3\\lib\\site-packages\\sklearn\\utils\\deprecation.py:122: FutureWarning: You are accessing a training score ('mean_train_score'), which will not be available by default any more in 0.21. If you need training scores, please set return_train_score=True\n",
      "  warnings.warn(*warn_args, **warn_kwargs)\n",
      "C:\\Users\\Mark\\Anaconda3\\lib\\site-packages\\sklearn\\utils\\deprecation.py:122: FutureWarning: You are accessing a training score ('split0_train_score'), which will not be available by default any more in 0.21. If you need training scores, please set return_train_score=True\n",
      "  warnings.warn(*warn_args, **warn_kwargs)\n",
      "C:\\Users\\Mark\\Anaconda3\\lib\\site-packages\\sklearn\\utils\\deprecation.py:122: FutureWarning: You are accessing a training score ('split1_train_score'), which will not be available by default any more in 0.21. If you need training scores, please set return_train_score=True\n",
      "  warnings.warn(*warn_args, **warn_kwargs)\n",
      "C:\\Users\\Mark\\Anaconda3\\lib\\site-packages\\sklearn\\utils\\deprecation.py:122: FutureWarning: You are accessing a training score ('split2_train_score'), which will not be available by default any more in 0.21. If you need training scores, please set return_train_score=True\n",
      "  warnings.warn(*warn_args, **warn_kwargs)\n",
      "C:\\Users\\Mark\\Anaconda3\\lib\\site-packages\\sklearn\\utils\\deprecation.py:122: FutureWarning: You are accessing a training score ('std_train_score'), which will not be available by default any more in 0.21. If you need training scores, please set return_train_score=True\n",
      "  warnings.warn(*warn_args, **warn_kwargs)\n"
     ]
    },
    {
     "data": {
      "text/html": [
       "<div>\n",
       "<style>\n",
       "    .dataframe thead tr:only-child th {\n",
       "        text-align: right;\n",
       "    }\n",
       "\n",
       "    .dataframe thead th {\n",
       "        text-align: left;\n",
       "    }\n",
       "\n",
       "    .dataframe tbody tr th {\n",
       "        vertical-align: top;\n",
       "    }\n",
       "</style>\n",
       "<table border=\"1\" class=\"dataframe\">\n",
       "  <thead>\n",
       "    <tr style=\"text-align: right;\">\n",
       "      <th></th>\n",
       "      <th>mean_fit_time</th>\n",
       "      <th>mean_score_time</th>\n",
       "      <th>mean_test_score</th>\n",
       "      <th>mean_train_score</th>\n",
       "      <th>param_alpha</th>\n",
       "      <th>param_l1_ratio</th>\n",
       "      <th>params</th>\n",
       "      <th>rank_test_score</th>\n",
       "      <th>split0_test_score</th>\n",
       "      <th>split0_train_score</th>\n",
       "      <th>split1_test_score</th>\n",
       "      <th>split1_train_score</th>\n",
       "      <th>split2_test_score</th>\n",
       "      <th>split2_train_score</th>\n",
       "      <th>std_fit_time</th>\n",
       "      <th>std_score_time</th>\n",
       "      <th>std_test_score</th>\n",
       "      <th>std_train_score</th>\n",
       "    </tr>\n",
       "  </thead>\n",
       "  <tbody>\n",
       "    <tr>\n",
       "      <th>32</th>\n",
       "      <td>0.050467</td>\n",
       "      <td>0.002005</td>\n",
       "      <td>0.830379</td>\n",
       "      <td>0.886592</td>\n",
       "      <td>0.26</td>\n",
       "      <td>0.001</td>\n",
       "      <td>{'alpha': 0.26, 'l1_ratio': 0.001}</td>\n",
       "      <td>1</td>\n",
       "      <td>0.856013</td>\n",
       "      <td>0.883818</td>\n",
       "      <td>0.849460</td>\n",
       "      <td>0.882883</td>\n",
       "      <td>0.785576</td>\n",
       "      <td>0.893074</td>\n",
       "      <td>0.002632</td>\n",
       "      <td>0.001638</td>\n",
       "      <td>0.031762</td>\n",
       "      <td>0.004599</td>\n",
       "    </tr>\n",
       "    <tr>\n",
       "      <th>31</th>\n",
       "      <td>0.051136</td>\n",
       "      <td>0.001337</td>\n",
       "      <td>0.830377</td>\n",
       "      <td>0.886852</td>\n",
       "      <td>0.255</td>\n",
       "      <td>0.001</td>\n",
       "      <td>{'alpha': 0.255, 'l1_ratio': 0.001}</td>\n",
       "      <td>2</td>\n",
       "      <td>0.856038</td>\n",
       "      <td>0.884091</td>\n",
       "      <td>0.849520</td>\n",
       "      <td>0.883169</td>\n",
       "      <td>0.785485</td>\n",
       "      <td>0.893296</td>\n",
       "      <td>0.002165</td>\n",
       "      <td>0.000945</td>\n",
       "      <td>0.031824</td>\n",
       "      <td>0.004572</td>\n",
       "    </tr>\n",
       "    <tr>\n",
       "      <th>33</th>\n",
       "      <td>0.054478</td>\n",
       "      <td>0.001338</td>\n",
       "      <td>0.830376</td>\n",
       "      <td>0.886332</td>\n",
       "      <td>0.265</td>\n",
       "      <td>0.001</td>\n",
       "      <td>{'alpha': 0.265, 'l1_ratio': 0.001}</td>\n",
       "      <td>3</td>\n",
       "      <td>0.855982</td>\n",
       "      <td>0.883546</td>\n",
       "      <td>0.849396</td>\n",
       "      <td>0.882598</td>\n",
       "      <td>0.785662</td>\n",
       "      <td>0.892852</td>\n",
       "      <td>0.003692</td>\n",
       "      <td>0.000472</td>\n",
       "      <td>0.031701</td>\n",
       "      <td>0.004626</td>\n",
       "    </tr>\n",
       "    <tr>\n",
       "      <th>30</th>\n",
       "      <td>0.051137</td>\n",
       "      <td>0.001337</td>\n",
       "      <td>0.830370</td>\n",
       "      <td>0.887112</td>\n",
       "      <td>0.25</td>\n",
       "      <td>0.001</td>\n",
       "      <td>{'alpha': 0.25, 'l1_ratio': 0.001}</td>\n",
       "      <td>4</td>\n",
       "      <td>0.856060</td>\n",
       "      <td>0.884363</td>\n",
       "      <td>0.849575</td>\n",
       "      <td>0.883454</td>\n",
       "      <td>0.785387</td>\n",
       "      <td>0.893518</td>\n",
       "      <td>0.005114</td>\n",
       "      <td>0.000473</td>\n",
       "      <td>0.031887</td>\n",
       "      <td>0.004545</td>\n",
       "    </tr>\n",
       "    <tr>\n",
       "      <th>34</th>\n",
       "      <td>0.049799</td>\n",
       "      <td>0.001671</td>\n",
       "      <td>0.830368</td>\n",
       "      <td>0.886072</td>\n",
       "      <td>0.27</td>\n",
       "      <td>0.001</td>\n",
       "      <td>{'alpha': 0.27, 'l1_ratio': 0.001}</td>\n",
       "      <td>5</td>\n",
       "      <td>0.855947</td>\n",
       "      <td>0.883273</td>\n",
       "      <td>0.849328</td>\n",
       "      <td>0.882313</td>\n",
       "      <td>0.785742</td>\n",
       "      <td>0.892629</td>\n",
       "      <td>0.002501</td>\n",
       "      <td>0.000473</td>\n",
       "      <td>0.031640</td>\n",
       "      <td>0.004653</td>\n",
       "    </tr>\n",
       "  </tbody>\n",
       "</table>\n",
       "</div>"
      ],
      "text/plain": [
       "    mean_fit_time  mean_score_time  mean_test_score  mean_train_score  \\\n",
       "32       0.050467         0.002005         0.830379          0.886592   \n",
       "31       0.051136         0.001337         0.830377          0.886852   \n",
       "33       0.054478         0.001338         0.830376          0.886332   \n",
       "30       0.051137         0.001337         0.830370          0.887112   \n",
       "34       0.049799         0.001671         0.830368          0.886072   \n",
       "\n",
       "   param_alpha param_l1_ratio                               params  \\\n",
       "32        0.26          0.001   {'alpha': 0.26, 'l1_ratio': 0.001}   \n",
       "31       0.255          0.001  {'alpha': 0.255, 'l1_ratio': 0.001}   \n",
       "33       0.265          0.001  {'alpha': 0.265, 'l1_ratio': 0.001}   \n",
       "30        0.25          0.001   {'alpha': 0.25, 'l1_ratio': 0.001}   \n",
       "34        0.27          0.001   {'alpha': 0.27, 'l1_ratio': 0.001}   \n",
       "\n",
       "    rank_test_score  split0_test_score  split0_train_score  split1_test_score  \\\n",
       "32                1           0.856013            0.883818           0.849460   \n",
       "31                2           0.856038            0.884091           0.849520   \n",
       "33                3           0.855982            0.883546           0.849396   \n",
       "30                4           0.856060            0.884363           0.849575   \n",
       "34                5           0.855947            0.883273           0.849328   \n",
       "\n",
       "    split1_train_score  split2_test_score  split2_train_score  std_fit_time  \\\n",
       "32            0.882883           0.785576            0.893074      0.002632   \n",
       "31            0.883169           0.785485            0.893296      0.002165   \n",
       "33            0.882598           0.785662            0.892852      0.003692   \n",
       "30            0.883454           0.785387            0.893518      0.005114   \n",
       "34            0.882313           0.785742            0.892629      0.002501   \n",
       "\n",
       "    std_score_time  std_test_score  std_train_score  \n",
       "32        0.001638        0.031762         0.004599  \n",
       "31        0.000945        0.031824         0.004572  \n",
       "33        0.000472        0.031701         0.004626  \n",
       "30        0.000473        0.031887         0.004545  \n",
       "34        0.000473        0.031640         0.004653  "
      ]
     },
     "execution_count": 39,
     "metadata": {},
     "output_type": "execute_result"
    }
   ],
   "source": [
    "pd.DataFrame(gs.cv_results_).sort_values(by='rank_test_score').head()"
   ]
  },
  {
   "cell_type": "code",
   "execution_count": 40,
   "metadata": {
    "collapsed": true
   },
   "outputs": [],
   "source": [
    "# X_final = final.drop(['id', 'pid', 'sale_condition', 'saleprice'], axis=1)\n",
    "# X_final_sc = ss.transform(X_final)\n",
    "# predictions = gs.predict(X_final_sc)"
   ]
  },
  {
   "cell_type": "code",
   "execution_count": 41,
   "metadata": {
    "collapsed": true
   },
   "outputs": [],
   "source": [
    "# final['SalePrice'] = predictions\n",
    "# final[['id','SalePrice']].to_csv('export_clean_attempt2.csv', index=False)"
   ]
  },
  {
   "cell_type": "code",
   "execution_count": 50,
   "metadata": {},
   "outputs": [
    {
     "data": {
      "text/plain": [
       "210"
      ]
     },
     "execution_count": 50,
     "metadata": {},
     "output_type": "execute_result"
    }
   ],
   "source": [
    "len(X_train.columns)"
   ]
  },
  {
   "cell_type": "code",
   "execution_count": 51,
   "metadata": {},
   "outputs": [
    {
     "data": {
      "text/plain": [
       "210"
      ]
     },
     "execution_count": 51,
     "metadata": {},
     "output_type": "execute_result"
    }
   ],
   "source": [
    "len(gs.best_estimator_.coef_)"
   ]
  },
  {
   "cell_type": "code",
   "execution_count": 66,
   "metadata": {},
   "outputs": [],
   "source": [
    "from sklearn.linear_model import Ridge"
   ]
  },
  {
   "cell_type": "code",
   "execution_count": 146,
   "metadata": {
    "collapsed": true
   },
   "outputs": [],
   "source": [
    "X_train, X_test, y_train, y_test = train_test_split(X, y, random_state=101)\n",
    "ss = StandardScaler()\n",
    "\n",
    "X_train_sc = ss.fit_transform(X_train)\n",
    "X_test_sc = ss.transform(X_test)"
   ]
  },
  {
   "cell_type": "code",
   "execution_count": 149,
   "metadata": {},
   "outputs": [
    {
     "data": {
      "text/plain": [
       "0.88886474097524315"
      ]
     },
     "execution_count": 149,
     "metadata": {},
     "output_type": "execute_result"
    }
   ],
   "source": [
    "ridge2 = Ridge(alpha=250)\n",
    "ridge2.fit(X_train_sc, y_train)\n",
    "\n",
    "ridge2.score(X_test_sc, y_test)\n",
    "# 0.7895619048565512\n"
   ]
  },
  {
   "cell_type": "code",
   "execution_count": null,
   "metadata": {
    "collapsed": true
   },
   "outputs": [],
   "source": [
    "# X_final = final.drop(['id', 'pid', 'sale_condition', 'saleprice'], axis=1) # , 'SalePrice'\n",
    "# X_final_sc = ss.transform(X_final)\n",
    "# predictions = ridge.predict(X_final_sc)\n",
    "\n",
    "# final['SalePrice'] = predictions\n",
    "# final[['id','SalePrice']].to_csv('export_ridge.csv', index=False)"
   ]
  },
  {
   "cell_type": "code",
   "execution_count": null,
   "metadata": {
    "collapsed": true
   },
   "outputs": [],
   "source": []
  },
  {
   "cell_type": "code",
   "execution_count": null,
   "metadata": {
    "collapsed": true
   },
   "outputs": [],
   "source": [
    "living area vs sale price"
   ]
  },
  {
   "cell_type": "markdown",
   "metadata": {},
   "source": [
    "## fit on everything"
   ]
  },
  {
   "cell_type": "code",
   "execution_count": 137,
   "metadata": {
    "collapsed": true
   },
   "outputs": [],
   "source": [
    "ye = df['saleprice']\n",
    "Xe = df.drop(['id', 'pid', 'sale_condition', 'saleprice'], axis=1)\n",
    "# select all but id, pid, sale_condition, saleprice"
   ]
  },
  {
   "cell_type": "code",
   "execution_count": null,
   "metadata": {
    "collapsed": true
   },
   "outputs": [],
   "source": []
  },
  {
   "cell_type": "code",
   "execution_count": 138,
   "metadata": {
    "collapsed": true
   },
   "outputs": [],
   "source": [
    "ss = StandardScaler()\n",
    "Xe_sc = ss.fit_transform(Xe)"
   ]
  },
  {
   "cell_type": "code",
   "execution_count": 139,
   "metadata": {},
   "outputs": [
    {
     "data": {
      "text/plain": [
       "Ridge(alpha=250, copy_X=True, fit_intercept=True, max_iter=None,\n",
       "   normalize=False, random_state=None, solver='auto', tol=0.001)"
      ]
     },
     "execution_count": 139,
     "metadata": {},
     "output_type": "execute_result"
    }
   ],
   "source": [
    "ridge = Ridge(alpha=250)\n",
    "ridge.fit(Xe_sc, ye)"
   ]
  },
  {
   "cell_type": "code",
   "execution_count": 141,
   "metadata": {},
   "outputs": [],
   "source": [
    "X_final = final.drop(['id', 'pid', 'sale_condition', 'saleprice'], axis=1) # , 'SalePrice'\n",
    "X_final_sc = ss.transform(X_final)\n",
    "predictions = ridge.predict(X_final_sc)"
   ]
  },
  {
   "cell_type": "code",
   "execution_count": 142,
   "metadata": {
    "collapsed": true
   },
   "outputs": [],
   "source": [
    "final['SalePrice'] = predictions\n",
    "final[['id','SalePrice']].to_csv('export_ridge_fit_everything_a250.csv', index=False)"
   ]
  },
  {
   "cell_type": "code",
   "execution_count": 143,
   "metadata": {},
   "outputs": [
    {
     "data": {
      "text/plain": [
       "[-9386.3247156638245,\n",
       " -10359.999188234156,\n",
       " -3078.3098256469239,\n",
       " -967.8090431173041]"
      ]
     },
     "execution_count": 143,
     "metadata": {},
     "output_type": "execute_result"
    }
   ],
   "source": [
    "[a for a in predictions if a < 0]"
   ]
  },
  {
   "cell_type": "code",
   "execution_count": null,
   "metadata": {
    "collapsed": true
   },
   "outputs": [],
   "source": []
  },
  {
   "cell_type": "code",
   "execution_count": 136,
   "metadata": {
    "collapsed": true
   },
   "outputs": [
    {
     "data": {
      "text/html": [
       "<div>\n",
       "<style>\n",
       "    .dataframe thead tr:only-child th {\n",
       "        text-align: right;\n",
       "    }\n",
       "\n",
       "    .dataframe thead th {\n",
       "        text-align: left;\n",
       "    }\n",
       "\n",
       "    .dataframe tbody tr th {\n",
       "        vertical-align: top;\n",
       "    }\n",
       "</style>\n",
       "<table border=\"1\" class=\"dataframe\">\n",
       "  <thead>\n",
       "    <tr style=\"text-align: right;\">\n",
       "      <th></th>\n",
       "      <th>0</th>\n",
       "    </tr>\n",
       "  </thead>\n",
       "  <tbody>\n",
       "    <tr>\n",
       "      <th>n__Gilbert</th>\n",
       "      <td>-3279.576597</td>\n",
       "    </tr>\n",
       "    <tr>\n",
       "      <th>mssub__120</th>\n",
       "      <td>-2643.835826</td>\n",
       "    </tr>\n",
       "    <tr>\n",
       "      <th>funct__Sev</th>\n",
       "      <td>-2377.791352</td>\n",
       "    </tr>\n",
       "    <tr>\n",
       "      <th>n__NAmes</th>\n",
       "      <td>-2267.165489</td>\n",
       "    </tr>\n",
       "    <tr>\n",
       "      <th>rst__Gable</th>\n",
       "      <td>-2149.128377</td>\n",
       "    </tr>\n",
       "    <tr>\n",
       "      <th>funct__Maj1</th>\n",
       "      <td>-2141.812978</td>\n",
       "    </tr>\n",
       "    <tr>\n",
       "      <th>hb__0</th>\n",
       "      <td>-2005.244411</td>\n",
       "    </tr>\n",
       "    <tr>\n",
       "      <th>mssub__160</th>\n",
       "      <td>-1914.190043</td>\n",
       "    </tr>\n",
       "    <tr>\n",
       "      <th>rst__Mansard</th>\n",
       "      <td>-1871.420297</td>\n",
       "    </tr>\n",
       "    <tr>\n",
       "      <th>stype__COD</th>\n",
       "      <td>-1783.599213</td>\n",
       "    </tr>\n",
       "    <tr>\n",
       "      <th>n__OldTown</th>\n",
       "      <td>-1776.809911</td>\n",
       "    </tr>\n",
       "    <tr>\n",
       "      <th>ext2__BrkFace</th>\n",
       "      <td>-1770.765175</td>\n",
       "    </tr>\n",
       "    <tr>\n",
       "      <th>found__CBlock</th>\n",
       "      <td>-1766.725901</td>\n",
       "    </tr>\n",
       "    <tr>\n",
       "      <th>n__CollgCr</th>\n",
       "      <td>-1744.311181</td>\n",
       "    </tr>\n",
       "    <tr>\n",
       "      <th>cond1__RRe</th>\n",
       "      <td>-1731.586114</td>\n",
       "    </tr>\n",
       "    <tr>\n",
       "      <th>n__NWAmes</th>\n",
       "      <td>-1703.505194</td>\n",
       "    </tr>\n",
       "    <tr>\n",
       "      <th>btype__Twnhs</th>\n",
       "      <td>-1686.621156</td>\n",
       "    </tr>\n",
       "    <tr>\n",
       "      <th>hb__2</th>\n",
       "      <td>-1622.002458</td>\n",
       "    </tr>\n",
       "    <tr>\n",
       "      <th>stype__WD</th>\n",
       "      <td>-1613.117294</td>\n",
       "    </tr>\n",
       "    <tr>\n",
       "      <th>n__SawyerW</th>\n",
       "      <td>-1536.604946</td>\n",
       "    </tr>\n",
       "    <tr>\n",
       "      <th>n__Edwards</th>\n",
       "      <td>-1533.914777</td>\n",
       "    </tr>\n",
       "    <tr>\n",
       "      <th>btype__TwnhsE</th>\n",
       "      <td>-1519.338274</td>\n",
       "    </tr>\n",
       "    <tr>\n",
       "      <th>ext2__Stone</th>\n",
       "      <td>-1481.184328</td>\n",
       "    </tr>\n",
       "    <tr>\n",
       "      <th>ext1__Wd Sdng</th>\n",
       "      <td>-1396.683242</td>\n",
       "    </tr>\n",
       "    <tr>\n",
       "      <th>ext2__Wd Shng</th>\n",
       "      <td>-1386.668656</td>\n",
       "    </tr>\n",
       "    <tr>\n",
       "      <th>kita__2</th>\n",
       "      <td>-1194.529506</td>\n",
       "    </tr>\n",
       "    <tr>\n",
       "      <th>funct__Mod</th>\n",
       "      <td>-1192.725984</td>\n",
       "    </tr>\n",
       "    <tr>\n",
       "      <th>ext2__Stucco</th>\n",
       "      <td>-1168.022277</td>\n",
       "    </tr>\n",
       "    <tr>\n",
       "      <th>landm__Sev</th>\n",
       "      <td>-1126.626384</td>\n",
       "    </tr>\n",
       "    <tr>\n",
       "      <th>n__Blmngtn</th>\n",
       "      <td>-1125.251925</td>\n",
       "    </tr>\n",
       "    <tr>\n",
       "      <th>...</th>\n",
       "      <td>...</td>\n",
       "    </tr>\n",
       "    <tr>\n",
       "      <th>btype__1Fam</th>\n",
       "      <td>1632.780501</td>\n",
       "    </tr>\n",
       "    <tr>\n",
       "      <th>found__Slab</th>\n",
       "      <td>1738.650070</td>\n",
       "    </tr>\n",
       "    <tr>\n",
       "      <th>mssub__20</th>\n",
       "      <td>1817.796509</td>\n",
       "    </tr>\n",
       "    <tr>\n",
       "      <th>n__Crawfor</th>\n",
       "      <td>1855.575435</td>\n",
       "    </tr>\n",
       "    <tr>\n",
       "      <th>found__PConc</th>\n",
       "      <td>1962.191399</td>\n",
       "    </tr>\n",
       "    <tr>\n",
       "      <th>hstyle__SFoyer</th>\n",
       "      <td>2057.892566</td>\n",
       "    </tr>\n",
       "    <tr>\n",
       "      <th>rmat__WdShngl</th>\n",
       "      <td>2066.119452</td>\n",
       "    </tr>\n",
       "    <tr>\n",
       "      <th>lotfig__CulDSac</th>\n",
       "      <td>2068.928423</td>\n",
       "    </tr>\n",
       "    <tr>\n",
       "      <th>landcon__HLS</th>\n",
       "      <td>2230.777842</td>\n",
       "    </tr>\n",
       "    <tr>\n",
       "      <th>year_remod/add</th>\n",
       "      <td>2256.547572</td>\n",
       "    </tr>\n",
       "    <tr>\n",
       "      <th>hb__1</th>\n",
       "      <td>2337.654069</td>\n",
       "    </tr>\n",
       "    <tr>\n",
       "      <th>rst__Hip</th>\n",
       "      <td>2498.774791</td>\n",
       "    </tr>\n",
       "    <tr>\n",
       "      <th>has_mas_vnr</th>\n",
       "      <td>2722.242760</td>\n",
       "    </tr>\n",
       "    <tr>\n",
       "      <th>overall_cond</th>\n",
       "      <td>2913.866657</td>\n",
       "    </tr>\n",
       "    <tr>\n",
       "      <th>ext1__BrkFace</th>\n",
       "      <td>3145.221345</td>\n",
       "    </tr>\n",
       "    <tr>\n",
       "      <th>n__GrnHill</th>\n",
       "      <td>3376.799865</td>\n",
       "    </tr>\n",
       "    <tr>\n",
       "      <th>stype__New</th>\n",
       "      <td>3650.144676</td>\n",
       "    </tr>\n",
       "    <tr>\n",
       "      <th>fb__3</th>\n",
       "      <td>3779.980805</td>\n",
       "    </tr>\n",
       "    <tr>\n",
       "      <th>n__NoRidge</th>\n",
       "      <td>3946.460189</td>\n",
       "    </tr>\n",
       "    <tr>\n",
       "      <th>totrms_abvgrd</th>\n",
       "      <td>4483.942625</td>\n",
       "    </tr>\n",
       "    <tr>\n",
       "      <th>year_built</th>\n",
       "      <td>4839.685545</td>\n",
       "    </tr>\n",
       "    <tr>\n",
       "      <th>has_fireplace</th>\n",
       "      <td>4873.212562</td>\n",
       "    </tr>\n",
       "    <tr>\n",
       "      <th>lot_area</th>\n",
       "      <td>5259.701250</td>\n",
       "    </tr>\n",
       "    <tr>\n",
       "      <th>n__StoneBr</th>\n",
       "      <td>5816.615164</td>\n",
       "    </tr>\n",
       "    <tr>\n",
       "      <th>kitchen_qual</th>\n",
       "      <td>6342.251889</td>\n",
       "    </tr>\n",
       "    <tr>\n",
       "      <th>exter_qual</th>\n",
       "      <td>7358.317192</td>\n",
       "    </tr>\n",
       "    <tr>\n",
       "      <th>n__NridgHt</th>\n",
       "      <td>7915.363918</td>\n",
       "    </tr>\n",
       "    <tr>\n",
       "      <th>overall_qual</th>\n",
       "      <td>11045.608747</td>\n",
       "    </tr>\n",
       "    <tr>\n",
       "      <th>total_bsmt_sf</th>\n",
       "      <td>13270.001951</td>\n",
       "    </tr>\n",
       "    <tr>\n",
       "      <th>gr_liv_area</th>\n",
       "      <td>15986.522079</td>\n",
       "    </tr>\n",
       "  </tbody>\n",
       "</table>\n",
       "<p>209 rows × 1 columns</p>\n",
       "</div>"
      ],
      "text/plain": [
       "                            0\n",
       "n__Gilbert       -3279.576597\n",
       "mssub__120       -2643.835826\n",
       "funct__Sev       -2377.791352\n",
       "n__NAmes         -2267.165489\n",
       "rst__Gable       -2149.128377\n",
       "funct__Maj1      -2141.812978\n",
       "hb__0            -2005.244411\n",
       "mssub__160       -1914.190043\n",
       "rst__Mansard     -1871.420297\n",
       "stype__COD       -1783.599213\n",
       "n__OldTown       -1776.809911\n",
       "ext2__BrkFace    -1770.765175\n",
       "found__CBlock    -1766.725901\n",
       "n__CollgCr       -1744.311181\n",
       "cond1__RRe       -1731.586114\n",
       "n__NWAmes        -1703.505194\n",
       "btype__Twnhs     -1686.621156\n",
       "hb__2            -1622.002458\n",
       "stype__WD        -1613.117294\n",
       "n__SawyerW       -1536.604946\n",
       "n__Edwards       -1533.914777\n",
       "btype__TwnhsE    -1519.338274\n",
       "ext2__Stone      -1481.184328\n",
       "ext1__Wd Sdng    -1396.683242\n",
       "ext2__Wd Shng    -1386.668656\n",
       "kita__2          -1194.529506\n",
       "funct__Mod       -1192.725984\n",
       "ext2__Stucco     -1168.022277\n",
       "landm__Sev       -1126.626384\n",
       "n__Blmngtn       -1125.251925\n",
       "...                       ...\n",
       "btype__1Fam       1632.780501\n",
       "found__Slab       1738.650070\n",
       "mssub__20         1817.796509\n",
       "n__Crawfor        1855.575435\n",
       "found__PConc      1962.191399\n",
       "hstyle__SFoyer    2057.892566\n",
       "rmat__WdShngl     2066.119452\n",
       "lotfig__CulDSac   2068.928423\n",
       "landcon__HLS      2230.777842\n",
       "year_remod/add    2256.547572\n",
       "hb__1             2337.654069\n",
       "rst__Hip          2498.774791\n",
       "has_mas_vnr       2722.242760\n",
       "overall_cond      2913.866657\n",
       "ext1__BrkFace     3145.221345\n",
       "n__GrnHill        3376.799865\n",
       "stype__New        3650.144676\n",
       "fb__3             3779.980805\n",
       "n__NoRidge        3946.460189\n",
       "totrms_abvgrd     4483.942625\n",
       "year_built        4839.685545\n",
       "has_fireplace     4873.212562\n",
       "lot_area          5259.701250\n",
       "n__StoneBr        5816.615164\n",
       "kitchen_qual      6342.251889\n",
       "exter_qual        7358.317192\n",
       "n__NridgHt        7915.363918\n",
       "overall_qual     11045.608747\n",
       "total_bsmt_sf    13270.001951\n",
       "gr_liv_area      15986.522079\n",
       "\n",
       "[209 rows x 1 columns]"
      ]
     },
     "execution_count": 136,
     "metadata": {},
     "output_type": "execute_result"
    }
   ],
   "source": [
    "coeffs3 = pd.DataFrame(index=X_train.columns,data= ridge2.coef_ )\n",
    "\n",
    "coeffs3.sort_values(by=0)"
   ]
  },
  {
   "cell_type": "code",
   "execution_count": null,
   "metadata": {
    "collapsed": true
   },
   "outputs": [],
   "source": []
  },
  {
   "cell_type": "code",
   "execution_count": null,
   "metadata": {
    "collapsed": true
   },
   "outputs": [],
   "source": []
  },
  {
   "cell_type": "code",
   "execution_count": null,
   "metadata": {
    "collapsed": true
   },
   "outputs": [],
   "source": []
  },
  {
   "cell_type": "code",
   "execution_count": 128,
   "metadata": {
    "collapsed": true
   },
   "outputs": [
    {
     "data": {
      "text/html": [
       "<div>\n",
       "<style>\n",
       "    .dataframe thead tr:only-child th {\n",
       "        text-align: right;\n",
       "    }\n",
       "\n",
       "    .dataframe thead th {\n",
       "        text-align: left;\n",
       "    }\n",
       "\n",
       "    .dataframe tbody tr th {\n",
       "        vertical-align: top;\n",
       "    }\n",
       "</style>\n",
       "<table border=\"1\" class=\"dataframe\">\n",
       "  <thead>\n",
       "    <tr style=\"text-align: right;\">\n",
       "      <th></th>\n",
       "      <th>0</th>\n",
       "    </tr>\n",
       "  </thead>\n",
       "  <tbody>\n",
       "    <tr>\n",
       "      <th>mssub__160</th>\n",
       "      <td>-8172.090679</td>\n",
       "    </tr>\n",
       "    <tr>\n",
       "      <th>mssub__120</th>\n",
       "      <td>-7999.693215</td>\n",
       "    </tr>\n",
       "    <tr>\n",
       "      <th>ext2__CmentBd</th>\n",
       "      <td>-4034.746102</td>\n",
       "    </tr>\n",
       "    <tr>\n",
       "      <th>mssub__180</th>\n",
       "      <td>-3065.874179</td>\n",
       "    </tr>\n",
       "    <tr>\n",
       "      <th>mssub__80</th>\n",
       "      <td>-3048.763227</td>\n",
       "    </tr>\n",
       "    <tr>\n",
       "      <th>hstyle__1Story</th>\n",
       "      <td>-2992.850670</td>\n",
       "    </tr>\n",
       "    <tr>\n",
       "      <th>funct__Maj1</th>\n",
       "      <td>-2855.674998</td>\n",
       "    </tr>\n",
       "    <tr>\n",
       "      <th>btype__1Fam</th>\n",
       "      <td>-2777.047933</td>\n",
       "    </tr>\n",
       "    <tr>\n",
       "      <th>ext1__VinylSd</th>\n",
       "      <td>-2470.913733</td>\n",
       "    </tr>\n",
       "    <tr>\n",
       "      <th>n__NWAmes</th>\n",
       "      <td>-2445.930966</td>\n",
       "    </tr>\n",
       "    <tr>\n",
       "      <th>n__CollgCr</th>\n",
       "      <td>-2322.137326</td>\n",
       "    </tr>\n",
       "    <tr>\n",
       "      <th>n__OldTown</th>\n",
       "      <td>-2245.912821</td>\n",
       "    </tr>\n",
       "    <tr>\n",
       "      <th>n__NAmes</th>\n",
       "      <td>-2178.794352</td>\n",
       "    </tr>\n",
       "    <tr>\n",
       "      <th>n__SawyerW</th>\n",
       "      <td>-2175.695818</td>\n",
       "    </tr>\n",
       "    <tr>\n",
       "      <th>n__Edwards</th>\n",
       "      <td>-2168.864481</td>\n",
       "    </tr>\n",
       "    <tr>\n",
       "      <th>stype__COD</th>\n",
       "      <td>-2145.009794</td>\n",
       "    </tr>\n",
       "    <tr>\n",
       "      <th>ext2__AsbShng</th>\n",
       "      <td>-1912.577297</td>\n",
       "    </tr>\n",
       "    <tr>\n",
       "      <th>rst__Gable</th>\n",
       "      <td>-1749.221873</td>\n",
       "    </tr>\n",
       "    <tr>\n",
       "      <th>landcon__Bnk</th>\n",
       "      <td>-1729.311475</td>\n",
       "    </tr>\n",
       "    <tr>\n",
       "      <th>n__Gilbert</th>\n",
       "      <td>-1715.916525</td>\n",
       "    </tr>\n",
       "    <tr>\n",
       "      <th>fb__2</th>\n",
       "      <td>-1682.426400</td>\n",
       "    </tr>\n",
       "    <tr>\n",
       "      <th>mssub__150</th>\n",
       "      <td>-1527.025217</td>\n",
       "    </tr>\n",
       "    <tr>\n",
       "      <th>ext2__BrkFace</th>\n",
       "      <td>-1517.948592</td>\n",
       "    </tr>\n",
       "    <tr>\n",
       "      <th>cond1__RRe</th>\n",
       "      <td>-1497.184701</td>\n",
       "    </tr>\n",
       "    <tr>\n",
       "      <th>funct__Mod</th>\n",
       "      <td>-1455.475231</td>\n",
       "    </tr>\n",
       "    <tr>\n",
       "      <th>ext1__MetalSd</th>\n",
       "      <td>-1435.589070</td>\n",
       "    </tr>\n",
       "    <tr>\n",
       "      <th>n__SWISU</th>\n",
       "      <td>-1382.855070</td>\n",
       "    </tr>\n",
       "    <tr>\n",
       "      <th>cond1__Artery</th>\n",
       "      <td>-1356.080583</td>\n",
       "    </tr>\n",
       "    <tr>\n",
       "      <th>ext2__HdBoard</th>\n",
       "      <td>-1289.825547</td>\n",
       "    </tr>\n",
       "    <tr>\n",
       "      <th>kita__3</th>\n",
       "      <td>-1289.303246</td>\n",
       "    </tr>\n",
       "    <tr>\n",
       "      <th>...</th>\n",
       "      <td>...</td>\n",
       "    </tr>\n",
       "    <tr>\n",
       "      <th>mszon__FV</th>\n",
       "      <td>1986.580196</td>\n",
       "    </tr>\n",
       "    <tr>\n",
       "      <th>lotfig__CulDSac</th>\n",
       "      <td>2152.572028</td>\n",
       "    </tr>\n",
       "    <tr>\n",
       "      <th>ext1__BrkFace</th>\n",
       "      <td>2177.543913</td>\n",
       "    </tr>\n",
       "    <tr>\n",
       "      <th>stype__New</th>\n",
       "      <td>2249.180642</td>\n",
       "    </tr>\n",
       "    <tr>\n",
       "      <th>has_mas_vnr</th>\n",
       "      <td>2263.046856</td>\n",
       "    </tr>\n",
       "    <tr>\n",
       "      <th>cond1__Pos</th>\n",
       "      <td>2294.755270</td>\n",
       "    </tr>\n",
       "    <tr>\n",
       "      <th>ext1__AsbShng</th>\n",
       "      <td>2413.953592</td>\n",
       "    </tr>\n",
       "    <tr>\n",
       "      <th>ext2__MetalSd</th>\n",
       "      <td>2496.577603</td>\n",
       "    </tr>\n",
       "    <tr>\n",
       "      <th>found__Slab</th>\n",
       "      <td>2501.553475</td>\n",
       "    </tr>\n",
       "    <tr>\n",
       "      <th>landcon__HLS</th>\n",
       "      <td>2565.397502</td>\n",
       "    </tr>\n",
       "    <tr>\n",
       "      <th>ext2__VinylSd</th>\n",
       "      <td>2579.866446</td>\n",
       "    </tr>\n",
       "    <tr>\n",
       "      <th>n__NPkVill</th>\n",
       "      <td>2673.989698</td>\n",
       "    </tr>\n",
       "    <tr>\n",
       "      <th>has_fireplace</th>\n",
       "      <td>3087.897657</td>\n",
       "    </tr>\n",
       "    <tr>\n",
       "      <th>btype__TwnhsE</th>\n",
       "      <td>3529.135096</td>\n",
       "    </tr>\n",
       "    <tr>\n",
       "      <th>n__NoRidge</th>\n",
       "      <td>3971.975457</td>\n",
       "    </tr>\n",
       "    <tr>\n",
       "      <th>hstyle__SFoyer</th>\n",
       "      <td>4179.519606</td>\n",
       "    </tr>\n",
       "    <tr>\n",
       "      <th>mssub__30</th>\n",
       "      <td>4353.176532</td>\n",
       "    </tr>\n",
       "    <tr>\n",
       "      <th>hstyle__SLvl</th>\n",
       "      <td>4577.607653</td>\n",
       "    </tr>\n",
       "    <tr>\n",
       "      <th>overall_cond</th>\n",
       "      <td>4823.795199</td>\n",
       "    </tr>\n",
       "    <tr>\n",
       "      <th>kitchen_qual</th>\n",
       "      <td>4898.869065</td>\n",
       "    </tr>\n",
       "    <tr>\n",
       "      <th>ext1__CemntBd</th>\n",
       "      <td>5318.485583</td>\n",
       "    </tr>\n",
       "    <tr>\n",
       "      <th>n__StoneBr</th>\n",
       "      <td>5772.411242</td>\n",
       "    </tr>\n",
       "    <tr>\n",
       "      <th>mssub__20</th>\n",
       "      <td>6053.784342</td>\n",
       "    </tr>\n",
       "    <tr>\n",
       "      <th>exter_qual</th>\n",
       "      <td>7462.252465</td>\n",
       "    </tr>\n",
       "    <tr>\n",
       "      <th>lot_area</th>\n",
       "      <td>7623.901414</td>\n",
       "    </tr>\n",
       "    <tr>\n",
       "      <th>n__NridgHt</th>\n",
       "      <td>7737.772046</td>\n",
       "    </tr>\n",
       "    <tr>\n",
       "      <th>year_built</th>\n",
       "      <td>9363.211053</td>\n",
       "    </tr>\n",
       "    <tr>\n",
       "      <th>total_bsmt_sf</th>\n",
       "      <td>12923.805667</td>\n",
       "    </tr>\n",
       "    <tr>\n",
       "      <th>overall_qual</th>\n",
       "      <td>13630.514192</td>\n",
       "    </tr>\n",
       "    <tr>\n",
       "      <th>gr_liv_area</th>\n",
       "      <td>27313.178732</td>\n",
       "    </tr>\n",
       "  </tbody>\n",
       "</table>\n",
       "<p>209 rows × 1 columns</p>\n",
       "</div>"
      ],
      "text/plain": [
       "                            0\n",
       "mssub__160       -8172.090679\n",
       "mssub__120       -7999.693215\n",
       "ext2__CmentBd    -4034.746102\n",
       "mssub__180       -3065.874179\n",
       "mssub__80        -3048.763227\n",
       "hstyle__1Story   -2992.850670\n",
       "funct__Maj1      -2855.674998\n",
       "btype__1Fam      -2777.047933\n",
       "ext1__VinylSd    -2470.913733\n",
       "n__NWAmes        -2445.930966\n",
       "n__CollgCr       -2322.137326\n",
       "n__OldTown       -2245.912821\n",
       "n__NAmes         -2178.794352\n",
       "n__SawyerW       -2175.695818\n",
       "n__Edwards       -2168.864481\n",
       "stype__COD       -2145.009794\n",
       "ext2__AsbShng    -1912.577297\n",
       "rst__Gable       -1749.221873\n",
       "landcon__Bnk     -1729.311475\n",
       "n__Gilbert       -1715.916525\n",
       "fb__2            -1682.426400\n",
       "mssub__150       -1527.025217\n",
       "ext2__BrkFace    -1517.948592\n",
       "cond1__RRe       -1497.184701\n",
       "funct__Mod       -1455.475231\n",
       "ext1__MetalSd    -1435.589070\n",
       "n__SWISU         -1382.855070\n",
       "cond1__Artery    -1356.080583\n",
       "ext2__HdBoard    -1289.825547\n",
       "kita__3          -1289.303246\n",
       "...                       ...\n",
       "mszon__FV         1986.580196\n",
       "lotfig__CulDSac   2152.572028\n",
       "ext1__BrkFace     2177.543913\n",
       "stype__New        2249.180642\n",
       "has_mas_vnr       2263.046856\n",
       "cond1__Pos        2294.755270\n",
       "ext1__AsbShng     2413.953592\n",
       "ext2__MetalSd     2496.577603\n",
       "found__Slab       2501.553475\n",
       "landcon__HLS      2565.397502\n",
       "ext2__VinylSd     2579.866446\n",
       "n__NPkVill        2673.989698\n",
       "has_fireplace     3087.897657\n",
       "btype__TwnhsE     3529.135096\n",
       "n__NoRidge        3971.975457\n",
       "hstyle__SFoyer    4179.519606\n",
       "mssub__30         4353.176532\n",
       "hstyle__SLvl      4577.607653\n",
       "overall_cond      4823.795199\n",
       "kitchen_qual      4898.869065\n",
       "ext1__CemntBd     5318.485583\n",
       "n__StoneBr        5772.411242\n",
       "mssub__20         6053.784342\n",
       "exter_qual        7462.252465\n",
       "lot_area          7623.901414\n",
       "n__NridgHt        7737.772046\n",
       "year_built        9363.211053\n",
       "total_bsmt_sf    12923.805667\n",
       "overall_qual     13630.514192\n",
       "gr_liv_area      27313.178732\n",
       "\n",
       "[209 rows x 1 columns]"
      ]
     },
     "execution_count": 128,
     "metadata": {},
     "output_type": "execute_result"
    }
   ],
   "source": [
    "coeffs2 = pd.DataFrame(index=X_train.columns,data= ridge.coef_ )\n",
    "\n",
    "coeffs2.sort_values(by=0)"
   ]
  },
  {
   "cell_type": "code",
   "execution_count": 57,
   "metadata": {},
   "outputs": [],
   "source": [
    "coeffs = pd.DataFrame(index=X_train.columns,data= gs.best_estimator_.coef_ )"
   ]
  },
  {
   "cell_type": "code",
   "execution_count": 59,
   "metadata": {
    "collapsed": true
   },
   "outputs": [
    {
     "data": {
      "text/html": [
       "<div>\n",
       "<style>\n",
       "    .dataframe thead tr:only-child th {\n",
       "        text-align: right;\n",
       "    }\n",
       "\n",
       "    .dataframe thead th {\n",
       "        text-align: left;\n",
       "    }\n",
       "\n",
       "    .dataframe tbody tr th {\n",
       "        vertical-align: top;\n",
       "    }\n",
       "</style>\n",
       "<table border=\"1\" class=\"dataframe\">\n",
       "  <thead>\n",
       "    <tr style=\"text-align: right;\">\n",
       "      <th></th>\n",
       "      <th>0</th>\n",
       "    </tr>\n",
       "  </thead>\n",
       "  <tbody>\n",
       "    <tr>\n",
       "      <th>rmat__ClyTile</th>\n",
       "      <td>-7277.732063</td>\n",
       "    </tr>\n",
       "    <tr>\n",
       "      <th>misc_val</th>\n",
       "      <td>-5893.919408</td>\n",
       "    </tr>\n",
       "    <tr>\n",
       "      <th>n__Edwards</th>\n",
       "      <td>-2855.775864</td>\n",
       "    </tr>\n",
       "    <tr>\n",
       "      <th>n__Gilbert</th>\n",
       "      <td>-2760.829232</td>\n",
       "    </tr>\n",
       "    <tr>\n",
       "      <th>mssub__160</th>\n",
       "      <td>-2292.495753</td>\n",
       "    </tr>\n",
       "    <tr>\n",
       "      <th>n__NAmes</th>\n",
       "      <td>-2154.459318</td>\n",
       "    </tr>\n",
       "    <tr>\n",
       "      <th>found__CBlock</th>\n",
       "      <td>-1849.152260</td>\n",
       "    </tr>\n",
       "    <tr>\n",
       "      <th>hb__0</th>\n",
       "      <td>-1823.477286</td>\n",
       "    </tr>\n",
       "    <tr>\n",
       "      <th>rst__Gable</th>\n",
       "      <td>-1808.058420</td>\n",
       "    </tr>\n",
       "    <tr>\n",
       "      <th>stype__COD</th>\n",
       "      <td>-1706.927840</td>\n",
       "    </tr>\n",
       "    <tr>\n",
       "      <th>n__SawyerW</th>\n",
       "      <td>-1655.943149</td>\n",
       "    </tr>\n",
       "    <tr>\n",
       "      <th>btype__Twnhs</th>\n",
       "      <td>-1599.914615</td>\n",
       "    </tr>\n",
       "    <tr>\n",
       "      <th>n__CollgCr</th>\n",
       "      <td>-1560.732487</td>\n",
       "    </tr>\n",
       "    <tr>\n",
       "      <th>n__OldTown</th>\n",
       "      <td>-1540.715984</td>\n",
       "    </tr>\n",
       "    <tr>\n",
       "      <th>btype__TwnhsE</th>\n",
       "      <td>-1529.578678</td>\n",
       "    </tr>\n",
       "    <tr>\n",
       "      <th>mssub__120</th>\n",
       "      <td>-1523.974698</td>\n",
       "    </tr>\n",
       "    <tr>\n",
       "      <th>funct__Sev</th>\n",
       "      <td>-1488.284667</td>\n",
       "    </tr>\n",
       "    <tr>\n",
       "      <th>n__NWAmes</th>\n",
       "      <td>-1411.178179</td>\n",
       "    </tr>\n",
       "    <tr>\n",
       "      <th>funct__Maj1</th>\n",
       "      <td>-1327.747513</td>\n",
       "    </tr>\n",
       "    <tr>\n",
       "      <th>stype__WD</th>\n",
       "      <td>-1322.189476</td>\n",
       "    </tr>\n",
       "    <tr>\n",
       "      <th>fb__1</th>\n",
       "      <td>-1270.371278</td>\n",
       "    </tr>\n",
       "    <tr>\n",
       "      <th>cond1__RRe</th>\n",
       "      <td>-1244.483690</td>\n",
       "    </tr>\n",
       "    <tr>\n",
       "      <th>rst__Mansard</th>\n",
       "      <td>-1240.047418</td>\n",
       "    </tr>\n",
       "    <tr>\n",
       "      <th>landcon__Lvl</th>\n",
       "      <td>-1235.670979</td>\n",
       "    </tr>\n",
       "    <tr>\n",
       "      <th>landm__Gtl</th>\n",
       "      <td>-1094.999221</td>\n",
       "    </tr>\n",
       "    <tr>\n",
       "      <th>landcon__Bnk</th>\n",
       "      <td>-1078.277391</td>\n",
       "    </tr>\n",
       "    <tr>\n",
       "      <th>mszon__C (all)</th>\n",
       "      <td>-1032.973261</td>\n",
       "    </tr>\n",
       "    <tr>\n",
       "      <th>ext2__HdBoard</th>\n",
       "      <td>-1002.633986</td>\n",
       "    </tr>\n",
       "    <tr>\n",
       "      <th>found__BrkTil</th>\n",
       "      <td>-992.998698</td>\n",
       "    </tr>\n",
       "    <tr>\n",
       "      <th>mszon__RM</th>\n",
       "      <td>-975.838138</td>\n",
       "    </tr>\n",
       "    <tr>\n",
       "      <th>...</th>\n",
       "      <td>...</td>\n",
       "    </tr>\n",
       "    <tr>\n",
       "      <th>hstyle__SFoyer</th>\n",
       "      <td>1553.323914</td>\n",
       "    </tr>\n",
       "    <tr>\n",
       "      <th>btype__1Fam</th>\n",
       "      <td>1573.735402</td>\n",
       "    </tr>\n",
       "    <tr>\n",
       "      <th>cond2__Pos</th>\n",
       "      <td>1651.734703</td>\n",
       "    </tr>\n",
       "    <tr>\n",
       "      <th>stype__Con</th>\n",
       "      <td>1698.046702</td>\n",
       "    </tr>\n",
       "    <tr>\n",
       "      <th>rmat__WdShngl</th>\n",
       "      <td>1749.809094</td>\n",
       "    </tr>\n",
       "    <tr>\n",
       "      <th>ext1__CemntBd</th>\n",
       "      <td>1875.365481</td>\n",
       "    </tr>\n",
       "    <tr>\n",
       "      <th>hb__1</th>\n",
       "      <td>1997.808963</td>\n",
       "    </tr>\n",
       "    <tr>\n",
       "      <th>rst__Hip</th>\n",
       "      <td>2077.376351</td>\n",
       "    </tr>\n",
       "    <tr>\n",
       "      <th>found__PConc</th>\n",
       "      <td>2154.155574</td>\n",
       "    </tr>\n",
       "    <tr>\n",
       "      <th>ext1__BrkFace</th>\n",
       "      <td>2202.179238</td>\n",
       "    </tr>\n",
       "    <tr>\n",
       "      <th>stype__New</th>\n",
       "      <td>2214.983026</td>\n",
       "    </tr>\n",
       "    <tr>\n",
       "      <th>cond1__Pos</th>\n",
       "      <td>2410.255544</td>\n",
       "    </tr>\n",
       "    <tr>\n",
       "      <th>overall_cond</th>\n",
       "      <td>2495.504601</td>\n",
       "    </tr>\n",
       "    <tr>\n",
       "      <th>year_remod/add</th>\n",
       "      <td>2509.633587</td>\n",
       "    </tr>\n",
       "    <tr>\n",
       "      <th>landcon__HLS</th>\n",
       "      <td>2514.688082</td>\n",
       "    </tr>\n",
       "    <tr>\n",
       "      <th>n__GrnHill</th>\n",
       "      <td>2517.738958</td>\n",
       "    </tr>\n",
       "    <tr>\n",
       "      <th>has_mas_vnr</th>\n",
       "      <td>3390.503320</td>\n",
       "    </tr>\n",
       "    <tr>\n",
       "      <th>year_built</th>\n",
       "      <td>3659.300632</td>\n",
       "    </tr>\n",
       "    <tr>\n",
       "      <th>fb__3</th>\n",
       "      <td>3817.175989</td>\n",
       "    </tr>\n",
       "    <tr>\n",
       "      <th>lot_area</th>\n",
       "      <td>4742.012463</td>\n",
       "    </tr>\n",
       "    <tr>\n",
       "      <th>n__StoneBr</th>\n",
       "      <td>4894.254543</td>\n",
       "    </tr>\n",
       "    <tr>\n",
       "      <th>has_fireplace</th>\n",
       "      <td>4996.828641</td>\n",
       "    </tr>\n",
       "    <tr>\n",
       "      <th>n__NoRidge</th>\n",
       "      <td>5276.909915</td>\n",
       "    </tr>\n",
       "    <tr>\n",
       "      <th>totrms_abvgrd</th>\n",
       "      <td>5387.623420</td>\n",
       "    </tr>\n",
       "    <tr>\n",
       "      <th>exter_qual</th>\n",
       "      <td>6713.304346</td>\n",
       "    </tr>\n",
       "    <tr>\n",
       "      <th>kitchen_qual</th>\n",
       "      <td>6894.315352</td>\n",
       "    </tr>\n",
       "    <tr>\n",
       "      <th>n__NridgHt</th>\n",
       "      <td>7745.072991</td>\n",
       "    </tr>\n",
       "    <tr>\n",
       "      <th>total_bsmt_sf</th>\n",
       "      <td>10437.577308</td>\n",
       "    </tr>\n",
       "    <tr>\n",
       "      <th>overall_qual</th>\n",
       "      <td>10690.959361</td>\n",
       "    </tr>\n",
       "    <tr>\n",
       "      <th>gr_liv_area</th>\n",
       "      <td>11515.398305</td>\n",
       "    </tr>\n",
       "  </tbody>\n",
       "</table>\n",
       "<p>210 rows × 1 columns</p>\n",
       "</div>"
      ],
      "text/plain": [
       "                           0\n",
       "rmat__ClyTile   -7277.732063\n",
       "misc_val        -5893.919408\n",
       "n__Edwards      -2855.775864\n",
       "n__Gilbert      -2760.829232\n",
       "mssub__160      -2292.495753\n",
       "n__NAmes        -2154.459318\n",
       "found__CBlock   -1849.152260\n",
       "hb__0           -1823.477286\n",
       "rst__Gable      -1808.058420\n",
       "stype__COD      -1706.927840\n",
       "n__SawyerW      -1655.943149\n",
       "btype__Twnhs    -1599.914615\n",
       "n__CollgCr      -1560.732487\n",
       "n__OldTown      -1540.715984\n",
       "btype__TwnhsE   -1529.578678\n",
       "mssub__120      -1523.974698\n",
       "funct__Sev      -1488.284667\n",
       "n__NWAmes       -1411.178179\n",
       "funct__Maj1     -1327.747513\n",
       "stype__WD       -1322.189476\n",
       "fb__1           -1270.371278\n",
       "cond1__RRe      -1244.483690\n",
       "rst__Mansard    -1240.047418\n",
       "landcon__Lvl    -1235.670979\n",
       "landm__Gtl      -1094.999221\n",
       "landcon__Bnk    -1078.277391\n",
       "mszon__C (all)  -1032.973261\n",
       "ext2__HdBoard   -1002.633986\n",
       "found__BrkTil    -992.998698\n",
       "mszon__RM        -975.838138\n",
       "...                      ...\n",
       "hstyle__SFoyer   1553.323914\n",
       "btype__1Fam      1573.735402\n",
       "cond2__Pos       1651.734703\n",
       "stype__Con       1698.046702\n",
       "rmat__WdShngl    1749.809094\n",
       "ext1__CemntBd    1875.365481\n",
       "hb__1            1997.808963\n",
       "rst__Hip         2077.376351\n",
       "found__PConc     2154.155574\n",
       "ext1__BrkFace    2202.179238\n",
       "stype__New       2214.983026\n",
       "cond1__Pos       2410.255544\n",
       "overall_cond     2495.504601\n",
       "year_remod/add   2509.633587\n",
       "landcon__HLS     2514.688082\n",
       "n__GrnHill       2517.738958\n",
       "has_mas_vnr      3390.503320\n",
       "year_built       3659.300632\n",
       "fb__3            3817.175989\n",
       "lot_area         4742.012463\n",
       "n__StoneBr       4894.254543\n",
       "has_fireplace    4996.828641\n",
       "n__NoRidge       5276.909915\n",
       "totrms_abvgrd    5387.623420\n",
       "exter_qual       6713.304346\n",
       "kitchen_qual     6894.315352\n",
       "n__NridgHt       7745.072991\n",
       "total_bsmt_sf   10437.577308\n",
       "overall_qual    10690.959361\n",
       "gr_liv_area     11515.398305\n",
       "\n",
       "[210 rows x 1 columns]"
      ]
     },
     "execution_count": 59,
     "metadata": {},
     "output_type": "execute_result"
    }
   ],
   "source": [
    "coeffs.sort_values(by=0)"
   ]
  },
  {
   "cell_type": "code",
   "execution_count": 20,
   "metadata": {
    "collapsed": true
   },
   "outputs": [
    {
     "data": {
      "text/plain": [
       "array([[  3.53134487e+03,   6.95363910e+03,   1.08579591e+03,\n",
       "          2.83434388e+03,   2.74890236e+03,   3.21174448e+03,\n",
       "          4.32538983e+03,  -3.42124555e+01,   5.92126885e+03,\n",
       "          1.40840646e+03,   6.39103475e+03,  -5.72331206e+02,\n",
       "          4.57983293e+03,   4.96927161e+03,   4.38363984e+03,\n",
       "          1.36523086e+03,   5.95566355e+02,  -2.49659684e+02,\n",
       "         -5.24364137e+02,   3.99674043e+02,   1.47925573e+02,\n",
       "          1.59466477e+03,  -5.19523719e+02,   3.51342148e+02,\n",
       "         -2.54359524e+02,  -3.08368551e+01,   9.61996353e+02,\n",
       "         -5.93691930e+02,   1.73338860e+03,  -2.42442073e+03,\n",
       "         -1.80724140e+03,   4.53285173e+02,   7.84601976e+02,\n",
       "         -2.95356019e+02,  -1.42439671e+02,  -1.66405111e+03,\n",
       "         -1.59240837e+02,  -1.37933592e+03,  -7.79151846e+01,\n",
       "         -1.13272038e+02,   3.67654742e+03,   4.30277469e+03,\n",
       "         -1.01326339e+03,  -7.43854982e+02,  -6.06939426e+02,\n",
       "         -1.46360824e+03,   1.24048068e+03,   2.58461158e+03,\n",
       "          5.93779378e+02,   1.05035029e+03,   6.82690755e+02,\n",
       "          7.53932476e+02,  -9.56926943e+02,  -4.97125932e+01,\n",
       "         -1.82417382e+03,  -7.51145332e+01,  -5.47244383e+01,\n",
       "         -1.40168867e+02,   2.37670295e+03,   3.58971467e+02,\n",
       "          5.48563098e+02,  -3.47329215e+02,  -1.82941144e+02,\n",
       "         -4.80740683e+02,   2.75992046e+01,  -7.84601976e+02,\n",
       "         -2.02406672e+03,   5.54231096e+01,   1.10635189e+02,\n",
       "         -1.54348418e+02,  -9.13123810e+02,   1.07356750e+03,\n",
       "          8.58628130e+01,   1.96474316e+02,   6.46914699e+02,\n",
       "         -1.16972737e+03,  -4.41553971e+02,   1.51442613e+03,\n",
       "          5.55409229e+02,  -9.72489423e+02,   3.91899054e+02,\n",
       "          7.12374320e+02,  -6.29968742e+02,   3.57311986e+02,\n",
       "         -5.25443404e+02,   3.56523554e+02,  -5.89899210e+02,\n",
       "          8.58628130e+01,  -5.67995980e+02,   5.92422360e+02,\n",
       "         -5.86197757e-14,  -1.10836116e+03,  -9.47691527e+01,\n",
       "          8.27071737e+02,   1.03245029e+03,  -9.72922512e+02,\n",
       "         -6.78128127e+02,  -9.51624218e+01,  -3.13623879e+02,\n",
       "         -5.02878330e+02,   1.75671074e+03,   0.00000000e+00,\n",
       "         -6.98170868e+02,   1.30379947e+03,   2.91812689e+02,\n",
       "         -4.80740683e+02,  -1.20128311e+03,  -8.14851107e+02,\n",
       "         -2.99843387e+02,  -5.36340974e+02,   1.78598447e+02,\n",
       "          1.06335209e+03,  -1.54348418e+02,   1.26581235e+03,\n",
       "         -6.82086690e+02,   5.34591414e+02,  -8.82839682e+01,\n",
       "          1.19259961e+02,   1.07647629e+03,  -1.77375868e+02,\n",
       "          1.45377032e+02,  -7.16371126e+02,  -1.16395802e+02,\n",
       "         -3.52342728e+02,   3.00841507e+02,   2.15643825e+02,\n",
       "         -2.70456313e+02,  -7.84601976e+02,   1.06843812e+03,\n",
       "         -7.54628257e+02,   1.28507857e+02,   1.80374772e+01,\n",
       "          5.40828836e+01,  -2.14844015e+02,  -2.92084583e+02,\n",
       "          2.25662561e+02,   7.70514737e+01,  -8.01670335e+01,\n",
       "         -7.03379413e+02,  -1.63943688e+03,   2.06857050e+03,\n",
       "         -1.19716261e+02,   1.13913703e+02,   2.95764095e+02,\n",
       "          1.32185284e+02,   3.77927231e+02,  -7.25425649e+02,\n",
       "         -3.82213903e+02,  -1.38840463e+02,  -4.52578956e+02,\n",
       "          4.52578956e+02,  -6.09755359e+02,  -2.79099629e+03,\n",
       "          2.06482022e+03,   2.62125871e+03,   7.84601976e+02,\n",
       "         -1.57628308e+03,   1.55465951e+03,   1.60450417e+02,\n",
       "         -2.88054935e+02,   7.75547198e+02,  -6.48408648e+02,\n",
       "         -7.84601976e+02,  -5.56065074e+02,  -7.15000031e+02,\n",
       "         -1.27944617e+02,  -1.50529406e+02,  -5.44374759e+02,\n",
       "         -7.84601976e+02,  -7.84601976e+02,   9.08559496e+02,\n",
       "         -1.04852209e+03,  -1.00800246e+01,   9.46324954e+02,\n",
       "         -1.12013610e+03,  -5.96667058e+02,   4.53285173e+02,\n",
       "          3.96132136e+02,   1.67801260e+02,  -3.51342148e+02,\n",
       "          1.25754993e+03,   3.88133969e-13,  -3.97735385e+02,\n",
       "          6.94713085e+00,  -6.94713085e+00,  -1.27029257e+01,\n",
       "         -4.61916725e+02,  -1.28849832e+03,   8.41665715e+01,\n",
       "          2.51953247e+02,   1.33635554e+03,   6.64940256e+02,\n",
       "         -2.23828731e+02,   3.87543735e+02,  -1.15589121e+03,\n",
       "         -4.22321501e+01,   1.25992742e+03,  -8.14542300e+02,\n",
       "          0.00000000e+00,  -7.84601976e+02,  -2.99534781e+02,\n",
       "          7.84601976e+02,  -8.71357538e+01,   4.53285173e+02,\n",
       "          4.63005442e+02,  -4.88470517e+02,  -1.52292530e+02,\n",
       "         -1.05924603e+02,  -1.46198071e+01,   1.37469946e+02]])"
      ]
     },
     "execution_count": 20,
     "metadata": {},
     "output_type": "execute_result"
    }
   ],
   "source": [
    "gs.best_estimator_.coef_"
   ]
  },
  {
   "cell_type": "code",
   "execution_count": null,
   "metadata": {
    "collapsed": true
   },
   "outputs": [],
   "source": []
  },
  {
   "cell_type": "markdown",
   "metadata": {},
   "source": [
    "## Pipeline"
   ]
  },
  {
   "cell_type": "code",
   "execution_count": 152,
   "metadata": {
    "collapsed": true
   },
   "outputs": [],
   "source": [
    "from sklearn.pipeline import Pipeline "
   ]
  },
  {
   "cell_type": "code",
   "execution_count": 154,
   "metadata": {
    "collapsed": true
   },
   "outputs": [],
   "source": [
    "from sklearn.linear_model import Lasso"
   ]
  },
  {
   "cell_type": "code",
   "execution_count": 228,
   "metadata": {
    "collapsed": true
   },
   "outputs": [],
   "source": [
    "X_train, X_test, y_train, y_test = train_test_split(X, y)"
   ]
  },
  {
   "cell_type": "code",
   "execution_count": 229,
   "metadata": {},
   "outputs": [
    {
     "data": {
      "text/plain": [
       "(1536, 209)"
      ]
     },
     "execution_count": 229,
     "metadata": {},
     "output_type": "execute_result"
    }
   ],
   "source": [
    "X_train.shape"
   ]
  },
  {
   "cell_type": "code",
   "execution_count": 230,
   "metadata": {},
   "outputs": [
    {
     "data": {
      "text/plain": [
       "(879, 214)"
      ]
     },
     "execution_count": 230,
     "metadata": {},
     "output_type": "execute_result"
    }
   ],
   "source": [
    "final.shape"
   ]
  },
  {
   "cell_type": "code",
   "execution_count": 231,
   "metadata": {},
   "outputs": [],
   "source": [
    "pipe = Pipeline([\n",
    "    ('ss', StandardScaler()),\n",
    "    ('pca', PCA()),\n",
    "    ('lasso', Lasso())\n",
    "])"
   ]
  },
  {
   "cell_type": "code",
   "execution_count": 232,
   "metadata": {
    "collapsed": true
   },
   "outputs": [],
   "source": [
    "params = {\n",
    "    'lasso__alpha': np.logspace(2,3,20),\n",
    "    'pca__n_components': np.arange(50, 80, 1)\n",
    "}"
   ]
  },
  {
   "cell_type": "code",
   "execution_count": 233,
   "metadata": {
    "collapsed": true
   },
   "outputs": [],
   "source": [
    "gs = GridSearchCV(pipe, param_grid=params, n_jobs=-1, verbose=1)"
   ]
  },
  {
   "cell_type": "code",
   "execution_count": 234,
   "metadata": {},
   "outputs": [
    {
     "name": "stdout",
     "output_type": "stream",
     "text": [
      "Fitting 3 folds for each of 600 candidates, totalling 1800 fits\n"
     ]
    },
    {
     "name": "stderr",
     "output_type": "stream",
     "text": [
      "[Parallel(n_jobs=-1)]: Done  42 tasks      | elapsed:   16.0s\n",
      "[Parallel(n_jobs=-1)]: Done 192 tasks      | elapsed:   22.0s\n",
      "[Parallel(n_jobs=-1)]: Done 687 tasks      | elapsed:   41.5s\n",
      "[Parallel(n_jobs=-1)]: Done 1387 tasks      | elapsed:  1.1min\n",
      "[Parallel(n_jobs=-1)]: Done 1793 out of 1800 | elapsed:  1.4min remaining:    0.2s\n",
      "[Parallel(n_jobs=-1)]: Done 1800 out of 1800 | elapsed:  1.4min finished\n"
     ]
    },
    {
     "data": {
      "text/plain": [
       "GridSearchCV(cv=None, error_score='raise',\n",
       "       estimator=Pipeline(memory=None,\n",
       "     steps=[('ss', StandardScaler(copy=True, with_mean=True, with_std=True)), ('pca', PCA(copy=True, iterated_power='auto', n_components=None, random_state=None,\n",
       "  svd_solver='auto', tol=0.0, whiten=False)), ('lasso', Lasso(alpha=1.0, copy_X=True, fit_intercept=True, max_iter=1000,\n",
       "   normalize=False, positive=False, precompute=False, random_state=None,\n",
       "   selection='cyclic', tol=0.0001, warm_start=False))]),\n",
       "       fit_params=None, iid=True, n_jobs=-1,\n",
       "       param_grid={'lasso__alpha': array([  100.     ,   112.88379,   127.4275 ,   143.84499,   162.37767,\n",
       "         183.29807,   206.91381,   233.57215,   263.66509,   297.63514,\n",
       "         335.98183,   379.26902,   428.13324,   483.29302,   545.55948,\n",
       "         615.84821,   695.1928 ,   784.75997,   885.86679,  1000.     ]), 'pca__n_components': array([50, 51, 52, 53, 54, 55, 56, 57, 58, 59, 60, 61, 62, 63, 64, 65, 66,\n",
       "       67, 68, 69, 70, 71, 72, 73, 74, 75, 76, 77, 78, 79])},\n",
       "       pre_dispatch='2*n_jobs', refit=True, return_train_score='warn',\n",
       "       scoring=None, verbose=1)"
      ]
     },
     "execution_count": 234,
     "metadata": {},
     "output_type": "execute_result"
    }
   ],
   "source": [
    "gs.fit(X_train,y_train)"
   ]
  },
  {
   "cell_type": "code",
   "execution_count": 235,
   "metadata": {},
   "outputs": [
    {
     "data": {
      "text/plain": [
       "0.84799593135635842"
      ]
     },
     "execution_count": 235,
     "metadata": {},
     "output_type": "execute_result"
    }
   ],
   "source": [
    "gs.best_score_\n",
    "# 0.8672905336425929\n",
    "# 0.8497604729158833\n",
    "# 0.85351929303589413"
   ]
  },
  {
   "cell_type": "code",
   "execution_count": 236,
   "metadata": {},
   "outputs": [
    {
     "data": {
      "text/plain": [
       "{'lasso__alpha': 127.42749857031335, 'pca__n_components': 79}"
      ]
     },
     "execution_count": 236,
     "metadata": {},
     "output_type": "execute_result"
    }
   ],
   "source": [
    "gs.best_params_\n",
    "# {'lasso__alpha': 885.86679041008233}\n",
    "# {'lasso__alpha': 233.57214690901213, 'pca__n_components': 77}\n",
    "# {'lasso__alpha': 143.8449888287663, 'pca__n_components': 78}"
   ]
  },
  {
   "cell_type": "code",
   "execution_count": 237,
   "metadata": {},
   "outputs": [
    {
     "data": {
      "text/plain": [
       "(879, 214)"
      ]
     },
     "execution_count": 237,
     "metadata": {},
     "output_type": "execute_result"
    }
   ],
   "source": [
    "final.shape"
   ]
  },
  {
   "cell_type": "code",
   "execution_count": 238,
   "metadata": {},
   "outputs": [
    {
     "data": {
      "text/plain": [
       "(2049, 209)"
      ]
     },
     "execution_count": 238,
     "metadata": {},
     "output_type": "execute_result"
    }
   ],
   "source": [
    "X.shape"
   ]
  },
  {
   "cell_type": "code",
   "execution_count": 241,
   "metadata": {},
   "outputs": [],
   "source": [
    "X_final = final.drop(['id', 'pid', 'sale_condition', 'saleprice', 'rmat__ClyTile'], axis=1) # , 'SalePrice'"
   ]
  },
  {
   "cell_type": "code",
   "execution_count": 242,
   "metadata": {},
   "outputs": [
    {
     "data": {
      "text/plain": [
       "[]"
      ]
     },
     "execution_count": 242,
     "metadata": {},
     "output_type": "execute_result"
    }
   ],
   "source": [
    "list(set(X_final.columns) - set(X.columns))"
   ]
  },
  {
   "cell_type": "code",
   "execution_count": 243,
   "metadata": {},
   "outputs": [],
   "source": [
    "pred = gs.predict(X_final)"
   ]
  },
  {
   "cell_type": "code",
   "execution_count": 244,
   "metadata": {},
   "outputs": [
    {
     "data": {
      "text/plain": [
       "[]"
      ]
     },
     "execution_count": 244,
     "metadata": {},
     "output_type": "execute_result"
    }
   ],
   "source": [
    "[pre for pre in pred if pre < 0]"
   ]
  },
  {
   "cell_type": "code",
   "execution_count": 246,
   "metadata": {
    "collapsed": true
   },
   "outputs": [],
   "source": [
    "final['SalePrice'] = pred\n",
    "final[['id','SalePrice']].to_csv('export_lasso2.csv', index=False) "
   ]
  },
  {
   "cell_type": "code",
   "execution_count": 245,
   "metadata": {},
   "outputs": [
    {
     "data": {
      "text/plain": [
       "0.85959072959327265"
      ]
     },
     "execution_count": 245,
     "metadata": {},
     "output_type": "execute_result"
    }
   ],
   "source": [
    "gs.score(X_test, y_test)"
   ]
  },
  {
   "cell_type": "code",
   "execution_count": null,
   "metadata": {
    "collapsed": true
   },
   "outputs": [],
   "source": []
  },
  {
   "cell_type": "code",
   "execution_count": null,
   "metadata": {
    "collapsed": true
   },
   "outputs": [],
   "source": []
  },
  {
   "cell_type": "code",
   "execution_count": null,
   "metadata": {
    "collapsed": true
   },
   "outputs": [],
   "source": []
  },
  {
   "cell_type": "code",
   "execution_count": null,
   "metadata": {
    "collapsed": true
   },
   "outputs": [],
   "source": []
  },
  {
   "cell_type": "code",
   "execution_count": null,
   "metadata": {
    "collapsed": true
   },
   "outputs": [],
   "source": []
  },
  {
   "cell_type": "code",
   "execution_count": null,
   "metadata": {
    "collapsed": true
   },
   "outputs": [],
   "source": []
  },
  {
   "cell_type": "markdown",
   "metadata": {},
   "source": [
    "## Testing Decision Tree"
   ]
  },
  {
   "cell_type": "code",
   "execution_count": 22,
   "metadata": {
    "collapsed": true
   },
   "outputs": [],
   "source": [
    "from sklearn.tree import DecisionTreeRegressor"
   ]
  },
  {
   "cell_type": "code",
   "execution_count": 71,
   "metadata": {},
   "outputs": [
    {
     "data": {
      "text/plain": [
       "{'max_depth': 4, 'max_features': 'log2'}"
      ]
     },
     "execution_count": 71,
     "metadata": {},
     "output_type": "execute_result"
    }
   ],
   "source": [
    "dtr = DecisionTreeRegressor(random_state=101)\n",
    "dtr.fit(X_train_sc, y_train)\n",
    "params = {\n",
    "    'max_depth': np.arange(1, 6, 1),\n",
    "    'max_features': [1, 4, 'sqrt', 'log2']\n",
    "}\n",
    "gs = GridSearchCV(dtr, params, n_jobs=-1)\n",
    "gs.fit(X_train_sc, y_train)\n",
    "gs.best_params_\n",
    "\n",
    "\n",
    "\n",
    "# max_depth grid search over\n",
    "# max_features \n",
    "\n",
    "# possibly try ensambling trees"
   ]
  },
  {
   "cell_type": "code",
   "execution_count": 72,
   "metadata": {},
   "outputs": [
    {
     "data": {
      "text/plain": [
       "0.49367651000132406"
      ]
     },
     "execution_count": 72,
     "metadata": {},
     "output_type": "execute_result"
    }
   ],
   "source": [
    "gs.score(X_test_sc, y_test)"
   ]
  },
  {
   "cell_type": "code",
   "execution_count": 73,
   "metadata": {
    "scrolled": true
   },
   "outputs": [
    {
     "data": {
      "text/plain": [
       "0.51339071915400081"
      ]
     },
     "execution_count": 73,
     "metadata": {},
     "output_type": "execute_result"
    }
   ],
   "source": [
    "gs.score(X_train_sc, y_train)"
   ]
  },
  {
   "cell_type": "code",
   "execution_count": null,
   "metadata": {
    "collapsed": true
   },
   "outputs": [],
   "source": []
  },
  {
   "cell_type": "code",
   "execution_count": null,
   "metadata": {
    "collapsed": true
   },
   "outputs": [],
   "source": []
  },
  {
   "cell_type": "code",
   "execution_count": 80,
   "metadata": {
    "collapsed": true
   },
   "outputs": [],
   "source": [
    "# X_final = final.drop(['id', 'pid', 'sale_condition', 'saleprice', 'SalePrice'], axis=1)\n",
    "# X_final_sc = ss.transform(X_final)\n",
    "# predictions = gs.predict(X_final_sc)"
   ]
  },
  {
   "cell_type": "code",
   "execution_count": 81,
   "metadata": {
    "collapsed": true
   },
   "outputs": [],
   "source": [
    "# final['SalePrice'] = predictions\n",
    "# final[['id','SalePrice']].to_csv('export_dtree.csv', index=False)"
   ]
  },
  {
   "cell_type": "code",
   "execution_count": null,
   "metadata": {
    "collapsed": true
   },
   "outputs": [],
   "source": []
  },
  {
   "cell_type": "markdown",
   "metadata": {},
   "source": [
    "## Random Forest"
   ]
  },
  {
   "cell_type": "code",
   "execution_count": 67,
   "metadata": {
    "collapsed": true
   },
   "outputs": [],
   "source": [
    "from sklearn.ensemble import RandomForestRegressor"
   ]
  },
  {
   "cell_type": "code",
   "execution_count": 91,
   "metadata": {},
   "outputs": [
    {
     "data": {
      "text/plain": [
       "{'criterion': 'mse', 'max_depth': 5, 'max_features': 'sqrt'}"
      ]
     },
     "execution_count": 91,
     "metadata": {},
     "output_type": "execute_result"
    }
   ],
   "source": [
    "rf = RandomForestRegressor(random_state=101)\n",
    "\n",
    "rf.fit(X_train_sc, y_train)\n",
    "params = {\n",
    "#     'criterion': ['mse', 'mae'],\n",
    "    'max_depth': np.arange(1, 6, 1),\n",
    "    'max_features': [1, 4, 'sqrt', 'log2']\n",
    "}\n",
    "gs = GridSearchCV(rf, params, n_jobs=-1)\n",
    "gs.fit(X_train_sc, y_train)\n",
    "gs.best_params_"
   ]
  },
  {
   "cell_type": "code",
   "execution_count": 92,
   "metadata": {},
   "outputs": [
    {
     "data": {
      "text/plain": [
       "0.7113133578831945"
      ]
     },
     "execution_count": 92,
     "metadata": {},
     "output_type": "execute_result"
    }
   ],
   "source": [
    "gs.score(X_test_sc, y_test)\n",
    "# 0.7113133578831945"
   ]
  },
  {
   "cell_type": "code",
   "execution_count": 93,
   "metadata": {},
   "outputs": [
    {
     "data": {
      "text/plain": [
       "0.73776835169906929"
      ]
     },
     "execution_count": 93,
     "metadata": {},
     "output_type": "execute_result"
    }
   ],
   "source": [
    "gs.score(X_train_sc, y_train)\n",
    "# 0.73776835169906929"
   ]
  },
  {
   "cell_type": "code",
   "execution_count": 88,
   "metadata": {
    "collapsed": true
   },
   "outputs": [],
   "source": [
    "# X_final = final.drop(['id', 'pid', 'sale_condition', 'saleprice', 'SalePrice'], axis=1)\n",
    "# X_final_sc = ss.transform(X_final)\n",
    "# predictions = gs.predict(X_final_sc)"
   ]
  },
  {
   "cell_type": "code",
   "execution_count": 89,
   "metadata": {
    "collapsed": true
   },
   "outputs": [],
   "source": [
    "# final['SalePrice'] = predictions\n",
    "# final[['id','SalePrice']].to_csv('export_rf.csv', index=False)"
   ]
  },
  {
   "cell_type": "code",
   "execution_count": null,
   "metadata": {
    "collapsed": true
   },
   "outputs": [],
   "source": []
  },
  {
   "cell_type": "markdown",
   "metadata": {},
   "source": [
    "## Gradient Boosting"
   ]
  },
  {
   "cell_type": "code",
   "execution_count": 94,
   "metadata": {
    "collapsed": true
   },
   "outputs": [],
   "source": [
    "from sklearn.ensemble import GradientBoostingRegressor"
   ]
  },
  {
   "cell_type": "code",
   "execution_count": 113,
   "metadata": {},
   "outputs": [
    {
     "data": {
      "text/plain": [
       "{'criterion': 'mae',\n",
       " 'loss': 'huber',\n",
       " 'max_depth': 5,\n",
       " 'max_features': 'log2',\n",
       " 'n_estimators': 1000}"
      ]
     },
     "execution_count": 113,
     "metadata": {},
     "output_type": "execute_result"
    }
   ],
   "source": [
    "gb = GradientBoostingRegressor(random_state=101)\n",
    "\n",
    "gb.fit(X_train_sc, y_train)\n",
    "params = {\n",
    "    'loss': ['huber'], #['ls', 'lad', 'huber', 'quantile']\n",
    "    'max_depth': np.arange(4, 6, 1),\n",
    "    'criterion': ['mae'], #['mse', 'mae', 'friedman_mse']\n",
    "    'max_features': [1, 4, 'sqrt', 'log2'],\n",
    "    'n_estimators': [1000, 10000]\n",
    "}\n",
    "gs = GridSearchCV(gb, params, n_jobs=-1)\n",
    "gs.fit(X_train_sc, y_train)\n",
    "gs.best_params_"
   ]
  },
  {
   "cell_type": "code",
   "execution_count": 114,
   "metadata": {},
   "outputs": [
    {
     "data": {
      "text/plain": [
       "0.90790961372937073"
      ]
     },
     "execution_count": 114,
     "metadata": {},
     "output_type": "execute_result"
    }
   ],
   "source": [
    "gs.score(X_test_sc, y_test)\n",
    "# plain 0.90252878976979123\n",
    "# huber 0.89292379875671601\n",
    "# {'loss': 'huber', 'max_depth': 5} 0.90589232431861111\n",
    "# {'criterion': 'mae', 'loss': 'huber', 'max_depth': 3} 0.90597834698026458\n",
    "# {'criterion': 'mae', 'loss': 'huber', 'max_depth': 5, 'max_features': 'sqrt'} 0.9045417183283615\n",
    "# {'criterion': 'mae',\n",
    "# 'loss': 'huber', 'max_depth': 5, 'max_features': 'log2', 'n_estimators': 300} 0.90794842532518771\n",
    "# {'criterion': 'mae', 'loss': 'huber', 'max_depth': 5, 'max_features': 'log2', 'n_estimators': 1000} 0.90790961372937073"
   ]
  },
  {
   "cell_type": "code",
   "execution_count": 115,
   "metadata": {},
   "outputs": [
    {
     "data": {
      "text/plain": [
       "0.98467198273141898"
      ]
     },
     "execution_count": 115,
     "metadata": {},
     "output_type": "execute_result"
    }
   ],
   "source": [
    "gs.score(X_train_sc, y_train)\n",
    "# 0.93918822856034878\n",
    "# 0.9309919929623941\n",
    "# 0.97217982680214243\n",
    "# 0.92993912736295514\n",
    "# 0.94199221769889019\n",
    "# 0.96241756998979489\n",
    "# 0.98467198273141898"
   ]
  },
  {
   "cell_type": "code",
   "execution_count": 116,
   "metadata": {
    "collapsed": true
   },
   "outputs": [],
   "source": [
    "# X_final = final.drop(['id', 'pid', 'sale_condition', 'saleprice', 'SalePrice'], axis=1)\n",
    "# X_final_sc = ss.transform(X_final)\n",
    "# predictions = gs.predict(X_final_sc)"
   ]
  },
  {
   "cell_type": "code",
   "execution_count": 117,
   "metadata": {
    "collapsed": true
   },
   "outputs": [],
   "source": [
    "# final['SalePrice'] = predictions\n",
    "# final[['id','SalePrice']].to_csv('export_gb.csv', index=False)"
   ]
  },
  {
   "cell_type": "code",
   "execution_count": null,
   "metadata": {
    "collapsed": true
   },
   "outputs": [],
   "source": []
  },
  {
   "cell_type": "markdown",
   "metadata": {},
   "source": [
    "## SVR"
   ]
  },
  {
   "cell_type": "code",
   "execution_count": 14,
   "metadata": {
    "collapsed": true
   },
   "outputs": [],
   "source": [
    "from sklearn.svm import SVR"
   ]
  },
  {
   "cell_type": "code",
   "execution_count": 15,
   "metadata": {},
   "outputs": [
    {
     "name": "stdout",
     "output_type": "stream",
     "text": [
      "[LibSVM][LibSVM]"
     ]
    },
    {
     "data": {
      "text/plain": [
       "{'C': 20, 'degree': 3, 'kernel': 'linear'}"
      ]
     },
     "execution_count": 15,
     "metadata": {},
     "output_type": "execute_result"
    }
   ],
   "source": [
    "svr = SVR(verbose=True)\n",
    "\n",
    "svr.fit(X_train_sc, y_train)\n",
    "params = {\n",
    "    'kernel': ['linear', 'poly', 'rbf'],\n",
    "    'degree': [3,4],\n",
    "    'C': [15, 20],\n",
    "}\n",
    "gs = GridSearchCV(svr, params, n_jobs=-1)\n",
    "gs.fit(X_train_sc, y_train)\n",
    "gs.best_params_"
   ]
  },
  {
   "cell_type": "code",
   "execution_count": 19,
   "metadata": {},
   "outputs": [
    {
     "data": {
      "text/plain": [
       "0.78003588419893066"
      ]
     },
     "execution_count": 19,
     "metadata": {},
     "output_type": "execute_result"
    }
   ],
   "source": [
    "gs.score(X_test_sc, y_test)\n",
    "# -0.061633291974839681\n",
    "# linear 0.16649637247328819\n",
    "# c=3 0.41431378303430599\n",
    "# {'C': 20, 'degree': 3, 'kernel': 'linear'} 0.76676970456362969"
   ]
  },
  {
   "cell_type": "code",
   "execution_count": 20,
   "metadata": {},
   "outputs": [
    {
     "data": {
      "text/plain": [
       "0.78619676937983274"
      ]
     },
     "execution_count": 20,
     "metadata": {},
     "output_type": "execute_result"
    }
   ],
   "source": [
    "gs.score(X_train_sc, y_train)\n",
    "# -0.053018817800281282\n",
    "# 0.17806148048421822\n",
    "# 0.42678741656518404\n",
    "# 0.77592513773713501"
   ]
  },
  {
   "cell_type": "code",
   "execution_count": 144,
   "metadata": {
    "collapsed": true
   },
   "outputs": [],
   "source": [
    "# X_final = final.drop(['id', 'pid', 'sale_condition', 'saleprice', 'SalePrice'], axis=1)\n",
    "# X_final_sc = ss.transform(X_final)\n",
    "# predictions = gs.predict(X_final_sc)"
   ]
  },
  {
   "cell_type": "code",
   "execution_count": 145,
   "metadata": {
    "collapsed": true
   },
   "outputs": [],
   "source": [
    "# final['SalePrice'] = predictions\n",
    "# final[['id','SalePrice']].to_csv('export_svr2.csv', index=False)"
   ]
  },
  {
   "cell_type": "code",
   "execution_count": null,
   "metadata": {
    "collapsed": true
   },
   "outputs": [],
   "source": []
  },
  {
   "cell_type": "markdown",
   "metadata": {},
   "source": [
    "## KNN"
   ]
  },
  {
   "cell_type": "code",
   "execution_count": 22,
   "metadata": {
    "collapsed": true
   },
   "outputs": [],
   "source": [
    "from sklearn.neighbors import KNeighborsRegressor"
   ]
  },
  {
   "cell_type": "code",
   "execution_count": 23,
   "metadata": {},
   "outputs": [
    {
     "data": {
      "text/plain": [
       "{'algorithm': 'auto', 'n_neighbors': 7, 'weights': 'distance'}"
      ]
     },
     "execution_count": 23,
     "metadata": {},
     "output_type": "execute_result"
    }
   ],
   "source": [
    "knn = KNeighborsRegressor()\n",
    "\n",
    "knn.fit(X_train_sc, y_train)\n",
    "params = {\n",
    "    'n_neighbors': np.arange(7, 10, 1),\n",
    "    'weights': ['uniform', 'distance'],\n",
    "    'algorithm': ['auto', 'ball_tree', 'kd_tree', 'brute']\n",
    "}\n",
    "gs = GridSearchCV(knn, params, n_jobs=-1)\n",
    "gs.fit(X_train_sc, y_train)\n",
    "gs.best_params_"
   ]
  },
  {
   "cell_type": "code",
   "execution_count": 24,
   "metadata": {},
   "outputs": [
    {
     "data": {
      "text/plain": [
       "0.77933389080430449"
      ]
     },
     "execution_count": 24,
     "metadata": {},
     "output_type": "execute_result"
    }
   ],
   "source": [
    "gs.score(X_test_sc, y_test)\n",
    "# 0.7484117445075622"
   ]
  },
  {
   "cell_type": "code",
   "execution_count": 25,
   "metadata": {},
   "outputs": [
    {
     "data": {
      "text/plain": [
       "0.99999909579182777"
      ]
     },
     "execution_count": 25,
     "metadata": {},
     "output_type": "execute_result"
    }
   ],
   "source": [
    "gs.score(X_train_sc, y_train)\n",
    "# 0.81229272409369702"
   ]
  },
  {
   "cell_type": "code",
   "execution_count": 152,
   "metadata": {
    "collapsed": true
   },
   "outputs": [],
   "source": [
    "# X_final = final.drop(['id', 'pid', 'sale_condition', 'saleprice', 'SalePrice'], axis=1)\n",
    "# X_final_sc = ss.transform(X_final)\n",
    "# predictions = gs.predict(X_final_sc)"
   ]
  },
  {
   "cell_type": "code",
   "execution_count": 153,
   "metadata": {
    "collapsed": true
   },
   "outputs": [],
   "source": [
    "# final['SalePrice'] = predictions\n",
    "# final[['id','SalePrice']].to_csv('export_knn2.csv', index=False)"
   ]
  },
  {
   "cell_type": "code",
   "execution_count": null,
   "metadata": {
    "collapsed": true
   },
   "outputs": [],
   "source": []
  },
  {
   "cell_type": "markdown",
   "metadata": {},
   "source": [
    "## PCA\n",
    "pca is not a model"
   ]
  },
  {
   "cell_type": "code",
   "execution_count": 175,
   "metadata": {
    "collapsed": true
   },
   "outputs": [],
   "source": [
    "from sklearn.decomposition import PCA"
   ]
  },
  {
   "cell_type": "code",
   "execution_count": 178,
   "metadata": {
    "collapsed": true
   },
   "outputs": [],
   "source": [
    "pca = PCA()"
   ]
  },
  {
   "cell_type": "code",
   "execution_count": 179,
   "metadata": {},
   "outputs": [
    {
     "data": {
      "text/plain": [
       "PCA(copy=True, iterated_power='auto', n_components=None, random_state=None,\n",
       "  svd_solver='auto', tol=0.0, whiten=False)"
      ]
     },
     "execution_count": 179,
     "metadata": {},
     "output_type": "execute_result"
    }
   ],
   "source": [
    "pca.fit(X,y)"
   ]
  },
  {
   "cell_type": "code",
   "execution_count": 181,
   "metadata": {},
   "outputs": [
    {
     "ename": "AttributeError",
     "evalue": "'numpy.ndarray' object has no attribute 'plot'",
     "output_type": "error",
     "traceback": [
      "\u001b[1;31m---------------------------------------------------------------------------\u001b[0m",
      "\u001b[1;31mAttributeError\u001b[0m                            Traceback (most recent call last)",
      "\u001b[1;32m<ipython-input-181-738fc7c65a1e>\u001b[0m in \u001b[0;36m<module>\u001b[1;34m()\u001b[0m\n\u001b[1;32m----> 1\u001b[1;33m \u001b[0mpca\u001b[0m\u001b[1;33m.\u001b[0m\u001b[0mexplained_variance_\u001b[0m\u001b[1;33m.\u001b[0m\u001b[0mplot\u001b[0m\u001b[1;33m(\u001b[0m\u001b[0mkind\u001b[0m\u001b[1;33m=\u001b[0m\u001b[1;34m'bar'\u001b[0m\u001b[1;33m)\u001b[0m\u001b[1;33m\u001b[0m\u001b[0m\n\u001b[0m",
      "\u001b[1;31mAttributeError\u001b[0m: 'numpy.ndarray' object has no attribute 'plot'"
     ]
    }
   ],
   "source": [
    "pca.explained_varianc"
   ]
  },
  {
   "cell_type": "code",
   "execution_count": null,
   "metadata": {
    "collapsed": true
   },
   "outputs": [],
   "source": []
  },
  {
   "cell_type": "code",
   "execution_count": null,
   "metadata": {
    "collapsed": true
   },
   "outputs": [],
   "source": []
  },
  {
   "cell_type": "code",
   "execution_count": null,
   "metadata": {
    "collapsed": true
   },
   "outputs": [],
   "source": []
  },
  {
   "cell_type": "code",
   "execution_count": null,
   "metadata": {
    "collapsed": true
   },
   "outputs": [],
   "source": []
  },
  {
   "cell_type": "code",
   "execution_count": null,
   "metadata": {
    "collapsed": true
   },
   "outputs": [],
   "source": []
  },
  {
   "cell_type": "code",
   "execution_count": null,
   "metadata": {
    "collapsed": true
   },
   "outputs": [],
   "source": []
  },
  {
   "cell_type": "code",
   "execution_count": null,
   "metadata": {
    "collapsed": true
   },
   "outputs": [],
   "source": []
  },
  {
   "cell_type": "code",
   "execution_count": null,
   "metadata": {
    "collapsed": true
   },
   "outputs": [],
   "source": []
  },
  {
   "cell_type": "code",
   "execution_count": null,
   "metadata": {
    "collapsed": true
   },
   "outputs": [],
   "source": []
  },
  {
   "cell_type": "code",
   "execution_count": null,
   "metadata": {
    "collapsed": true
   },
   "outputs": [],
   "source": []
  },
  {
   "cell_type": "code",
   "execution_count": null,
   "metadata": {
    "collapsed": true
   },
   "outputs": [],
   "source": []
  },
  {
   "cell_type": "code",
   "execution_count": 34,
   "metadata": {},
   "outputs": [
    {
     "data": {
      "text/plain": [
       "{'n_components': 7}"
      ]
     },
     "execution_count": 34,
     "metadata": {},
     "output_type": "execute_result"
    }
   ],
   "source": [
    "pca = PCA(random_state=101)\n",
    "\n",
    "pca.fit(X_train_sc, y_train)\n",
    "params = {\n",
    "    'n_components': np.arange(5, 11, 1)\n",
    "}\n",
    "gs = GridSearchCV(pca, params, n_jobs=-1)\n",
    "gs.fit(X_train_sc, y_train)\n",
    "gs.best_params_"
   ]
  },
  {
   "cell_type": "code",
   "execution_count": 35,
   "metadata": {},
   "outputs": [
    {
     "data": {
      "text/plain": [
       "-288.98765330425243"
      ]
     },
     "execution_count": 35,
     "metadata": {},
     "output_type": "execute_result"
    }
   ],
   "source": [
    "gs.score(X_test_sc, y_test)\n",
    "# -5.7107619729432733e+28"
   ]
  },
  {
   "cell_type": "code",
   "execution_count": 36,
   "metadata": {},
   "outputs": [
    {
     "data": {
      "text/plain": [
       "-283.72960133398453"
      ]
     },
     "execution_count": 36,
     "metadata": {},
     "output_type": "execute_result"
    }
   ],
   "source": [
    "gs.score(X_train_sc, y_train)\n",
    "# 370.17779211088396"
   ]
  },
  {
   "cell_type": "code",
   "execution_count": null,
   "metadata": {
    "collapsed": true
   },
   "outputs": [],
   "source": [
    "# X_final = final.drop(['id', 'pid', 'sale_condition', 'saleprice'], axis=1) # , 'SalePrice'\n",
    "# X_final_sc = ss.transform(X_final)\n",
    "# predictions = gs.predict(X_final_sc)"
   ]
  },
  {
   "cell_type": "code",
   "execution_count": null,
   "metadata": {
    "collapsed": true
   },
   "outputs": [],
   "source": [
    "# final['SalePrice'] = predictions\n",
    "# final[['id','SalePrice']].to_csv('export_pca.csv', index=False)"
   ]
  }
 ],
 "metadata": {
  "kernelspec": {
   "display_name": "Python 3",
   "language": "python",
   "name": "python3"
  },
  "language_info": {
   "codemirror_mode": {
    "name": "ipython",
    "version": 3
   },
   "file_extension": ".py",
   "mimetype": "text/x-python",
   "name": "python",
   "nbconvert_exporter": "python",
   "pygments_lexer": "ipython3",
   "version": "3.6.3"
  }
 },
 "nbformat": 4,
 "nbformat_minor": 2
}
