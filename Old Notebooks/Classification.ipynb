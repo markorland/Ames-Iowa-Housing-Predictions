{
 "cells": [
  {
   "cell_type": "code",
   "execution_count": 1,
   "metadata": {
    "collapsed": true
   },
   "outputs": [],
   "source": [
    "import matplotlib.pyplot as plt\n",
    "import numpy as np\n",
    "import pandas as pd\n",
    "from scipy import stats\n",
    "import seaborn as sns\n",
    "\n",
    "from sklearn.linear_model import LinearRegression, ElasticNet, ElasticNetCV\n",
    "from sklearn.model_selection import train_test_split, KFold, cross_val_score, cross_val_predict, GridSearchCV\n",
    "from sklearn.neighbors import KNeighborsClassifier\n",
    "from sklearn.preprocessing import StandardScaler\n",
    "from sklearn import metrics\n",
    "\n",
    "%matplotlib inline"
   ]
  },
  {
   "cell_type": "code",
   "execution_count": 2,
   "metadata": {
    "collapsed": true
   },
   "outputs": [],
   "source": [
    "df_data = pd.read_csv('train.csv')\n",
    "final_data = pd.read_csv('test.csv')"
   ]
  },
  {
   "cell_type": "code",
   "execution_count": 3,
   "metadata": {
    "collapsed": true
   },
   "outputs": [],
   "source": [
    "def does_does_not(cell):\n",
    "    if cell >= 1:\n",
    "        return 1\n",
    "    else:\n",
    "        return 0\n",
    "\n",
    "def clean(df):\n",
    "    # CLEAN COL NAMES\n",
    "    df.rename(columns= {col: col.lower().replace(' ','_') for col in df.columns}, inplace=True)\n",
    "    \n",
    "#     df = df.loc[df['gr_liv_area'] < 4000].copy()\n",
    "\n",
    "    # CREATION OF DECK/PROCH COLUMN AND SETTING FENCE TO INT\n",
    "    df['deck_porch'] = df['wood_deck_sf'] + df['open_porch_sf'] + df['enclosed_porch'] + df['3ssn_porch'] + df['screen_porch']\n",
    "    df['fence'] = df['fence'].notnull().astype('int')\n",
    "#     df['overall_cond_qual'] = df['overall_cond'] + df['overall_qual']\n",
    "\n",
    "    # DROPPING COLUMS THAT ARE GOING TO BE BINARY\n",
    "    df.drop([\n",
    "    'alley', 'lot_frontage', 'mas_vnr_type', 'fireplace_qu', 'pool_qc', 'misc_feature',\n",
    "    'bsmt_qual', 'bsmt_cond', 'bsmt_exposure', 'bsmtfin_type_1', 'bsmtfin_sf_1', 'bsmtfin_type_2',\n",
    "    'bsmtfin_sf_2', 'bsmt_unf_sf', 'bsmt_full_bath', 'bsmt_half_bath',\n",
    "    'garage_type', 'garage_yr_blt', 'garage_finish', 'garage_area', 'garage_qual', 'garage_cond',\n",
    "    'wood_deck_sf', 'open_porch_sf', 'enclosed_porch', '3ssn_porch', 'screen_porch',\n",
    "#     'overall_cond', 'overall_qual'\n",
    "    ], axis=1, inplace=True)\n",
    "\n",
    "    # MAKING COLUMNS BINARY\n",
    "    features_replace = ['pool_area' , 'garage_cars', 'fireplaces', 'mas_vnr_area', 'deck_porch'] # 'total_bsmt_sf', \n",
    "    for i in features_replace:\n",
    "        df[i] = df[i].map(does_does_not)\n",
    "\n",
    "    # RENAMING BINARY COLUMNS\n",
    "    df.rename(columns={\n",
    "    'pool_area': 'has_pool',\n",
    "    'garage_cars': 'has_garage', \n",
    "    'fireplaces': 'has_fireplace',\n",
    "#     'total_bsmt_sf': 'has_bsmt',\n",
    "    'mas_vnr_area': 'has_mas_vnr',\n",
    "    'fence': 'has_fence'}, inplace=True)\n",
    "\n",
    "\n",
    "    # COMBINING SIMILAR/SAMLL VALES\n",
    "    df['lot_shape'] =df['lot_shape'].replace({'IR3':'IR2'})\n",
    "    df['condition_1'] =df['condition_1'].replace({'PosA':'Pos', 'PosN':'Pos', 'RRAe':'RRe', 'RRNe':'RRe', 'RRNn':'RRn', 'RRAn':'RRn'})\n",
    "    df['condition_2'] =df['condition_2'].replace({'PosA':'Pos', 'PosN':'Pos', 'RRAe':'RRe', 'RRNe':'RRe', 'RRNn':'RRn', 'RRAn':'RRn'})\n",
    "#     df['year_built'] = pd.to_datetime(df['year_built'], format='%Y')\n",
    "#     df['year_remod/add'] = pd.to_datetime(df['year_remod/add'], format='%Y')\n",
    "#     df['mo_sold'] = pd.to_datetime(df['mo_sold'], format='%m')\n",
    "#     df['yr_sold'] = pd.to_datetime(df['yr_sold'], format='%Y')\n",
    "    \n",
    "    # CATEROGRY TO NUMBERICAL\n",
    "    df['exter_qual'] = df['exter_qual'].replace({'Ex': 5, 'Gd': 4, 'TA': 3, 'Fa': 2, 'Po': 1})\n",
    "    df['exter_cond'] = df['exter_cond'].replace({'Ex': 5, 'Gd': 4, 'TA': 3, 'Fa': 2, 'Po': 1})\n",
    "    df['heating_qc'] = df['heating_qc'].replace({'Ex': 5, 'Gd': 4, 'TA': 3, 'Fa': 2, 'Po': 1})\n",
    "    df['electrical'] = df['electrical'].replace({'SBrkr': 5, 'FuseA': 4, 'FuseF': 3, 'FuseP': 2, 'Mix': 1})\n",
    "    df['kitchen_qual'] = df['kitchen_qual'].replace({'Ex': 5, 'Gd': 4, 'TA': 3, 'Fa': 2, 'Po': 1})\n",
    "\n",
    "    # DROPPING SIMILAR COLUMNS\n",
    "    df.drop(['1st_flr_sf', '2nd_flr_sf', 'bedroom_abvgr'], axis=1, inplace=True) # , 'gr_liv_area'\n",
    "\n",
    "    # DUMMIES FOR CAT COLUMNS\n",
    "    df = pd.get_dummies(df, columns=[\n",
    "    'neighborhood',\n",
    "    'lot_shape',\n",
    "    'ms_subclass',\n",
    "    'ms_zoning',\n",
    "    'land_contour',\n",
    "    'lot_config',\n",
    "    'utilities',\n",
    "    'land_slope',\n",
    "    'condition_1',\n",
    "    'condition_2',\n",
    "    'bldg_type',\n",
    "    'exterior_1st',\n",
    "    'exterior_2nd',\n",
    "    'foundation',\n",
    "    'heating',\n",
    "    'central_air',\n",
    "    'full_bath',\n",
    "    'half_bath',\n",
    "    'kitchen_abvgr',\n",
    "    'functional',\n",
    "    'paved_drive',\n",
    "    'sale_type',\n",
    "    'street',\n",
    "    'house_style',\n",
    "    'roof_style',\n",
    "    'roof_matl',\n",
    "    'electrical'\n",
    "    ], prefix=[\n",
    "    'n_',\n",
    "    'ls_',\n",
    "    'mssub_',\n",
    "    'mszon_',\n",
    "    'landcon_',\n",
    "    'lotfig_',\n",
    "    'ut_',\n",
    "    'landm_',\n",
    "    'cond1_',\n",
    "    'cond2_',\n",
    "    'btype_',\n",
    "    'ext1_',\n",
    "    'ext2_',\n",
    "    'found_',\n",
    "    'heat_',\n",
    "    'ac_',\n",
    "    'fb_',\n",
    "    'hb_',\n",
    "    'kita_',\n",
    "    'funct_',\n",
    "    'paved_',\n",
    "    'stype_',\n",
    "    'st_',\n",
    "    'hstyle_',\n",
    "    'rst_',\n",
    "    'rmat_',\n",
    "    'ele_'\n",
    "    ])\n",
    "    \n",
    "    return df "
   ]
  },
  {
   "cell_type": "code",
   "execution_count": 4,
   "metadata": {
    "collapsed": true
   },
   "outputs": [],
   "source": [
    "df = clean(df_data)\n",
    "final = clean(final_data)\n",
    "df = df.loc[df['gr_liv_area'] < 4000].copy()"
   ]
  },
  {
   "cell_type": "code",
   "execution_count": 5,
   "metadata": {
    "collapsed": true
   },
   "outputs": [],
   "source": [
    "def mia_columns(df1, df2):\n",
    "    mia_df2 = list(set(df1.columns) - set(df2.columns))\n",
    "    print(mia_df2)\n",
    "    mia_df1 = list(set(df2.columns) - set(df1.columns))\n",
    "    print(mia_df1)\n",
    "    \n",
    "    for i in mia_df2:\n",
    "        df2[i] = 0\n",
    "    \n",
    "    for i in mia_df1:\n",
    "        df2.drop([i], axis=1, inplace=True)\n",
    "    \n",
    "    df1['total_bsmt_sf'].fillna(0, inplace=True)\n",
    "    df2['total_bsmt_sf'].fillna(0, inplace=True)"
   ]
  },
  {
   "cell_type": "code",
   "execution_count": 6,
   "metadata": {},
   "outputs": [
    {
     "name": "stdout",
     "output_type": "stream",
     "text": [
      "['saleprice', 'mszon__A (agr)', 'mssub__150', 'ext1__CBlock', 'ext2__Stone', 'ele__3', 'ext1__ImStucc', 'ext1__Stone', 'ele__2', 'cond2__RRn', 'cond2__RRe', 'heat__Wall', 'sale_condition', 'rmat__ClyTile', 'funct__Sal', 'n__Landmrk', 'ele__5', 'heat__OthW', 'ut__NoSeWa', 'cond2__Artery', 'ele__4', 'funct__Sev', 'n__GrnHill', 'rmat__Membran', 'ele__1']\n",
      "['ext2__Other', 'ele__3.0', 'rmat__Metal', 'ext2__PreCast', 'ext1__PreCast', 'ele__2.0', 'heat__Floor', 'ele__4.0', 'stype__VWD', 'ele__5.0', 'rmat__Roll']\n"
     ]
    }
   ],
   "source": [
    "mia_columns(df, final)"
   ]
  },
  {
   "cell_type": "code",
   "execution_count": 7,
   "metadata": {
    "collapsed": true
   },
   "outputs": [],
   "source": [
    "df['sale_condition'] = df['sale_condition'].map(lambda x: 1 if x == 'Abnorml' else 0)"
   ]
  },
  {
   "cell_type": "code",
   "execution_count": null,
   "metadata": {
    "collapsed": true
   },
   "outputs": [],
   "source": []
  },
  {
   "cell_type": "code",
   "execution_count": null,
   "metadata": {
    "collapsed": true
   },
   "outputs": [],
   "source": []
  },
  {
   "cell_type": "code",
   "execution_count": null,
   "metadata": {
    "collapsed": true
   },
   "outputs": [],
   "source": []
  },
  {
   "cell_type": "code",
   "execution_count": null,
   "metadata": {
    "collapsed": true
   },
   "outputs": [],
   "source": []
  },
  {
   "cell_type": "code",
   "execution_count": 8,
   "metadata": {
    "collapsed": true
   },
   "outputs": [],
   "source": [
    "y = df['sale_condition']\n",
    "X = df.drop(['id', 'pid', 'sale_condition', 'saleprice'], axis=1)"
   ]
  },
  {
   "cell_type": "code",
   "execution_count": 9,
   "metadata": {},
   "outputs": [
    {
     "data": {
      "text/plain": [
       "0    0.935578\n",
       "1    0.064422\n",
       "Name: sale_condition, dtype: float64"
      ]
     },
     "execution_count": 9,
     "metadata": {},
     "output_type": "execute_result"
    }
   ],
   "source": [
    "# Baseline Accuracy\n",
    "y.value_counts(normalize = True)"
   ]
  },
  {
   "cell_type": "code",
   "execution_count": 59,
   "metadata": {
    "collapsed": true
   },
   "outputs": [],
   "source": [
    "from sklearn.pipeline import Pipeline\n",
    "from sklearn.decomposition import PCA"
   ]
  },
  {
   "cell_type": "code",
   "execution_count": 60,
   "metadata": {
    "collapsed": true
   },
   "outputs": [],
   "source": [
    "X_train, X_test, y_train, y_test= train_test_split(X, y)"
   ]
  },
  {
   "cell_type": "code",
   "execution_count": 61,
   "metadata": {
    "collapsed": true
   },
   "outputs": [],
   "source": [
    "pipe = Pipeline([\n",
    "    ('ss', StandardScaler()),\n",
    "    ('pca', PCA()),\n",
    "    ('knn', KNeighborsClassifier())\n",
    "])"
   ]
  },
  {
   "cell_type": "code",
   "execution_count": 62,
   "metadata": {},
   "outputs": [
    {
     "name": "stdout",
     "output_type": "stream",
     "text": [
      "Fitting 3 folds for each of 1 candidates, totalling 3 fits\n"
     ]
    },
    {
     "name": "stderr",
     "output_type": "stream",
     "text": [
      "[Parallel(n_jobs=-1)]: Done   3 out of   3 | elapsed:   30.1s finished\n"
     ]
    },
    {
     "data": {
      "text/plain": [
       "GridSearchCV(cv=None, error_score='raise',\n",
       "       estimator=Pipeline(memory=None,\n",
       "     steps=[('ss', StandardScaler(copy=True, with_mean=True, with_std=True)), ('pca', PCA(copy=True, iterated_power='auto', n_components=None, random_state=None,\n",
       "  svd_solver='auto', tol=0.0, whiten=False)), ('knn', KNeighborsClassifier(algorithm='auto', leaf_size=30, metric='minkowski',\n",
       "           metric_params=None, n_jobs=1, n_neighbors=5, p=2,\n",
       "           weights='uniform'))]),\n",
       "       fit_params=None, iid=True, n_jobs=-1, param_grid={},\n",
       "       pre_dispatch='2*n_jobs', refit=True, return_train_score='warn',\n",
       "       scoring=None, verbose=1)"
      ]
     },
     "execution_count": 62,
     "metadata": {},
     "output_type": "execute_result"
    }
   ],
   "source": [
    "params = {\n",
    "    \n",
    "}\n",
    "gs = GridSearchCV(pipe, param_grid=params, n_jobs=-1, verbose=1)\n",
    "gs.fit(X_train, y_train)"
   ]
  },
  {
   "cell_type": "code",
   "execution_count": 63,
   "metadata": {},
   "outputs": [
    {
     "name": "stdout",
     "output_type": "stream",
     "text": [
      "0.935546875 {}\n"
     ]
    }
   ],
   "source": [
    "print(gs.best_score_, gs.best_params_)"
   ]
  },
  {
   "cell_type": "code",
   "execution_count": null,
   "metadata": {
    "collapsed": true
   },
   "outputs": [],
   "source": []
  },
  {
   "cell_type": "code",
   "execution_count": 64,
   "metadata": {
    "collapsed": true
   },
   "outputs": [],
   "source": [
    "X_final = final.drop(['id', 'pid', 'sale_condition', 'saleprice'], axis=1) # , 'Sale Condition'\n",
    "pred = gs.predict(X_final)"
   ]
  },
  {
   "cell_type": "code",
   "execution_count": null,
   "metadata": {
    "collapsed": true
   },
   "outputs": [],
   "source": []
  },
  {
   "cell_type": "code",
   "execution_count": 66,
   "metadata": {
    "collapsed": true
   },
   "outputs": [],
   "source": [
    "final['Sale Condition'] = pred\n",
    "final[['id','Sale Condition']].to_csv('class_knn.csv', index=False) "
   ]
  },
  {
   "cell_type": "code",
   "execution_count": null,
   "metadata": {
    "collapsed": true
   },
   "outputs": [],
   "source": []
  },
  {
   "cell_type": "code",
   "execution_count": null,
   "metadata": {
    "collapsed": true
   },
   "outputs": [],
   "source": []
  },
  {
   "cell_type": "code",
   "execution_count": null,
   "metadata": {
    "collapsed": true
   },
   "outputs": [],
   "source": []
  },
  {
   "cell_type": "code",
   "execution_count": null,
   "metadata": {
    "collapsed": true
   },
   "outputs": [],
   "source": []
  },
  {
   "cell_type": "code",
   "execution_count": null,
   "metadata": {
    "collapsed": true
   },
   "outputs": [],
   "source": []
  },
  {
   "cell_type": "code",
   "execution_count": null,
   "metadata": {
    "collapsed": true
   },
   "outputs": [],
   "source": []
  },
  {
   "cell_type": "code",
   "execution_count": null,
   "metadata": {
    "collapsed": true
   },
   "outputs": [],
   "source": []
  },
  {
   "cell_type": "code",
   "execution_count": null,
   "metadata": {
    "collapsed": true
   },
   "outputs": [],
   "source": []
  },
  {
   "cell_type": "code",
   "execution_count": null,
   "metadata": {
    "collapsed": true
   },
   "outputs": [],
   "source": []
  }
 ],
 "metadata": {
  "kernelspec": {
   "display_name": "Python 3",
   "language": "python",
   "name": "python3"
  },
  "language_info": {
   "codemirror_mode": {
    "name": "ipython",
    "version": 3
   },
   "file_extension": ".py",
   "mimetype": "text/x-python",
   "name": "python",
   "nbconvert_exporter": "python",
   "pygments_lexer": "ipython3",
   "version": "3.6.3"
  }
 },
 "nbformat": 4,
 "nbformat_minor": 2
}
