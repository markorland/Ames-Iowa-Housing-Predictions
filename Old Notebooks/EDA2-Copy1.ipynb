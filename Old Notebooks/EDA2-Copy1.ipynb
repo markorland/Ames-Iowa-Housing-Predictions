{
 "cells": [
  {
   "cell_type": "code",
   "execution_count": null,
   "metadata": {
    "collapsed": true
   },
   "outputs": [],
   "source": [
    "# PCA number of components is how many features you want\n",
    "# finds the best then the orthogonal ones to it"
   ]
  },
  {
   "cell_type": "code",
   "execution_count": 1,
   "metadata": {
    "collapsed": true
   },
   "outputs": [],
   "source": [
    "import matplotlib.pyplot as plt\n",
    "import numpy as np\n",
    "import pandas as pd\n",
    "from scipy import stats\n",
    "import seaborn as sns\n",
    "\n",
    "from sklearn.linear_model import LinearRegression, ElasticNet, ElasticNetCV\n",
    "from sklearn.model_selection import train_test_split, KFold, cross_val_score, cross_val_predict, GridSearchCV\n",
    "from sklearn.neighbors import KNeighborsClassifier\n",
    "from sklearn.preprocessing import StandardScaler\n",
    "from sklearn import metrics\n",
    "\n",
    "%matplotlib inline"
   ]
  },
  {
   "cell_type": "code",
   "execution_count": 2,
   "metadata": {
    "collapsed": true
   },
   "outputs": [],
   "source": [
    "df = pd.read_csv('train.csv')\n",
    "final_test = pd.read_csv('test.csv')"
   ]
  },
  {
   "cell_type": "code",
   "execution_count": 3,
   "metadata": {
    "collapsed": true
   },
   "outputs": [],
   "source": [
    "df.rename(columns= {col: col.lower().replace(' ','_') for col in df.columns}, inplace=True)\n",
    "final_test.rename(columns= {col: col.lower().replace(' ','_') for col in final_test.columns}, inplace=True)"
   ]
  },
  {
   "cell_type": "code",
   "execution_count": 4,
   "metadata": {},
   "outputs": [
    {
     "name": "stdout",
     "output_type": "stream",
     "text": [
      "<class 'pandas.core.frame.DataFrame'>\n",
      "RangeIndex: 2051 entries, 0 to 2050\n",
      "Data columns (total 82 columns):\n",
      "id                 2051 non-null int64\n",
      "pid                2051 non-null int64\n",
      "ms_subclass        2051 non-null int64\n",
      "ms_zoning          2051 non-null object\n",
      "lot_frontage       1721 non-null float64\n",
      "lot_area           2051 non-null int64\n",
      "street             2051 non-null object\n",
      "alley              140 non-null object\n",
      "lot_shape          2051 non-null object\n",
      "land_contour       2051 non-null object\n",
      "utilities          2051 non-null object\n",
      "lot_config         2051 non-null object\n",
      "land_slope         2051 non-null object\n",
      "neighborhood       2051 non-null object\n",
      "condition_1        2051 non-null object\n",
      "condition_2        2051 non-null object\n",
      "bldg_type          2051 non-null object\n",
      "house_style        2051 non-null object\n",
      "overall_qual       2051 non-null int64\n",
      "overall_cond       2051 non-null int64\n",
      "year_built         2051 non-null int64\n",
      "year_remod/add     2051 non-null int64\n",
      "roof_style         2051 non-null object\n",
      "roof_matl          2051 non-null object\n",
      "exterior_1st       2051 non-null object\n",
      "exterior_2nd       2051 non-null object\n",
      "mas_vnr_type       2029 non-null object\n",
      "mas_vnr_area       2029 non-null float64\n",
      "exter_qual         2051 non-null object\n",
      "exter_cond         2051 non-null object\n",
      "foundation         2051 non-null object\n",
      "bsmt_qual          1996 non-null object\n",
      "bsmt_cond          1996 non-null object\n",
      "bsmt_exposure      1993 non-null object\n",
      "bsmtfin_type_1     1996 non-null object\n",
      "bsmtfin_sf_1       2050 non-null float64\n",
      "bsmtfin_type_2     1995 non-null object\n",
      "bsmtfin_sf_2       2050 non-null float64\n",
      "bsmt_unf_sf        2050 non-null float64\n",
      "total_bsmt_sf      2050 non-null float64\n",
      "heating            2051 non-null object\n",
      "heating_qc         2051 non-null object\n",
      "central_air        2051 non-null object\n",
      "electrical         2051 non-null object\n",
      "1st_flr_sf         2051 non-null int64\n",
      "2nd_flr_sf         2051 non-null int64\n",
      "low_qual_fin_sf    2051 non-null int64\n",
      "gr_liv_area        2051 non-null int64\n",
      "bsmt_full_bath     2049 non-null float64\n",
      "bsmt_half_bath     2049 non-null float64\n",
      "full_bath          2051 non-null int64\n",
      "half_bath          2051 non-null int64\n",
      "bedroom_abvgr      2051 non-null int64\n",
      "kitchen_abvgr      2051 non-null int64\n",
      "kitchen_qual       2051 non-null object\n",
      "totrms_abvgrd      2051 non-null int64\n",
      "functional         2051 non-null object\n",
      "fireplaces         2051 non-null int64\n",
      "fireplace_qu       1051 non-null object\n",
      "garage_type        1938 non-null object\n",
      "garage_yr_blt      1937 non-null float64\n",
      "garage_finish      1937 non-null object\n",
      "garage_cars        2050 non-null float64\n",
      "garage_area        2050 non-null float64\n",
      "garage_qual        1937 non-null object\n",
      "garage_cond        1937 non-null object\n",
      "paved_drive        2051 non-null object\n",
      "wood_deck_sf       2051 non-null int64\n",
      "open_porch_sf      2051 non-null int64\n",
      "enclosed_porch     2051 non-null int64\n",
      "3ssn_porch         2051 non-null int64\n",
      "screen_porch       2051 non-null int64\n",
      "pool_area          2051 non-null int64\n",
      "pool_qc            9 non-null object\n",
      "fence              400 non-null object\n",
      "misc_feature       65 non-null object\n",
      "misc_val           2051 non-null int64\n",
      "mo_sold            2051 non-null int64\n",
      "yr_sold            2051 non-null int64\n",
      "sale_type          2051 non-null object\n",
      "sale_condition     2051 non-null object\n",
      "saleprice          2051 non-null int64\n",
      "dtypes: float64(11), int64(28), object(43)\n",
      "memory usage: 1.3+ MB\n"
     ]
    }
   ],
   "source": [
    "df.info()"
   ]
  },
  {
   "cell_type": "code",
   "execution_count": 5,
   "metadata": {
    "collapsed": true
   },
   "outputs": [],
   "source": [
    "y = df['saleprice']\n",
    "features = ['lot_area', 'overall_qual', 'overall_cond']\n",
    "X = df[features]"
   ]
  },
  {
   "cell_type": "code",
   "execution_count": 6,
   "metadata": {},
   "outputs": [
    {
     "data": {
      "text/plain": [
       "lot_area        0\n",
       "overall_qual    0\n",
       "overall_cond    0\n",
       "dtype: int64"
      ]
     },
     "execution_count": 6,
     "metadata": {},
     "output_type": "execute_result"
    }
   ],
   "source": [
    "X.isnull().sum()"
   ]
  },
  {
   "cell_type": "code",
   "execution_count": 7,
   "metadata": {
    "collapsed": true
   },
   "outputs": [],
   "source": [
    "X_train, X_test, y_train, y_test = train_test_split(X, y, random_state=101)\n",
    "# stratify give the percentage of each class -- for categories"
   ]
  },
  {
   "cell_type": "code",
   "execution_count": 8,
   "metadata": {
    "collapsed": true
   },
   "outputs": [],
   "source": [
    "ss = StandardScaler()\n",
    "X_train_sc = ss.fit_transform(X_train)\n",
    "X_test_sc = ss.transform(X_test)"
   ]
  },
  {
   "cell_type": "code",
   "execution_count": 9,
   "metadata": {},
   "outputs": [
    {
     "data": {
      "text/plain": [
       "LinearRegression(copy_X=True, fit_intercept=True, n_jobs=1, normalize=False)"
      ]
     },
     "execution_count": 9,
     "metadata": {},
     "output_type": "execute_result"
    }
   ],
   "source": [
    "lr = LinearRegression()\n",
    "lr.fit(X_train_sc ,y_train)"
   ]
  },
  {
   "cell_type": "code",
   "execution_count": 10,
   "metadata": {},
   "outputs": [
    {
     "name": "stdout",
     "output_type": "stream",
     "text": [
      "train 0.679105632994\n",
      "test 0.703801167288\n"
     ]
    }
   ],
   "source": [
    "print('train', lr.score(X_train_sc, y_train))\n",
    "print('test', lr.score(X_test_sc, y_test))"
   ]
  },
  {
   "cell_type": "code",
   "execution_count": null,
   "metadata": {
    "collapsed": true
   },
   "outputs": [],
   "source": [
    "cross_val_score(lr, X_test_sc, y_test)"
   ]
  },
  {
   "cell_type": "code",
   "execution_count": 11,
   "metadata": {
    "collapsed": true
   },
   "outputs": [],
   "source": [
    "# ElasticNet - GridSearch"
   ]
  },
  {
   "cell_type": "code",
   "execution_count": 12,
   "metadata": {},
   "outputs": [
    {
     "data": {
      "text/plain": [
       "{'alpha': 0.01, 'l1_ratio': 0.76000000000000001}"
      ]
     },
     "execution_count": 12,
     "metadata": {},
     "output_type": "execute_result"
    }
   ],
   "source": [
    "enet = ElasticNet()\n",
    "params = {\n",
    "    'alpha': np.arange(.01, .03, .005),\n",
    "    'l1_ratio': np.arange(.01, 1.0, .05)\n",
    "}\n",
    "gs = GridSearchCV(enet, params)\n",
    "gs.fit(X_train_sc, y_train)\n",
    "gs.best_params_"
   ]
  },
  {
   "cell_type": "code",
   "execution_count": 13,
   "metadata": {},
   "outputs": [
    {
     "data": {
      "text/plain": [
       "0.70374897290226501"
      ]
     },
     "execution_count": 13,
     "metadata": {},
     "output_type": "execute_result"
    }
   ],
   "source": [
    "gs.score(X_test_sc, y_test)"
   ]
  },
  {
   "cell_type": "code",
   "execution_count": 14,
   "metadata": {
    "collapsed": true
   },
   "outputs": [],
   "source": [
    "X_final_test = final_test[features]\n",
    "X_final_test_sc = ss.transform(X_final_test)\n",
    "predictions = gs.predict(X_final_test_sc)"
   ]
  },
  {
   "cell_type": "code",
   "execution_count": 15,
   "metadata": {
    "collapsed": true
   },
   "outputs": [],
   "source": [
    "final_test['SalePrice'] = predictions\n",
    "\n",
    "final_test[['id','SalePrice']].to_csv('export_submit_2.csv', index=False)"
   ]
  },
  {
   "cell_type": "code",
   "execution_count": null,
   "metadata": {
    "collapsed": true
   },
   "outputs": [],
   "source": []
  }
 ],
 "metadata": {
  "kernelspec": {
   "display_name": "Python 3",
   "language": "python",
   "name": "python3"
  },
  "language_info": {
   "codemirror_mode": {
    "name": "ipython",
    "version": 3
   },
   "file_extension": ".py",
   "mimetype": "text/x-python",
   "name": "python",
   "nbconvert_exporter": "python",
   "pygments_lexer": "ipython3",
   "version": "3.6.3"
  }
 },
 "nbformat": 4,
 "nbformat_minor": 2
}
