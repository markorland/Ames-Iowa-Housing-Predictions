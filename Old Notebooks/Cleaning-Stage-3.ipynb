{
 "cells": [
  {
   "cell_type": "code",
   "execution_count": 1,
   "metadata": {
    "collapsed": true
   },
   "outputs": [],
   "source": [
    "import numpy as np\n",
    "import pandas as pd\n",
    "import seaborn as sns\n",
    "import matplotlib.pyplot as plt\n",
    "\n",
    "%matplotlib inline"
   ]
  },
  {
   "cell_type": "code",
   "execution_count": 2,
   "metadata": {
    "collapsed": true
   },
   "outputs": [],
   "source": [
    "df = pd.read_csv('train.csv')\n",
    "# final = pd.read_csv('test.csv') -- do not uncomment out"
   ]
  },
  {
   "cell_type": "code",
   "execution_count": 3,
   "metadata": {
    "collapsed": true
   },
   "outputs": [],
   "source": [
    "def does_does_not(cell):\n",
    "    if cell >= 1:\n",
    "        return 1\n",
    "    else:\n",
    "        return 0\n",
    "\n",
    "def clean1(df):\n",
    "    df.rename(columns= {col: col.lower().replace(' ','_') for col in df.columns}, inplace=True)\n",
    "    \n",
    "    df['deck_porch'] = df['wood_deck_sf'] + df['open_porch_sf'] + df['enclosed_porch'] + df['3ssn_porch'] + df['screen_porch']\n",
    "    df['fence'] = df['fence'].notnull().astype('int')\n",
    "    df['overall_cond_qual'] = df['overall_cond'] + df['overall_qual']\n",
    "    \n",
    "    df.drop([\n",
    "    'alley', 'lot_frontage', 'mas_vnr_type', 'fireplace_qu', 'pool_qc', 'misc_feature',\n",
    "    'bsmt_qual', 'bsmt_cond', 'bsmt_exposure', 'bsmtfin_type_1', 'bsmtfin_sf_1', 'bsmtfin_type_2',\n",
    "    'bsmtfin_sf_2', 'bsmt_unf_sf', 'bsmt_full_bath', 'bsmt_half_bath',\n",
    "    'garage_type', 'garage_yr_blt', 'garage_finish', 'garage_area', 'garage_qual', 'garage_cond',\n",
    "    'wood_deck_sf', 'open_porch_sf', 'enclosed_porch', '3ssn_porch', 'screen_porch',\n",
    "    'overall_cond', 'overall_qual'], axis=1, inplace=True)\n",
    "        \n",
    "    features_replace = ['pool_area' , 'garage_cars', 'fireplaces', 'total_bsmt_sf', 'mas_vnr_area', 'deck_porch']\n",
    "    for i in features_replace:\n",
    "        df[i] = df[i].map(does_does_not)\n",
    "    \n",
    "    df.rename(columns={\n",
    "    'pool_area': 'has_pool',\n",
    "    'garage_cars': 'has_garage', \n",
    "    'fireplaces': 'has_fireplace',\n",
    "    'total_bsmt_sf': 'has_bsmt',\n",
    "    'mas_vnr_area': 'has_mas_vnr',\n",
    "    'fence': 'has_fence'}, inplace=True)\n",
    "    \n",
    "    return df.head()"
   ]
  },
  {
   "cell_type": "code",
   "execution_count": 4,
   "metadata": {
    "scrolled": true
   },
   "outputs": [
    {
     "data": {
      "text/html": [
       "<div>\n",
       "<style>\n",
       "    .dataframe thead tr:only-child th {\n",
       "        text-align: right;\n",
       "    }\n",
       "\n",
       "    .dataframe thead th {\n",
       "        text-align: left;\n",
       "    }\n",
       "\n",
       "    .dataframe tbody tr th {\n",
       "        vertical-align: top;\n",
       "    }\n",
       "</style>\n",
       "<table border=\"1\" class=\"dataframe\">\n",
       "  <thead>\n",
       "    <tr style=\"text-align: right;\">\n",
       "      <th></th>\n",
       "      <th>id</th>\n",
       "      <th>pid</th>\n",
       "      <th>ms_subclass</th>\n",
       "      <th>ms_zoning</th>\n",
       "      <th>lot_area</th>\n",
       "      <th>street</th>\n",
       "      <th>lot_shape</th>\n",
       "      <th>land_contour</th>\n",
       "      <th>utilities</th>\n",
       "      <th>lot_config</th>\n",
       "      <th>...</th>\n",
       "      <th>has_pool</th>\n",
       "      <th>has_fence</th>\n",
       "      <th>misc_val</th>\n",
       "      <th>mo_sold</th>\n",
       "      <th>yr_sold</th>\n",
       "      <th>sale_type</th>\n",
       "      <th>sale_condition</th>\n",
       "      <th>saleprice</th>\n",
       "      <th>deck_porch</th>\n",
       "      <th>overall_cond_qual</th>\n",
       "    </tr>\n",
       "  </thead>\n",
       "  <tbody>\n",
       "    <tr>\n",
       "      <th>0</th>\n",
       "      <td>109</td>\n",
       "      <td>533352170</td>\n",
       "      <td>60</td>\n",
       "      <td>RL</td>\n",
       "      <td>13517</td>\n",
       "      <td>Pave</td>\n",
       "      <td>IR1</td>\n",
       "      <td>Lvl</td>\n",
       "      <td>AllPub</td>\n",
       "      <td>CulDSac</td>\n",
       "      <td>...</td>\n",
       "      <td>0</td>\n",
       "      <td>0</td>\n",
       "      <td>0</td>\n",
       "      <td>3</td>\n",
       "      <td>2010</td>\n",
       "      <td>WD</td>\n",
       "      <td>Normal</td>\n",
       "      <td>130500</td>\n",
       "      <td>1</td>\n",
       "      <td>14</td>\n",
       "    </tr>\n",
       "    <tr>\n",
       "      <th>1</th>\n",
       "      <td>544</td>\n",
       "      <td>531379050</td>\n",
       "      <td>60</td>\n",
       "      <td>RL</td>\n",
       "      <td>11492</td>\n",
       "      <td>Pave</td>\n",
       "      <td>IR1</td>\n",
       "      <td>Lvl</td>\n",
       "      <td>AllPub</td>\n",
       "      <td>CulDSac</td>\n",
       "      <td>...</td>\n",
       "      <td>0</td>\n",
       "      <td>0</td>\n",
       "      <td>0</td>\n",
       "      <td>4</td>\n",
       "      <td>2009</td>\n",
       "      <td>WD</td>\n",
       "      <td>Normal</td>\n",
       "      <td>220000</td>\n",
       "      <td>1</td>\n",
       "      <td>12</td>\n",
       "    </tr>\n",
       "    <tr>\n",
       "      <th>2</th>\n",
       "      <td>153</td>\n",
       "      <td>535304180</td>\n",
       "      <td>20</td>\n",
       "      <td>RL</td>\n",
       "      <td>7922</td>\n",
       "      <td>Pave</td>\n",
       "      <td>Reg</td>\n",
       "      <td>Lvl</td>\n",
       "      <td>AllPub</td>\n",
       "      <td>Inside</td>\n",
       "      <td>...</td>\n",
       "      <td>0</td>\n",
       "      <td>0</td>\n",
       "      <td>0</td>\n",
       "      <td>1</td>\n",
       "      <td>2010</td>\n",
       "      <td>WD</td>\n",
       "      <td>Abnorml</td>\n",
       "      <td>109000</td>\n",
       "      <td>1</td>\n",
       "      <td>12</td>\n",
       "    </tr>\n",
       "    <tr>\n",
       "      <th>3</th>\n",
       "      <td>318</td>\n",
       "      <td>916386060</td>\n",
       "      <td>60</td>\n",
       "      <td>RL</td>\n",
       "      <td>9802</td>\n",
       "      <td>Pave</td>\n",
       "      <td>Reg</td>\n",
       "      <td>Lvl</td>\n",
       "      <td>AllPub</td>\n",
       "      <td>Inside</td>\n",
       "      <td>...</td>\n",
       "      <td>0</td>\n",
       "      <td>0</td>\n",
       "      <td>0</td>\n",
       "      <td>4</td>\n",
       "      <td>2010</td>\n",
       "      <td>WD</td>\n",
       "      <td>Normal</td>\n",
       "      <td>174000</td>\n",
       "      <td>1</td>\n",
       "      <td>10</td>\n",
       "    </tr>\n",
       "    <tr>\n",
       "      <th>4</th>\n",
       "      <td>255</td>\n",
       "      <td>906425045</td>\n",
       "      <td>50</td>\n",
       "      <td>RL</td>\n",
       "      <td>14235</td>\n",
       "      <td>Pave</td>\n",
       "      <td>IR1</td>\n",
       "      <td>Lvl</td>\n",
       "      <td>AllPub</td>\n",
       "      <td>Inside</td>\n",
       "      <td>...</td>\n",
       "      <td>0</td>\n",
       "      <td>0</td>\n",
       "      <td>0</td>\n",
       "      <td>3</td>\n",
       "      <td>2010</td>\n",
       "      <td>WD</td>\n",
       "      <td>Normal</td>\n",
       "      <td>138500</td>\n",
       "      <td>1</td>\n",
       "      <td>14</td>\n",
       "    </tr>\n",
       "  </tbody>\n",
       "</table>\n",
       "<p>5 rows × 55 columns</p>\n",
       "</div>"
      ],
      "text/plain": [
       "    id        pid  ms_subclass ms_zoning  lot_area street lot_shape  \\\n",
       "0  109  533352170           60        RL     13517   Pave       IR1   \n",
       "1  544  531379050           60        RL     11492   Pave       IR1   \n",
       "2  153  535304180           20        RL      7922   Pave       Reg   \n",
       "3  318  916386060           60        RL      9802   Pave       Reg   \n",
       "4  255  906425045           50        RL     14235   Pave       IR1   \n",
       "\n",
       "  land_contour utilities lot_config        ...        has_pool has_fence  \\\n",
       "0          Lvl    AllPub    CulDSac        ...               0         0   \n",
       "1          Lvl    AllPub    CulDSac        ...               0         0   \n",
       "2          Lvl    AllPub     Inside        ...               0         0   \n",
       "3          Lvl    AllPub     Inside        ...               0         0   \n",
       "4          Lvl    AllPub     Inside        ...               0         0   \n",
       "\n",
       "  misc_val mo_sold yr_sold sale_type  sale_condition  saleprice deck_porch  \\\n",
       "0        0       3    2010       WD           Normal     130500          1   \n",
       "1        0       4    2009       WD           Normal     220000          1   \n",
       "2        0       1    2010       WD          Abnorml     109000          1   \n",
       "3        0       4    2010       WD           Normal     174000          1   \n",
       "4        0       3    2010       WD           Normal     138500          1   \n",
       "\n",
       "  overall_cond_qual  \n",
       "0                14  \n",
       "1                12  \n",
       "2                12  \n",
       "3                10  \n",
       "4                14  \n",
       "\n",
       "[5 rows x 55 columns]"
      ]
     },
     "execution_count": 4,
     "metadata": {},
     "output_type": "execute_result"
    }
   ],
   "source": [
    "clean1(df)"
   ]
  },
  {
   "cell_type": "markdown",
   "metadata": {},
   "source": [
    "# SAVE!!!"
   ]
  },
  {
   "cell_type": "code",
   "execution_count": 5,
   "metadata": {
    "collapsed": true
   },
   "outputs": [],
   "source": [
    "df['lot_shape'] =df['lot_shape'].replace({'IR3':'IR2'})\n",
    "df['condition_1'] =df['condition_1'].replace({'PosA':'Pos', 'PosN':'Pos', 'RRAe':'RRe', 'RRNe':'RRe', 'RRNn':'RRn', 'RRAn':'RRn'})\n",
    "df['condition_2'] =df['condition_2'].replace({'PosA':'Pos', 'PosN':'Pos', 'RRAe':'RRe', 'RRNe':'RRe', 'RRNn':'RRn', 'RRAn':'RRn'})\n",
    "df['year_built'] = pd.to_datetime(df['year_built'], format='%Y')\n",
    "df['year_remod/add'] = pd.to_datetime(df['year_remod/add'], format='%Y')\n",
    "df['mo_sold'] = pd.to_datetime(df['mo_sold'], format='%m')\n",
    "df['yr_sold'] = pd.to_datetime(df['yr_sold'], format='%Y')\n",
    "df['exter_qual'] = df['exter_qual'].replace({'Ex': 5, 'Gd': 4, 'TA': 3, 'Fa': 2, 'Po': 1})\n",
    "df['exter_cond'] = df['exter_cond'].replace({'Ex': 5, 'Gd': 4, 'TA': 3, 'Fa': 2, 'Po': 1})\n",
    "df['heating_qc'] = df['heating_qc'].replace({'Ex': 5, 'Gd': 4, 'TA': 3, 'Fa': 2, 'Po': 1})\n",
    "df['electrical'] = df['electrical'].replace({'SBrkr': 5, 'FuseA': 4, 'FuseF': 3, 'FuseP': 2, 'Mix': 1})\n",
    "df['kitchen_qual'] = df['kitchen_qual'].replace({'Ex': 5, 'Gd': 4, 'TA': 3, 'Fa': 2, 'Po': 1})\n",
    "\n",
    "df.drop(['gr_liv_area', '2nd_flr_sf', 'bedroom_abvgr'], axis=1, inplace=True)"
   ]
  },
  {
   "cell_type": "code",
   "execution_count": null,
   "metadata": {
    "collapsed": true
   },
   "outputs": [],
   "source": [
    "# df['lot_shape'] =df['lot_shape'].replace({'IR3':'IR2'})\n",
    "# df['condition_1'] =df['condition_1'].replace({'PosA':'Pos', 'PosN':'Pos', 'RRAe':'RRe', 'RRNe':'RRe', 'RRNn':'RRn', 'RRAn':'RRn'})\n",
    "# df['condition_2'] =df['condition_2'].replace({'PosA':'Pos', 'PosN':'Pos', 'RRAe':'RRe', 'RRNe':'RRe', 'RRNn':'RRn', 'RRAn':'RRn'})\n",
    "# df['year_built'] = pd.to_datetime(df['year_built'], format='%Y')\n",
    "# df['year_remod/add'] = pd.to_datetime(df['year_remod/add'], format='%Y')\n",
    "# df['mo_sold'] = pd.to_datetime(df['mo_sold'], format='%m')\n",
    "# df['yr_sold'] = pd.to_datetime(df['yr_sold'], format='%Y')\n",
    "# df['exter_qual'] = df['exter_qual'].replace({'Ex': 5, 'Gd': 4, 'TA': 3, 'Fa': 2, 'Po': 1})\n",
    "# df['exter_cond'] = df['exter_cond'].replace({'Ex': 5, 'Gd': 4, 'TA': 3, 'Fa': 2, 'Po': 1})\n",
    "# df['heating_qc'] = df['heating_qc'].replace({'Ex': 5, 'Gd': 4, 'TA': 3, 'Fa': 2, 'Po': 1})\n",
    "# df['electrical'] = df['electrical'].replace({'SBrkr': 5, 'FuseA': 4, 'FuseF': 3, 'FuseP': 2, 'Mix': 1})\n",
    "# df['kitchen_qual'] = df['kitchen_qual'].replace({'Ex': 5, 'Gd': 4, 'TA': 3, 'Fa': 2, 'Po': 1})\n",
    "\n",
    "# df.drop(['gr_liv_area', '2nd_flr_sf', 'bedroom_abvgr'], axis=1, inplace=True)\n",
    "\n",
    "# df = pd.get_dummies(df, columns=['Neighborhood'], prefix=['n_'])"
   ]
  },
  {
   "cell_type": "code",
   "execution_count": null,
   "metadata": {
    "collapsed": true
   },
   "outputs": [],
   "source": [
    "# df[df.columns.difference(['B', 'D'])] -- might be the best way to select the features for the modeling"
   ]
  },
  {
   "cell_type": "code",
   "execution_count": 134,
   "metadata": {},
   "outputs": [
    {
     "data": {
      "text/plain": [
       "Index(['id', 'pid', 'ms_subclass', 'ms_zoning', 'lot_area', 'street',\n",
       "       'lot_shape', 'land_contour', 'utilities', 'lot_config', 'land_slope',\n",
       "       'neighborhood', 'condition_1', 'condition_2', 'bldg_type',\n",
       "       'house_style', 'year_built', 'year_remod/add', 'roof_style',\n",
       "       'roof_matl', 'exterior_1st', 'exterior_2nd', 'has_mas_vnr',\n",
       "       'exter_qual', 'exter_cond', 'foundation', 'has_bsmt', 'heating',\n",
       "       'heating_qc', 'central_air', 'electrical', '1st_flr_sf',\n",
       "       'low_qual_fin_sf', 'full_bath', 'half_bath', 'bedroom_abvgr',\n",
       "       'kitchen_abvgr', 'kitchen_qual', 'totrms_abvgrd', 'functional',\n",
       "       'has_fireplace', 'has_garage', 'paved_drive', 'has_pool', 'has_fence',\n",
       "       'misc_val', 'mo_sold', 'yr_sold', 'sale_type', 'sale_condition',\n",
       "       'saleprice', 'overall_cond_qual', 'deck_porch'],\n",
       "      dtype='object')"
      ]
     },
     "execution_count": 134,
     "metadata": {},
     "output_type": "execute_result"
    }
   ],
   "source": [
    "df.columns"
   ]
  },
  {
   "cell_type": "code",
   "execution_count": 7,
   "metadata": {},
   "outputs": [],
   "source": [
    "df = pd.get_dummies(df, columns=[\n",
    "    'neighborhood',\n",
    "    'lot_shape',\n",
    "    'ms_subclass',\n",
    "    'ms_zoning',\n",
    "    'land_contour',\n",
    "    'lot_config',\n",
    "    'utilities',\n",
    "    'land_slope',\n",
    "    'condition_1',\n",
    "    'condition_2',\n",
    "    'bldg_type',\n",
    "    'exterior_1st',\n",
    "    'exterior_2nd',\n",
    "    'foundation',\n",
    "    'heating',\n",
    "    'central_air',\n",
    "    'full_bath',\n",
    "    'half_bath',\n",
    "    'kitchen_abvgr',\n",
    "    'functional',\n",
    "    'paved_drive',\n",
    "    'sale_type',\n",
    "    'street',\n",
    "    'house_style'\n",
    "    \n",
    "], prefix=[\n",
    "    'n_',\n",
    "    'ls_',\n",
    "    'mssub_',\n",
    "    'mszon_',\n",
    "    'landcon_',\n",
    "    'lotfig_',\n",
    "    'ut_',\n",
    "    'landm_',\n",
    "    'cond1_',\n",
    "    'cond2_',\n",
    "    'btype_',\n",
    "    'ext1_',\n",
    "    'ext2_',\n",
    "    'found_',\n",
    "    'heat_',\n",
    "    'ac_',\n",
    "    'fb_',\n",
    "    'hb_',\n",
    "    'kita_',\n",
    "    'funct_',\n",
    "    'paved_',\n",
    "    'stype_',\n",
    "    'st_',\n",
    "    'hstyle_'\n",
    "      \n",
    "])"
   ]
  },
  {
   "cell_type": "markdown",
   "metadata": {},
   "source": [
    "### Dummies:\n",
    "    Done:\n",
    "    - neighborhood\n",
    "    - lot_shape -- edited\n",
    "    - ms_subclass\n",
    "    - ms_zoning\n",
    "    - land_contour\n",
    "    - lot_config\n",
    "    - utilities\n",
    "    - land_slope\n",
    "    - condition_1 and condition_2 -- edited\n",
    "    - bldg_type\n",
    "    - exterior_1st\n",
    "    - exterior_2nd\n",
    "    - foundation\n",
    "    - heating\n",
    "    - central_air\n",
    "    - full_bath\n",
    "    - half_bath\n",
    "    - kitchen_abvgr\n",
    "    - functional\n",
    "    - paved_drive\n",
    "    - sale_type\n",
    "\n",
    "### Figure out what to do with:\n",
    "    - street\n",
    "    - house_style\n",
    "    "
   ]
  },
  {
   "cell_type": "code",
   "execution_count": 11,
   "metadata": {},
   "outputs": [
    {
     "data": {
      "text/plain": [
       "1Story    1059\n",
       "2Story     598\n",
       "1.5Fin     218\n",
       "SLvl        94\n",
       "SFoyer      50\n",
       "2.5Unf      14\n",
       "1.5Unf      12\n",
       "2.5Fin       6\n",
       "Name: house_style, dtype: int64"
      ]
     },
     "execution_count": 11,
     "metadata": {},
     "output_type": "execute_result"
    }
   ],
   "source": [
    "df['house_style'].value_counts()"
   ]
  },
  {
   "cell_type": "markdown",
   "metadata": {},
   "source": [
    "## Lot Shape"
   ]
  },
  {
   "cell_type": "code",
   "execution_count": null,
   "metadata": {
    "collapsed": true
   },
   "outputs": [],
   "source": [
    "df['lot_shape'].value_counts()"
   ]
  },
  {
   "cell_type": "code",
   "execution_count": null,
   "metadata": {
    "collapsed": true
   },
   "outputs": [],
   "source": [
    "df.groupby(['lot_shape'])['saleprice'].mean()"
   ]
  },
  {
   "cell_type": "code",
   "execution_count": 5,
   "metadata": {
    "collapsed": true
   },
   "outputs": [],
   "source": [
    "# if ir3 replace with ir2\n",
    "df['lot_shape'] =df['lot_shape'].replace({'IR3':'IR2'})"
   ]
  },
  {
   "cell_type": "code",
   "execution_count": 6,
   "metadata": {
    "collapsed": true
   },
   "outputs": [
    {
     "data": {
      "text/plain": [
       "Reg    1295\n",
       "IR1     692\n",
       "IR2      64\n",
       "Name: lot_shape, dtype: int64"
      ]
     },
     "execution_count": 6,
     "metadata": {},
     "output_type": "execute_result"
    }
   ],
   "source": [
    "df['lot_shape'].value_counts()"
   ]
  },
  {
   "cell_type": "code",
   "execution_count": 11,
   "metadata": {
    "collapsed": true
   },
   "outputs": [
    {
     "name": "stdout",
     "output_type": "stream",
     "text": [
      "Reg    1295\n",
      "IR1     692\n",
      "IR2      64\n",
      "Name: lot_shape, dtype: int64\n",
      "\n",
      " lot_shape\n",
      "IR1    211848.670520\n",
      "IR2    228221.109375\n",
      "Reg    162925.812355\n",
      "Name: saleprice, dtype: float64\n",
      "\n",
      " lot_shape\n",
      "IR1    190000\n",
      "IR2    215500\n",
      "Reg    145000\n",
      "Name: saleprice, dtype: int64\n"
     ]
    }
   ],
   "source": [
    "print(df['lot_shape'].value_counts())\n",
    "\n",
    "print('\\n' , df.groupby(['lot_shape'])['saleprice'].mean())\n",
    "\n",
    "print('\\n' , df.groupby(['lot_shape'])['saleprice'].median())"
   ]
  },
  {
   "cell_type": "markdown",
   "metadata": {},
   "source": [
    "### Land Contour"
   ]
  },
  {
   "cell_type": "code",
   "execution_count": null,
   "metadata": {
    "collapsed": true
   },
   "outputs": [],
   "source": [
    "df['land_contour'].value_counts()"
   ]
  },
  {
   "cell_type": "code",
   "execution_count": null,
   "metadata": {
    "collapsed": true
   },
   "outputs": [],
   "source": [
    "df.groupby(['land_contour'])['saleprice'].mean()"
   ]
  },
  {
   "cell_type": "code",
   "execution_count": null,
   "metadata": {
    "collapsed": true
   },
   "outputs": [],
   "source": [
    "df.groupby(['land_contour'])['saleprice'].median()"
   ]
  },
  {
   "cell_type": "code",
   "execution_count": null,
   "metadata": {
    "collapsed": true
   },
   "outputs": [],
   "source": [
    "# just get dummies on it"
   ]
  },
  {
   "cell_type": "markdown",
   "metadata": {},
   "source": [
    "### Utilities"
   ]
  },
  {
   "cell_type": "code",
   "execution_count": null,
   "metadata": {
    "collapsed": true
   },
   "outputs": [],
   "source": [
    "df.columns"
   ]
  },
  {
   "cell_type": "code",
   "execution_count": null,
   "metadata": {
    "collapsed": true
   },
   "outputs": [],
   "source": [
    "# AllPub All public Utilities (E,G,W,& S)\n",
    "# NoSewr Electricity, Gas, and Water (Septic Tank)\n",
    "# NoSeWa Electricity and Gas Only\n",
    "# ELO Electricity only"
   ]
  },
  {
   "cell_type": "code",
   "execution_count": 7,
   "metadata": {
    "collapsed": true
   },
   "outputs": [
    {
     "name": "stdout",
     "output_type": "stream",
     "text": [
      "AllPub    2049\n",
      "NoSewr       1\n",
      "NoSeWa       1\n",
      "Name: utilities, dtype: int64\n",
      "\n",
      " utilities\n",
      "AllPub    181551.602245\n",
      "NoSeWa    137500.000000\n",
      "NoSewr     57625.000000\n",
      "Name: saleprice, dtype: float64\n",
      "\n",
      " utilities\n",
      "AllPub    162500\n",
      "NoSeWa    137500\n",
      "NoSewr     57625\n",
      "Name: saleprice, dtype: int64\n"
     ]
    }
   ],
   "source": [
    "print(df['utilities'].value_counts())\n",
    "\n",
    "print('\\n' , df.groupby(['utilities'])['saleprice'].mean())\n",
    "\n",
    "print('\\n' , df.groupby(['utilities'])['saleprice'].median())"
   ]
  },
  {
   "cell_type": "code",
   "execution_count": null,
   "metadata": {
    "collapsed": true
   },
   "outputs": [],
   "source": [
    "# just get dummies"
   ]
  },
  {
   "cell_type": "markdown",
   "metadata": {
    "collapsed": true
   },
   "source": [
    "### Condition 1 and 2"
   ]
  },
  {
   "cell_type": "code",
   "execution_count": 10,
   "metadata": {
    "collapsed": true
   },
   "outputs": [
    {
     "name": "stdout",
     "output_type": "stream",
     "text": [
      "Norm      1767\n",
      "Feedr      109\n",
      "Artery      70\n",
      "RRAn        36\n",
      "PosN        27\n",
      "RRAe        21\n",
      "PosA        12\n",
      "RRNn         6\n",
      "RRNe         3\n",
      "Name: condition_1, dtype: int64\n",
      "\n",
      " condition_1\n",
      "Artery    128765.000000\n",
      "Feedr     143223.605505\n",
      "Norm      185007.310130\n",
      "PosA      254733.333333\n",
      "PosN      254794.296296\n",
      "RRAe      139685.714286\n",
      "RRAn      172604.777778\n",
      "RRNe      129616.666667\n",
      "RRNn      198208.333333\n",
      "Name: saleprice, dtype: float64\n",
      "\n",
      " condition_1\n",
      "Artery    118950\n",
      "Feedr     140000\n",
      "Norm      167000\n",
      "PosA      216000\n",
      "PosN      214500\n",
      "RRAe      142500\n",
      "RRAn      167250\n",
      "RRNe      126000\n",
      "RRNn      184000\n",
      "Name: saleprice, dtype: int64\n"
     ]
    }
   ],
   "source": [
    "print(df['condition_1'].value_counts())\n",
    "\n",
    "print('\\n' , df.groupby(['condition_1'])['saleprice'].mean())\n",
    "\n",
    "print('\\n' , df.groupby(['condition_1'])['saleprice'].median())"
   ]
  },
  {
   "cell_type": "code",
   "execution_count": 14,
   "metadata": {
    "collapsed": true
   },
   "outputs": [
    {
     "name": "stdout",
     "output_type": "stream",
     "text": [
      "Norm      2025\n",
      "Feedr       11\n",
      "Artery       5\n",
      "PosN         3\n",
      "PosA         3\n",
      "RRNn         2\n",
      "RRAn         1\n",
      "RRAe         1\n",
      "Name: condition_2, dtype: int64\n",
      "\n",
      " condition_2\n",
      "Artery    119050.000000\n",
      "Feedr     129181.818182\n",
      "Norm      181382.075556\n",
      "PosA      390666.666667\n",
      "PosN      395666.666667\n",
      "RRAe      190000.000000\n",
      "RRAn      136905.000000\n",
      "RRNn       96750.000000\n",
      "Name: saleprice, dtype: float64\n",
      "\n",
      " condition_2\n",
      "Artery    118000\n",
      "Feedr     128000\n",
      "Norm      163000\n",
      "PosA      392000\n",
      "PosN      385000\n",
      "RRAe      190000\n",
      "RRAn      136905\n",
      "RRNn       96750\n",
      "Name: saleprice, dtype: int64\n"
     ]
    }
   ],
   "source": [
    "print(df['condition_2'].value_counts())\n",
    "\n",
    "print('\\n' , df.groupby(['condition_2'])['saleprice'].mean())\n",
    "\n",
    "print('\\n' , df.groupby(['condition_2'])['saleprice'].median())"
   ]
  },
  {
   "cell_type": "code",
   "execution_count": 15,
   "metadata": {
    "collapsed": true
   },
   "outputs": [],
   "source": [
    "df['condition_1'] =df['condition_1'].replace({'PosA':'Pos', 'PosN':'Pos', 'RRAe':'RRe', 'RRNe':'RRe', 'RRNn':'RRn', 'RRAn':'RRn'})\n",
    "df['condition_2'] =df['condition_2'].replace({'PosA':'Pos', 'PosN':'Pos', 'RRAe':'RRe', 'RRNe':'RRe', 'RRNn':'RRn', 'RRAn':'RRn'})"
   ]
  },
  {
   "cell_type": "markdown",
   "metadata": {},
   "source": [
    "### Overall Condition/Quality\n",
    "moved to clean1"
   ]
  },
  {
   "cell_type": "code",
   "execution_count": 34,
   "metadata": {
    "collapsed": true
   },
   "outputs": [
    {
     "name": "stdout",
     "output_type": "stream",
     "text": [
      "5     563\n",
      "6     506\n",
      "7     431\n",
      "8     250\n",
      "4     159\n",
      "9      77\n",
      "3      29\n",
      "10     23\n",
      "2       9\n",
      "1       4\n",
      "Name: overall_qual, dtype: int64\n",
      "\n",
      " overall_qual\n",
      "1      48725.000000\n",
      "2      51081.000000\n",
      "3      81309.103448\n",
      "4     107744.037736\n",
      "5     134963.644760\n",
      "6     162891.102767\n",
      "7     203430.285383\n",
      "8     271437.044000\n",
      "9     370197.376623\n",
      "10    417396.565217\n",
      "Name: saleprice, dtype: float64\n",
      "\n",
      " overall_qual\n",
      "1      50150\n",
      "2      57625\n",
      "3      81400\n",
      "4     106500\n",
      "5     133500\n",
      "6     160000\n",
      "7     197900\n",
      "8     267150\n",
      "9     359900\n",
      "10    450000\n",
      "Name: saleprice, dtype: int64\n"
     ]
    },
    {
     "data": {
      "text/plain": [
       "<matplotlib.axes._subplots.AxesSubplot at 0x1b55bb873c8>"
      ]
     },
     "execution_count": 34,
     "metadata": {},
     "output_type": "execute_result"
    },
    {
     "data": {
      "image/png": "[encoded data removed]",
      "text/plain": [
       "<matplotlib.figure.Figure at 0x1b55b7ed748>"
      ]
     },
     "metadata": {},
     "output_type": "display_data"
    }
   ],
   "source": [
    "print(df['overall_qual'].value_counts())\n",
    "\n",
    "print('\\n' , df.groupby(['overall_qual'])['saleprice'].mean())\n",
    "\n",
    "print('\\n' , df.groupby(['overall_qual'])['saleprice'].median())\n",
    "\n",
    "# plt.hist(df['house_style'])\n",
    "sns.distplot(df['overall_qual'])"
   ]
  },
  {
   "cell_type": "code",
   "execution_count": 35,
   "metadata": {
    "collapsed": true
   },
   "outputs": [
    {
     "name": "stdout",
     "output_type": "stream",
     "text": [
      "5    1168\n",
      "6     368\n",
      "7     270\n",
      "8     101\n",
      "4      70\n",
      "3      35\n",
      "9      29\n",
      "2       6\n",
      "1       4\n",
      "Name: overall_cond, dtype: int64\n",
      "\n",
      " overall_cond\n",
      "1     59625.000000\n",
      "2     65364.833333\n",
      "3     99786.000000\n",
      "4    114034.571429\n",
      "5    207055.988870\n",
      "6    148952.665761\n",
      "7    155327.270370\n",
      "8    155913.366337\n",
      "9    198177.586207\n",
      "Name: saleprice, dtype: float64\n",
      "\n",
      " overall_cond\n",
      "1     61750.0\n",
      "2     71750.0\n",
      "3     91500.0\n",
      "4    110479.5\n",
      "5    187593.5\n",
      "6    142500.0\n",
      "7    142750.0\n",
      "8    144000.0\n",
      "9    161000.0\n",
      "Name: saleprice, dtype: float64\n"
     ]
    },
    {
     "data": {
      "text/plain": [
       "<matplotlib.axes._subplots.AxesSubplot at 0x1b55c0a3630>"
      ]
     },
     "execution_count": 35,
     "metadata": {},
     "output_type": "execute_result"
    },
    {
     "data": {
      "image/png": "[encoded data removed]",
      "text/plain": [
       "<matplotlib.figure.Figure at 0x1b55bfad6a0>"
      ]
     },
     "metadata": {},
     "output_type": "display_data"
    }
   ],
   "source": [
    "print(df['overall_cond'].value_counts())\n",
    "\n",
    "print('\\n' , df.groupby(['overall_cond'])['saleprice'].mean())\n",
    "\n",
    "print('\\n' , df.groupby(['overall_cond'])['saleprice'].median())\n",
    "\n",
    "# plt.hist(df['house_style'])\n",
    "sns.distplot(df['overall_cond'])"
   ]
  },
  {
   "cell_type": "code",
   "execution_count": 45,
   "metadata": {
    "collapsed": true
   },
   "outputs": [
    {
     "name": "stdout",
     "output_type": "stream",
     "text": [
      "12    568\n",
      "11    431\n",
      "13    392\n",
      "10    259\n",
      "14    163\n",
      "9      83\n",
      "15     50\n",
      "8      48\n",
      "7      15\n",
      "16     13\n",
      "6      12\n",
      "5       5\n",
      "4       5\n",
      "17      4\n",
      "19      2\n",
      "2       1\n",
      "Name: new_column_for_testing, dtype: int64\n",
      "\n",
      " new_column_for_testing\n",
      "2      61000.000000\n",
      "4      52497.800000\n",
      "5      56362.200000\n",
      "6      60308.666667\n",
      "7      95646.666667\n",
      "8      95591.250000\n",
      "9     114799.385542\n",
      "10    134066.791506\n",
      "11    151322.714617\n",
      "12    179569.160211\n",
      "13    228678.081633\n",
      "14    271604.748466\n",
      "15    294913.420000\n",
      "16    230115.384615\n",
      "17    231175.000000\n",
      "19    400000.000000\n",
      "Name: saleprice, dtype: float64\n",
      "\n",
      " new_column_for_testing\n",
      "2      61000.0\n",
      "4      63900.0\n",
      "5      50000.0\n",
      "6      64500.0\n",
      "7      92900.0\n",
      "8      89750.0\n",
      "9     111000.0\n",
      "10    132000.0\n",
      "11    147000.0\n",
      "12    177219.5\n",
      "13    226250.0\n",
      "14    268000.0\n",
      "15    289500.0\n",
      "16    234000.0\n",
      "17    237450.0\n",
      "19    400000.0\n",
      "Name: saleprice, dtype: float64\n"
     ]
    },
    {
     "data": {
      "text/plain": [
       "<matplotlib.axes._subplots.AxesSubplot at 0x1b55be907f0>"
      ]
     },
     "execution_count": 45,
     "metadata": {},
     "output_type": "execute_result"
    },
    {
     "data": {
      "image/png": "[encoded data removed]",
      "text/plain": [
       "<matplotlib.figure.Figure at 0x1b55bdc6cc0>"
      ]
     },
     "metadata": {},
     "output_type": "display_data"
    }
   ],
   "source": [
    "df['new_column_for_testing'] = df['overall_cond'] + df['overall_qual']\n",
    "\n",
    "\n",
    "\n",
    "print(df['new_column_for_testing'].value_counts())\n",
    "\n",
    "print('\\n' , df.groupby(['new_column_for_testing'])['saleprice'].mean())\n",
    "\n",
    "print('\\n' , df.groupby(['new_column_for_testing'])['saleprice'].median())\n",
    "\n",
    "sns.distplot(df['new_column_for_testing'])"
   ]
  },
  {
   "cell_type": "code",
   "execution_count": 131,
   "metadata": {
    "collapsed": true
   },
   "outputs": [],
   "source": [
    "df.rename(columns={'new_column_for_testing': 'overall_cond_qual'}, inplace=True)"
   ]
  },
  {
   "cell_type": "code",
   "execution_count": 133,
   "metadata": {
    "collapsed": true
   },
   "outputs": [],
   "source": [
    "df.drop(['overall_cond', 'overall_qual'], axis=1, inplace=True)"
   ]
  },
  {
   "cell_type": "markdown",
   "metadata": {},
   "source": [
    "### Year build and year remod"
   ]
  },
  {
   "cell_type": "code",
   "execution_count": 53,
   "metadata": {
    "collapsed": true
   },
   "outputs": [],
   "source": [
    "df['year_built'] = pd.to_datetime(df['year_built'], format='%Y')\n",
    "\n",
    "df['year_remod/add'] = pd.to_datetime(df['year_remod/add'], format='%Y')"
   ]
  },
  {
   "cell_type": "markdown",
   "metadata": {},
   "source": [
    "### Roof Style and Matl"
   ]
  },
  {
   "cell_type": "code",
   "execution_count": 60,
   "metadata": {
    "collapsed": true
   },
   "outputs": [
    {
     "name": "stdout",
     "output_type": "stream",
     "text": [
      "Gable      1619\n",
      "Hip         397\n",
      "Flat         13\n",
      "Gambrel      12\n",
      "Mansard       7\n",
      "Shed          3\n",
      "Name: roof_style, dtype: int64\n",
      "\n",
      " roof_style\n",
      "Flat       191613.076923\n",
      "Gable      171264.253243\n",
      "Gambrel    138208.333333\n",
      "Hip        224366.654912\n",
      "Mansard    152642.857143\n",
      "Shed       208666.666667\n",
      "Name: saleprice, dtype: float64\n",
      "\n",
      " roof_style\n",
      "Flat       167000\n",
      "Gable      159000\n",
      "Gambrel    125250\n",
      "Hip        180500\n",
      "Mansard    150000\n",
      "Shed       190000\n",
      "Name: saleprice, dtype: int64\n"
     ]
    }
   ],
   "source": [
    "print(df['roof_style'].value_counts())\n",
    "\n",
    "print('\\n' , df.groupby(['roof_style'])['saleprice'].mean())\n",
    "\n",
    "print('\\n' , df.groupby(['roof_style'])['saleprice'].median())\n",
    "\n",
    "# sns.distplot(df['roof_style'])"
   ]
  },
  {
   "cell_type": "code",
   "execution_count": 59,
   "metadata": {
    "collapsed": true
   },
   "outputs": [
    {
     "name": "stdout",
     "output_type": "stream",
     "text": [
      "CompShg    2025\n",
      "Tar&Grv      15\n",
      "WdShngl       5\n",
      "WdShake       4\n",
      "ClyTile       1\n",
      "Membran       1\n",
      "Name: roof_matl, dtype: int64\n",
      "\n",
      " roof_matl\n",
      "ClyTile    160000.000000\n",
      "CompShg    180849.197037\n",
      "Membran    241500.000000\n",
      "Tar&Grv    187948.933333\n",
      "WdShake    264250.000000\n",
      "WdShngl    339400.000000\n",
      "Name: saleprice, dtype: float64\n",
      "\n",
      " roof_matl\n",
      "ClyTile    160000\n",
      "CompShg    161500\n",
      "Membran    241500\n",
      "Tar&Grv    167000\n",
      "WdShake    287250\n",
      "WdShngl    280000\n",
      "Name: saleprice, dtype: int64\n"
     ]
    }
   ],
   "source": [
    "print(df['roof_matl'].value_counts())\n",
    "\n",
    "print('\\n' , df.groupby(['roof_matl'])['saleprice'].mean())\n",
    "\n",
    "print('\\n' , df.groupby(['roof_matl'])['saleprice'].median())\n",
    "\n",
    "# sns.distplot(df['roof_matl'])"
   ]
  },
  {
   "cell_type": "markdown",
   "metadata": {},
   "source": [
    "### Exterior Condition/Qual"
   ]
  },
  {
   "cell_type": "code",
   "execution_count": 68,
   "metadata": {
    "collapsed": true
   },
   "outputs": [
    {
     "name": "stdout",
     "output_type": "stream",
     "text": [
      "3    1247\n",
      "4     697\n",
      "5      81\n",
      "2      26\n",
      "Name: exter_qual, dtype: int64\n",
      "\n",
      " exter_qual\n",
      "2     89801.192308\n",
      "3    143270.978348\n",
      "4    230802.484935\n",
      "5    374460.308642\n",
      "Name: saleprice, dtype: float64\n",
      "\n",
      " exter_qual\n",
      "2     83750\n",
      "3    139400\n",
      "4    217500\n",
      "5    370967\n",
      "Name: saleprice, dtype: int64\n"
     ]
    }
   ],
   "source": [
    "print(df['exter_qual'].value_counts())\n",
    "\n",
    "print('\\n' , df.groupby(['exter_qual'])['saleprice'].mean())\n",
    "\n",
    "print('\\n' , df.groupby(['exter_qual'])['saleprice'].median())"
   ]
  },
  {
   "cell_type": "code",
   "execution_count": 67,
   "metadata": {
    "collapsed": true
   },
   "outputs": [],
   "source": [
    "df['exter_qual'] = df['exter_qual'].replace({'Ex': 5, 'Gd': 4, 'TA': 3, 'Fa': 2, 'Po': 1})\n",
    "df['exter_cond'] = df['exter_cond'].replace({'Ex': 5, 'Gd': 4, 'TA': 3, 'Fa': 2, 'Po': 1})"
   ]
  },
  {
   "cell_type": "markdown",
   "metadata": {},
   "source": [
    "### Heating"
   ]
  },
  {
   "cell_type": "code",
   "execution_count": 77,
   "metadata": {
    "collapsed": true
   },
   "outputs": [
    {
     "name": "stdout",
     "output_type": "stream",
     "text": [
      "Ex    1065\n",
      "TA     597\n",
      "Gd     319\n",
      "Fa      67\n",
      "Po       3\n",
      "Name: heating_qc, dtype: int64\n",
      "\n",
      " heating_qc\n",
      "Ex    216027.607512\n",
      "Fa    117123.641791\n",
      "Gd    160174.009404\n",
      "Po     69033.333333\n",
      "TA    138986.705193\n",
      "Name: saleprice, dtype: float64\n",
      "\n",
      " heating_qc\n",
      "Ex    197000\n",
      "Fa    113500\n",
      "Gd    153000\n",
      "Po     87000\n",
      "TA    134900\n",
      "Name: saleprice, dtype: int64\n"
     ]
    }
   ],
   "source": [
    "print(df['heating_qc'].value_counts())\n",
    "\n",
    "print('\\n' , df.groupby(['heating_qc'])['saleprice'].mean())\n",
    "\n",
    "print('\\n' , df.groupby(['heating_qc'])['saleprice'].median())"
   ]
  },
  {
   "cell_type": "code",
   "execution_count": 78,
   "metadata": {
    "collapsed": true
   },
   "outputs": [],
   "source": [
    "df['heating_qc'] = df['heating_qc'].replace({'Ex': 5, 'Gd': 4, 'TA': 3, 'Fa': 2, 'Po': 1})"
   ]
  },
  {
   "cell_type": "markdown",
   "metadata": {},
   "source": [
    "### Electrical"
   ]
  },
  {
   "cell_type": "code",
   "execution_count": 81,
   "metadata": {
    "collapsed": true
   },
   "outputs": [
    {
     "name": "stdout",
     "output_type": "stream",
     "text": [
      "SBrkr    1868\n",
      "FuseA     140\n",
      "FuseF      35\n",
      "FuseP       7\n",
      "Mix         1\n",
      "Name: electrical, dtype: int64\n",
      "\n",
      " electrical\n",
      "FuseA    122565.157143\n",
      "FuseF    103678.914286\n",
      "FuseP     83485.714286\n",
      "Mix       67000.000000\n",
      "SBrkr    187770.382227\n",
      "Name: saleprice, dtype: float64\n",
      "\n",
      " electrical\n",
      "FuseA    122875\n",
      "FuseF    105000\n",
      "FuseP     75000\n",
      "Mix       67000\n",
      "SBrkr    170000\n",
      "Name: saleprice, dtype: int64\n"
     ]
    },
    {
     "data": {
      "image/png": "[encoded data removed]",
      "text/plain": [
       "<matplotlib.figure.Figure at 0x1b55d969198>"
      ]
     },
     "metadata": {},
     "output_type": "display_data"
    }
   ],
   "source": [
    "print(df['electrical'].value_counts())\n",
    "\n",
    "print('\\n' , df.groupby(['electrical'])['saleprice'].mean())\n",
    "\n",
    "print('\\n' , df.groupby(['electrical'])['saleprice'].median())\n",
    "\n",
    "plt.hist(df['electrical']);"
   ]
  },
  {
   "cell_type": "code",
   "execution_count": 82,
   "metadata": {
    "collapsed": true
   },
   "outputs": [],
   "source": [
    "df['electrical'] = df['electrical'].replace({'SBrkr': 5, 'FuseA': 4, 'FuseF': 3, 'FuseP': 2, 'Mix': 1})\n",
    "# rated poor, fair, average"
   ]
  },
  {
   "cell_type": "markdown",
   "metadata": {},
   "source": [
    "### Floors"
   ]
  },
  {
   "cell_type": "code",
   "execution_count": 89,
   "metadata": {
    "collapsed": true
   },
   "outputs": [
    {
     "data": {
      "text/plain": [
       "<matplotlib.axes._subplots.AxesSubplot at 0x1b55dfe3400>"
      ]
     },
     "execution_count": 89,
     "metadata": {},
     "output_type": "execute_result"
    },
    {
     "data": {
      "image/png": "[encoded data removed]",
      "text/plain": [
       "<matplotlib.figure.Figure at 0x1b55df89b00>"
      ]
     },
     "metadata": {},
     "output_type": "display_data"
    }
   ],
   "source": [
    "sns.distplot(df['1st_flr_sf'])\n",
    "sns.distplot(df['gr_liv_area'])\n",
    "sns.distplot(df['2nd_flr_sf'])"
   ]
  },
  {
   "cell_type": "code",
   "execution_count": 92,
   "metadata": {
    "collapsed": true
   },
   "outputs": [],
   "source": [
    "df.drop(['gr_liv_area', '2nd_flr_sf'], axis=1, inplace=True)"
   ]
  },
  {
   "cell_type": "markdown",
   "metadata": {},
   "source": [
    "### Baths"
   ]
  },
  {
   "cell_type": "code",
   "execution_count": 93,
   "metadata": {
    "collapsed": true
   },
   "outputs": [
    {
     "name": "stdout",
     "output_type": "stream",
     "text": [
      "2    1096\n",
      "1     900\n",
      "3      45\n",
      "0       8\n",
      "4       2\n",
      "Name: full_bath, dtype: int64\n",
      "\n",
      " full_bath\n",
      "0    170226.000000\n",
      "1    134870.961111\n",
      "2    214600.614051\n",
      "3    304609.155556\n",
      "4    269500.000000\n",
      "Name: saleprice, dtype: float64\n",
      "\n",
      " full_bath\n",
      "0    149168.5\n",
      "1    131700.0\n",
      "2    196000.0\n",
      "3    284700.0\n",
      "4    269500.0\n",
      "Name: saleprice, dtype: float64\n"
     ]
    }
   ],
   "source": [
    "print(df['full_bath'].value_counts())\n",
    "\n",
    "print('\\n' , df.groupby(['full_bath'])['saleprice'].mean())\n",
    "\n",
    "print('\\n' , df.groupby(['full_bath'])['saleprice'].median())"
   ]
  },
  {
   "cell_type": "markdown",
   "metadata": {},
   "source": [
    "### Kitchen"
   ]
  },
  {
   "cell_type": "code",
   "execution_count": 97,
   "metadata": {
    "collapsed": true
   },
   "outputs": [
    {
     "name": "stdout",
     "output_type": "stream",
     "text": [
      "1    1960\n",
      "2      88\n",
      "0       2\n",
      "3       1\n",
      "Name: kitchen_abvgr, dtype: int64\n",
      "\n",
      " kitchen_abvgr\n",
      "0    127500.000000\n",
      "1    183722.951020\n",
      "2    133367.886364\n",
      "3    106000.000000\n",
      "Name: saleprice, dtype: float64\n",
      "\n",
      " kitchen_abvgr\n",
      "0    127500\n",
      "1    165000\n",
      "2    128050\n",
      "3    106000\n",
      "Name: saleprice, dtype: int64\n"
     ]
    }
   ],
   "source": [
    "print(df['kitchen_abvgr'].value_counts())\n",
    "\n",
    "print('\\n' , df.groupby(['kitchen_abvgr'])['saleprice'].mean())\n",
    "\n",
    "print('\\n' , df.groupby(['kitchen_abvgr'])['saleprice'].median())"
   ]
  },
  {
   "cell_type": "code",
   "execution_count": 98,
   "metadata": {
    "collapsed": true
   },
   "outputs": [
    {
     "name": "stdout",
     "output_type": "stream",
     "text": [
      "TA    1047\n",
      "Gd     806\n",
      "Ex     151\n",
      "Fa      47\n",
      "Name: kitchen_qual, dtype: int64\n",
      "\n",
      " kitchen_qual\n",
      "Ex    336424.463576\n",
      "Fa    101334.957447\n",
      "Gd    211629.451613\n",
      "TA    139501.607450\n",
      "Name: saleprice, dtype: float64\n",
      "\n",
      " kitchen_qual\n",
      "Ex    325000.0\n",
      "Fa    100000.0\n",
      "Gd    200912.5\n",
      "TA    136500.0\n",
      "Name: saleprice, dtype: float64\n"
     ]
    }
   ],
   "source": [
    "print(df['kitchen_qual'].value_counts())\n",
    "\n",
    "print('\\n' , df.groupby(['kitchen_qual'])['saleprice'].mean())\n",
    "\n",
    "print('\\n' , df.groupby(['kitchen_qual'])['saleprice'].median())"
   ]
  },
  {
   "cell_type": "code",
   "execution_count": 99,
   "metadata": {
    "collapsed": true
   },
   "outputs": [],
   "source": [
    "df['kitchen_qual'] = df['kitchen_qual'].replace({'Ex': 5, 'Gd': 4, 'TA': 3, 'Fa': 2, 'Po': 1})"
   ]
  },
  {
   "cell_type": "markdown",
   "metadata": {},
   "source": [
    "### Rooms"
   ]
  },
  {
   "cell_type": "code",
   "execution_count": 104,
   "metadata": {
    "collapsed": true
   },
   "outputs": [
    {
     "data": {
      "text/plain": [
       "<matplotlib.axes._subplots.AxesSubplot at 0x1b55e503550>"
      ]
     },
     "execution_count": 104,
     "metadata": {},
     "output_type": "execute_result"
    },
    {
     "data": {
      "image/png": "[encoded data removed]",
      "text/plain": [
       "<matplotlib.figure.Figure at 0x1b55e4ee4e0>"
      ]
     },
     "metadata": {},
     "output_type": "display_data"
    }
   ],
   "source": [
    "sns.distplot(df['totrms_abvgrd'])\n",
    "sns.distplot(df['bedroom_abvgr'])\n",
    "# drop bedrooms in favor of totrms"
   ]
  },
  {
   "cell_type": "markdown",
   "metadata": {},
   "source": [
    "### Deck/Porch\n",
    "added to clean1"
   ]
  },
  {
   "cell_type": "code",
   "execution_count": 111,
   "metadata": {
    "collapsed": true
   },
   "outputs": [
    {
     "name": "stdout",
     "output_type": "stream",
     "text": [
      "0       1075\n",
      "100       53\n",
      "144       46\n",
      "192       43\n",
      "120       40\n",
      "168       36\n",
      "140       23\n",
      "224       17\n",
      "160       14\n",
      "143       13\n",
      "240       12\n",
      "216       12\n",
      "200       10\n",
      "264        8\n",
      "280        8\n",
      "208        8\n",
      "108        8\n",
      "156        8\n",
      "48         8\n",
      "132        7\n",
      "196        7\n",
      "112        7\n",
      "136        7\n",
      "128        7\n",
      "210        7\n",
      "188        7\n",
      "252        7\n",
      "182        6\n",
      "203        6\n",
      "158        6\n",
      "        ... \n",
      "153        1\n",
      "131        1\n",
      "129        1\n",
      "123        1\n",
      "121        1\n",
      "119        1\n",
      "115        1\n",
      "103        1\n",
      "99         1\n",
      "97         1\n",
      "87         1\n",
      "75         1\n",
      "73         1\n",
      "51         1\n",
      "536        1\n",
      "45         1\n",
      "35         1\n",
      "33         1\n",
      "1424       1\n",
      "870        1\n",
      "736        1\n",
      "728        1\n",
      "684        1\n",
      "668        1\n",
      "646        1\n",
      "586        1\n",
      "576        1\n",
      "550        1\n",
      "546        1\n",
      "394        1\n",
      "Name: wood_deck_sf, Length: 322, dtype: int64\n",
      "\n",
      " wood_deck_sf\n",
      "870    584500.000000\n",
      "503    538000.000000\n",
      "70     468000.000000\n",
      "314    466500.000000\n",
      "382    451950.000000\n",
      "390    441929.000000\n",
      "308    425000.000000\n",
      "358    417500.000000\n",
      "124    415298.000000\n",
      "684    415000.000000\n",
      "354    415000.000000\n",
      "90     410000.000000\n",
      "283    410000.000000\n",
      "517    402000.000000\n",
      "248    386250.000000\n",
      "857    385000.000000\n",
      "123    375000.000000\n",
      "195    370878.000000\n",
      "214    367860.333333\n",
      "324    361919.000000\n",
      "319    360000.000000\n",
      "246    356383.000000\n",
      "204    354207.000000\n",
      "236    350000.000000\n",
      "269    345000.000000\n",
      "226    344625.000000\n",
      "159    340000.000000\n",
      "177    334000.000000\n",
      "668    333168.000000\n",
      "97     328900.000000\n",
      "           ...      \n",
      "261    132000.000000\n",
      "33     130000.000000\n",
      "12     130000.000000\n",
      "58     129250.000000\n",
      "92     128650.000000\n",
      "365    128200.000000\n",
      "104    127833.333333\n",
      "32     126625.000000\n",
      "328    125966.666667\n",
      "467    123000.000000\n",
      "259    123000.000000\n",
      "229    120000.000000\n",
      "40     118000.000000\n",
      "352    117983.333333\n",
      "394    117000.000000\n",
      "207    116000.000000\n",
      "88     115180.000000\n",
      "16     111900.000000\n",
      "51     109500.000000\n",
      "42     108687.500000\n",
      "106    105900.000000\n",
      "329    105000.000000\n",
      "49     104250.000000\n",
      "134     99000.000000\n",
      "118     98500.000000\n",
      "53      84500.000000\n",
      "263     76500.000000\n",
      "26      66500.000000\n",
      "119     57625.000000\n",
      "14      50000.000000\n",
      "Name: saleprice, Length: 322, dtype: float64\n",
      "\n",
      " wood_deck_sf\n",
      "870    584500.0\n",
      "503    538000.0\n",
      "70     468000.0\n",
      "314    466500.0\n",
      "382    451950.0\n",
      "390    441929.0\n",
      "308    425000.0\n",
      "358    417500.0\n",
      "124    415298.0\n",
      "684    415000.0\n",
      "354    415000.0\n",
      "283    410000.0\n",
      "90     410000.0\n",
      "517    402000.0\n",
      "214    387000.0\n",
      "248    386250.0\n",
      "857    385000.0\n",
      "123    375000.0\n",
      "204    372397.0\n",
      "195    370878.0\n",
      "324    361919.0\n",
      "319    360000.0\n",
      "246    356383.0\n",
      "236    350000.0\n",
      "269    345000.0\n",
      "226    344625.0\n",
      "250    341000.0\n",
      "159    340000.0\n",
      "177    334000.0\n",
      "668    333168.0\n",
      "         ...   \n",
      "64     129600.0\n",
      "92     129500.0\n",
      "58     129250.0\n",
      "48     128450.0\n",
      "365    128200.0\n",
      "88     127000.0\n",
      "104    127000.0\n",
      "32     126625.0\n",
      "328    125000.0\n",
      "467    123000.0\n",
      "259    123000.0\n",
      "229    120000.0\n",
      "40     118000.0\n",
      "352    117000.0\n",
      "394    117000.0\n",
      "207    116000.0\n",
      "112    114500.0\n",
      "16     111900.0\n",
      "51     109500.0\n",
      "42     108687.5\n",
      "106    105900.0\n",
      "329    105000.0\n",
      "49     104250.0\n",
      "134     99000.0\n",
      "118     98500.0\n",
      "53      84500.0\n",
      "263     76500.0\n",
      "26      66500.0\n",
      "119     57625.0\n",
      "14      50000.0\n",
      "Name: saleprice, Length: 322, dtype: float64\n"
     ]
    }
   ],
   "source": [
    "print(df['wood_deck_sf'].value_counts())\n",
    "\n",
    "print('\\n' , df.groupby(['wood_deck_sf'])['saleprice'].mean().sort_values(ascending=False))\n",
    "\n",
    "print('\\n' , df.groupby(['wood_deck_sf'])['saleprice'].median().sort_values(ascending=False))"
   ]
  },
  {
   "cell_type": "code",
   "execution_count": 115,
   "metadata": {
    "collapsed": true
   },
   "outputs": [
    {
     "data": {
      "text/plain": [
       "<matplotlib.axes._subplots.AxesSubplot at 0x1b55e7445c0>"
      ]
     },
     "execution_count": 115,
     "metadata": {},
     "output_type": "execute_result"
    },
    {
     "data": {
      "image/png": "[encoded data removed]",
      "text/plain": [
       "<matplotlib.figure.Figure at 0x1b55e6f9240>"
      ]
     },
     "metadata": {},
     "output_type": "display_data"
    }
   ],
   "source": [
    "plt.figure(figsize=(20,20))\n",
    "sns.distplot(df['wood_deck_sf'])\n",
    "sns.distplot(df['open_porch_sf'])\n",
    "sns.distplot(df['enclosed_porch'])\n",
    "sns.distplot(df['3ssn_porch'])\n",
    "sns.distplot(df['screen_porch'])"
   ]
  },
  {
   "cell_type": "code",
   "execution_count": null,
   "metadata": {
    "collapsed": true
   },
   "outputs": [],
   "source": [
    "# features_replace = ['pool_area' , 'garage_cars', 'fireplaces', 'total_bsmt_sf', 'mas_vnr_area']\n",
    "# for i in features_replace:\n",
    "#     df[i] = df[i].map(does_does_not)"
   ]
  },
  {
   "cell_type": "code",
   "execution_count": 117,
   "metadata": {
    "collapsed": true
   },
   "outputs": [
    {
     "data": {
      "text/html": [
       "<div>\n",
       "<style>\n",
       "    .dataframe thead tr:only-child th {\n",
       "        text-align: right;\n",
       "    }\n",
       "\n",
       "    .dataframe thead th {\n",
       "        text-align: left;\n",
       "    }\n",
       "\n",
       "    .dataframe tbody tr th {\n",
       "        vertical-align: top;\n",
       "    }\n",
       "</style>\n",
       "<table border=\"1\" class=\"dataframe\">\n",
       "  <thead>\n",
       "    <tr style=\"text-align: right;\">\n",
       "      <th></th>\n",
       "      <th>wood_deck_sf</th>\n",
       "      <th>open_porch_sf</th>\n",
       "      <th>enclosed_porch</th>\n",
       "      <th>3ssn_porch</th>\n",
       "      <th>screen_porch</th>\n",
       "    </tr>\n",
       "  </thead>\n",
       "  <tbody>\n",
       "    <tr>\n",
       "      <th>0</th>\n",
       "      <td>0</td>\n",
       "      <td>44</td>\n",
       "      <td>0</td>\n",
       "      <td>0</td>\n",
       "      <td>0</td>\n",
       "    </tr>\n",
       "    <tr>\n",
       "      <th>1</th>\n",
       "      <td>0</td>\n",
       "      <td>74</td>\n",
       "      <td>0</td>\n",
       "      <td>0</td>\n",
       "      <td>0</td>\n",
       "    </tr>\n",
       "    <tr>\n",
       "      <th>2</th>\n",
       "      <td>0</td>\n",
       "      <td>52</td>\n",
       "      <td>0</td>\n",
       "      <td>0</td>\n",
       "      <td>0</td>\n",
       "    </tr>\n",
       "    <tr>\n",
       "      <th>3</th>\n",
       "      <td>100</td>\n",
       "      <td>0</td>\n",
       "      <td>0</td>\n",
       "      <td>0</td>\n",
       "      <td>0</td>\n",
       "    </tr>\n",
       "    <tr>\n",
       "      <th>4</th>\n",
       "      <td>0</td>\n",
       "      <td>59</td>\n",
       "      <td>0</td>\n",
       "      <td>0</td>\n",
       "      <td>0</td>\n",
       "    </tr>\n",
       "    <tr>\n",
       "      <th>5</th>\n",
       "      <td>0</td>\n",
       "      <td>0</td>\n",
       "      <td>0</td>\n",
       "      <td>0</td>\n",
       "      <td>0</td>\n",
       "    </tr>\n",
       "    <tr>\n",
       "      <th>6</th>\n",
       "      <td>0</td>\n",
       "      <td>44</td>\n",
       "      <td>0</td>\n",
       "      <td>0</td>\n",
       "      <td>0</td>\n",
       "    </tr>\n",
       "    <tr>\n",
       "      <th>7</th>\n",
       "      <td>0</td>\n",
       "      <td>0</td>\n",
       "      <td>0</td>\n",
       "      <td>0</td>\n",
       "      <td>0</td>\n",
       "    </tr>\n",
       "    <tr>\n",
       "      <th>8</th>\n",
       "      <td>0</td>\n",
       "      <td>324</td>\n",
       "      <td>0</td>\n",
       "      <td>0</td>\n",
       "      <td>0</td>\n",
       "    </tr>\n",
       "    <tr>\n",
       "      <th>9</th>\n",
       "      <td>335</td>\n",
       "      <td>0</td>\n",
       "      <td>0</td>\n",
       "      <td>0</td>\n",
       "      <td>0</td>\n",
       "    </tr>\n",
       "    <tr>\n",
       "      <th>10</th>\n",
       "      <td>0</td>\n",
       "      <td>0</td>\n",
       "      <td>0</td>\n",
       "      <td>0</td>\n",
       "      <td>0</td>\n",
       "    </tr>\n",
       "    <tr>\n",
       "      <th>11</th>\n",
       "      <td>105</td>\n",
       "      <td>58</td>\n",
       "      <td>0</td>\n",
       "      <td>0</td>\n",
       "      <td>0</td>\n",
       "    </tr>\n",
       "    <tr>\n",
       "      <th>12</th>\n",
       "      <td>0</td>\n",
       "      <td>0</td>\n",
       "      <td>0</td>\n",
       "      <td>0</td>\n",
       "      <td>0</td>\n",
       "    </tr>\n",
       "    <tr>\n",
       "      <th>13</th>\n",
       "      <td>169</td>\n",
       "      <td>0</td>\n",
       "      <td>0</td>\n",
       "      <td>0</td>\n",
       "      <td>0</td>\n",
       "    </tr>\n",
       "    <tr>\n",
       "      <th>14</th>\n",
       "      <td>0</td>\n",
       "      <td>50</td>\n",
       "      <td>0</td>\n",
       "      <td>0</td>\n",
       "      <td>0</td>\n",
       "    </tr>\n",
       "    <tr>\n",
       "      <th>15</th>\n",
       "      <td>0</td>\n",
       "      <td>0</td>\n",
       "      <td>0</td>\n",
       "      <td>0</td>\n",
       "      <td>0</td>\n",
       "    </tr>\n",
       "    <tr>\n",
       "      <th>16</th>\n",
       "      <td>0</td>\n",
       "      <td>0</td>\n",
       "      <td>96</td>\n",
       "      <td>0</td>\n",
       "      <td>0</td>\n",
       "    </tr>\n",
       "    <tr>\n",
       "      <th>17</th>\n",
       "      <td>0</td>\n",
       "      <td>80</td>\n",
       "      <td>0</td>\n",
       "      <td>0</td>\n",
       "      <td>0</td>\n",
       "    </tr>\n",
       "    <tr>\n",
       "      <th>18</th>\n",
       "      <td>138</td>\n",
       "      <td>0</td>\n",
       "      <td>0</td>\n",
       "      <td>0</td>\n",
       "      <td>0</td>\n",
       "    </tr>\n",
       "    <tr>\n",
       "      <th>19</th>\n",
       "      <td>169</td>\n",
       "      <td>45</td>\n",
       "      <td>0</td>\n",
       "      <td>0</td>\n",
       "      <td>0</td>\n",
       "    </tr>\n",
       "    <tr>\n",
       "      <th>20</th>\n",
       "      <td>0</td>\n",
       "      <td>0</td>\n",
       "      <td>0</td>\n",
       "      <td>0</td>\n",
       "      <td>0</td>\n",
       "    </tr>\n",
       "    <tr>\n",
       "      <th>21</th>\n",
       "      <td>212</td>\n",
       "      <td>59</td>\n",
       "      <td>0</td>\n",
       "      <td>0</td>\n",
       "      <td>0</td>\n",
       "    </tr>\n",
       "    <tr>\n",
       "      <th>22</th>\n",
       "      <td>243</td>\n",
       "      <td>142</td>\n",
       "      <td>0</td>\n",
       "      <td>0</td>\n",
       "      <td>0</td>\n",
       "    </tr>\n",
       "    <tr>\n",
       "      <th>23</th>\n",
       "      <td>483</td>\n",
       "      <td>21</td>\n",
       "      <td>0</td>\n",
       "      <td>0</td>\n",
       "      <td>0</td>\n",
       "    </tr>\n",
       "    <tr>\n",
       "      <th>24</th>\n",
       "      <td>264</td>\n",
       "      <td>0</td>\n",
       "      <td>0</td>\n",
       "      <td>0</td>\n",
       "      <td>0</td>\n",
       "    </tr>\n",
       "    <tr>\n",
       "      <th>25</th>\n",
       "      <td>0</td>\n",
       "      <td>49</td>\n",
       "      <td>0</td>\n",
       "      <td>0</td>\n",
       "      <td>288</td>\n",
       "    </tr>\n",
       "    <tr>\n",
       "      <th>26</th>\n",
       "      <td>416</td>\n",
       "      <td>144</td>\n",
       "      <td>0</td>\n",
       "      <td>0</td>\n",
       "      <td>0</td>\n",
       "    </tr>\n",
       "    <tr>\n",
       "      <th>27</th>\n",
       "      <td>0</td>\n",
       "      <td>40</td>\n",
       "      <td>0</td>\n",
       "      <td>0</td>\n",
       "      <td>0</td>\n",
       "    </tr>\n",
       "    <tr>\n",
       "      <th>28</th>\n",
       "      <td>0</td>\n",
       "      <td>0</td>\n",
       "      <td>133</td>\n",
       "      <td>0</td>\n",
       "      <td>0</td>\n",
       "    </tr>\n",
       "    <tr>\n",
       "      <th>29</th>\n",
       "      <td>0</td>\n",
       "      <td>0</td>\n",
       "      <td>0</td>\n",
       "      <td>0</td>\n",
       "      <td>0</td>\n",
       "    </tr>\n",
       "    <tr>\n",
       "      <th>...</th>\n",
       "      <td>...</td>\n",
       "      <td>...</td>\n",
       "      <td>...</td>\n",
       "      <td>...</td>\n",
       "      <td>...</td>\n",
       "    </tr>\n",
       "    <tr>\n",
       "      <th>2021</th>\n",
       "      <td>144</td>\n",
       "      <td>36</td>\n",
       "      <td>0</td>\n",
       "      <td>0</td>\n",
       "      <td>0</td>\n",
       "    </tr>\n",
       "    <tr>\n",
       "      <th>2022</th>\n",
       "      <td>0</td>\n",
       "      <td>73</td>\n",
       "      <td>216</td>\n",
       "      <td>0</td>\n",
       "      <td>0</td>\n",
       "    </tr>\n",
       "    <tr>\n",
       "      <th>2023</th>\n",
       "      <td>0</td>\n",
       "      <td>33</td>\n",
       "      <td>0</td>\n",
       "      <td>0</td>\n",
       "      <td>0</td>\n",
       "    </tr>\n",
       "    <tr>\n",
       "      <th>2024</th>\n",
       "      <td>0</td>\n",
       "      <td>88</td>\n",
       "      <td>216</td>\n",
       "      <td>0</td>\n",
       "      <td>0</td>\n",
       "    </tr>\n",
       "    <tr>\n",
       "      <th>2025</th>\n",
       "      <td>176</td>\n",
       "      <td>64</td>\n",
       "      <td>0</td>\n",
       "      <td>0</td>\n",
       "      <td>0</td>\n",
       "    </tr>\n",
       "    <tr>\n",
       "      <th>2026</th>\n",
       "      <td>291</td>\n",
       "      <td>0</td>\n",
       "      <td>60</td>\n",
       "      <td>0</td>\n",
       "      <td>153</td>\n",
       "    </tr>\n",
       "    <tr>\n",
       "      <th>2027</th>\n",
       "      <td>0</td>\n",
       "      <td>0</td>\n",
       "      <td>0</td>\n",
       "      <td>0</td>\n",
       "      <td>0</td>\n",
       "    </tr>\n",
       "    <tr>\n",
       "      <th>2028</th>\n",
       "      <td>0</td>\n",
       "      <td>80</td>\n",
       "      <td>0</td>\n",
       "      <td>290</td>\n",
       "      <td>0</td>\n",
       "    </tr>\n",
       "    <tr>\n",
       "      <th>2029</th>\n",
       "      <td>308</td>\n",
       "      <td>52</td>\n",
       "      <td>0</td>\n",
       "      <td>0</td>\n",
       "      <td>0</td>\n",
       "    </tr>\n",
       "    <tr>\n",
       "      <th>2030</th>\n",
       "      <td>68</td>\n",
       "      <td>0</td>\n",
       "      <td>98</td>\n",
       "      <td>0</td>\n",
       "      <td>0</td>\n",
       "    </tr>\n",
       "    <tr>\n",
       "      <th>2031</th>\n",
       "      <td>0</td>\n",
       "      <td>0</td>\n",
       "      <td>0</td>\n",
       "      <td>0</td>\n",
       "      <td>0</td>\n",
       "    </tr>\n",
       "    <tr>\n",
       "      <th>2032</th>\n",
       "      <td>375</td>\n",
       "      <td>26</td>\n",
       "      <td>0</td>\n",
       "      <td>0</td>\n",
       "      <td>0</td>\n",
       "    </tr>\n",
       "    <tr>\n",
       "      <th>2033</th>\n",
       "      <td>112</td>\n",
       "      <td>81</td>\n",
       "      <td>0</td>\n",
       "      <td>0</td>\n",
       "      <td>0</td>\n",
       "    </tr>\n",
       "    <tr>\n",
       "      <th>2034</th>\n",
       "      <td>168</td>\n",
       "      <td>27</td>\n",
       "      <td>0</td>\n",
       "      <td>0</td>\n",
       "      <td>0</td>\n",
       "    </tr>\n",
       "    <tr>\n",
       "      <th>2035</th>\n",
       "      <td>0</td>\n",
       "      <td>0</td>\n",
       "      <td>67</td>\n",
       "      <td>0</td>\n",
       "      <td>0</td>\n",
       "    </tr>\n",
       "    <tr>\n",
       "      <th>2036</th>\n",
       "      <td>168</td>\n",
       "      <td>45</td>\n",
       "      <td>0</td>\n",
       "      <td>0</td>\n",
       "      <td>0</td>\n",
       "    </tr>\n",
       "    <tr>\n",
       "      <th>2037</th>\n",
       "      <td>241</td>\n",
       "      <td>0</td>\n",
       "      <td>0</td>\n",
       "      <td>0</td>\n",
       "      <td>0</td>\n",
       "    </tr>\n",
       "    <tr>\n",
       "      <th>2038</th>\n",
       "      <td>192</td>\n",
       "      <td>0</td>\n",
       "      <td>0</td>\n",
       "      <td>0</td>\n",
       "      <td>0</td>\n",
       "    </tr>\n",
       "    <tr>\n",
       "      <th>2039</th>\n",
       "      <td>0</td>\n",
       "      <td>64</td>\n",
       "      <td>0</td>\n",
       "      <td>0</td>\n",
       "      <td>0</td>\n",
       "    </tr>\n",
       "    <tr>\n",
       "      <th>2040</th>\n",
       "      <td>0</td>\n",
       "      <td>21</td>\n",
       "      <td>114</td>\n",
       "      <td>0</td>\n",
       "      <td>0</td>\n",
       "    </tr>\n",
       "    <tr>\n",
       "      <th>2041</th>\n",
       "      <td>400</td>\n",
       "      <td>0</td>\n",
       "      <td>0</td>\n",
       "      <td>0</td>\n",
       "      <td>0</td>\n",
       "    </tr>\n",
       "    <tr>\n",
       "      <th>2042</th>\n",
       "      <td>0</td>\n",
       "      <td>0</td>\n",
       "      <td>112</td>\n",
       "      <td>0</td>\n",
       "      <td>0</td>\n",
       "    </tr>\n",
       "    <tr>\n",
       "      <th>2043</th>\n",
       "      <td>0</td>\n",
       "      <td>0</td>\n",
       "      <td>0</td>\n",
       "      <td>0</td>\n",
       "      <td>0</td>\n",
       "    </tr>\n",
       "    <tr>\n",
       "      <th>2044</th>\n",
       "      <td>0</td>\n",
       "      <td>70</td>\n",
       "      <td>0</td>\n",
       "      <td>0</td>\n",
       "      <td>0</td>\n",
       "    </tr>\n",
       "    <tr>\n",
       "      <th>2045</th>\n",
       "      <td>0</td>\n",
       "      <td>66</td>\n",
       "      <td>0</td>\n",
       "      <td>304</td>\n",
       "      <td>0</td>\n",
       "    </tr>\n",
       "    <tr>\n",
       "      <th>2046</th>\n",
       "      <td>0</td>\n",
       "      <td>276</td>\n",
       "      <td>0</td>\n",
       "      <td>0</td>\n",
       "      <td>0</td>\n",
       "    </tr>\n",
       "    <tr>\n",
       "      <th>2047</th>\n",
       "      <td>158</td>\n",
       "      <td>0</td>\n",
       "      <td>0</td>\n",
       "      <td>0</td>\n",
       "      <td>0</td>\n",
       "    </tr>\n",
       "    <tr>\n",
       "      <th>2048</th>\n",
       "      <td>0</td>\n",
       "      <td>0</td>\n",
       "      <td>0</td>\n",
       "      <td>0</td>\n",
       "      <td>0</td>\n",
       "    </tr>\n",
       "    <tr>\n",
       "      <th>2049</th>\n",
       "      <td>0</td>\n",
       "      <td>189</td>\n",
       "      <td>140</td>\n",
       "      <td>0</td>\n",
       "      <td>0</td>\n",
       "    </tr>\n",
       "    <tr>\n",
       "      <th>2050</th>\n",
       "      <td>140</td>\n",
       "      <td>60</td>\n",
       "      <td>0</td>\n",
       "      <td>0</td>\n",
       "      <td>0</td>\n",
       "    </tr>\n",
       "  </tbody>\n",
       "</table>\n",
       "<p>2051 rows × 5 columns</p>\n",
       "</div>"
      ],
      "text/plain": [
       "      wood_deck_sf  open_porch_sf  enclosed_porch  3ssn_porch  screen_porch\n",
       "0                0             44               0           0             0\n",
       "1                0             74               0           0             0\n",
       "2                0             52               0           0             0\n",
       "3              100              0               0           0             0\n",
       "4                0             59               0           0             0\n",
       "5                0              0               0           0             0\n",
       "6                0             44               0           0             0\n",
       "7                0              0               0           0             0\n",
       "8                0            324               0           0             0\n",
       "9              335              0               0           0             0\n",
       "10               0              0               0           0             0\n",
       "11             105             58               0           0             0\n",
       "12               0              0               0           0             0\n",
       "13             169              0               0           0             0\n",
       "14               0             50               0           0             0\n",
       "15               0              0               0           0             0\n",
       "16               0              0              96           0             0\n",
       "17               0             80               0           0             0\n",
       "18             138              0               0           0             0\n",
       "19             169             45               0           0             0\n",
       "20               0              0               0           0             0\n",
       "21             212             59               0           0             0\n",
       "22             243            142               0           0             0\n",
       "23             483             21               0           0             0\n",
       "24             264              0               0           0             0\n",
       "25               0             49               0           0           288\n",
       "26             416            144               0           0             0\n",
       "27               0             40               0           0             0\n",
       "28               0              0             133           0             0\n",
       "29               0              0               0           0             0\n",
       "...            ...            ...             ...         ...           ...\n",
       "2021           144             36               0           0             0\n",
       "2022             0             73             216           0             0\n",
       "2023             0             33               0           0             0\n",
       "2024             0             88             216           0             0\n",
       "2025           176             64               0           0             0\n",
       "2026           291              0              60           0           153\n",
       "2027             0              0               0           0             0\n",
       "2028             0             80               0         290             0\n",
       "2029           308             52               0           0             0\n",
       "2030            68              0              98           0             0\n",
       "2031             0              0               0           0             0\n",
       "2032           375             26               0           0             0\n",
       "2033           112             81               0           0             0\n",
       "2034           168             27               0           0             0\n",
       "2035             0              0              67           0             0\n",
       "2036           168             45               0           0             0\n",
       "2037           241              0               0           0             0\n",
       "2038           192              0               0           0             0\n",
       "2039             0             64               0           0             0\n",
       "2040             0             21             114           0             0\n",
       "2041           400              0               0           0             0\n",
       "2042             0              0             112           0             0\n",
       "2043             0              0               0           0             0\n",
       "2044             0             70               0           0             0\n",
       "2045             0             66               0         304             0\n",
       "2046             0            276               0           0             0\n",
       "2047           158              0               0           0             0\n",
       "2048             0              0               0           0             0\n",
       "2049             0            189             140           0             0\n",
       "2050           140             60               0           0             0\n",
       "\n",
       "[2051 rows x 5 columns]"
      ]
     },
     "execution_count": 117,
     "metadata": {},
     "output_type": "execute_result"
    }
   ],
   "source": [
    "df[['wood_deck_sf', 'open_porch_sf', 'enclosed_porch', '3ssn_porch', 'screen_porch']]"
   ]
  },
  {
   "cell_type": "code",
   "execution_count": 123,
   "metadata": {
    "collapsed": true
   },
   "outputs": [],
   "source": [
    "df['deck_porch'] = df['wood_deck_sf'] + df['open_porch_sf'] + df['enclosed_porch'] + df['3ssn_porch'] + df['screen_porch']"
   ]
  },
  {
   "cell_type": "code",
   "execution_count": 125,
   "metadata": {
    "collapsed": true
   },
   "outputs": [],
   "source": [
    "for i in ['deck_porch']:\n",
    "        df[i] = df[i].map(does_does_not)"
   ]
  },
  {
   "cell_type": "code",
   "execution_count": 128,
   "metadata": {
    "collapsed": true
   },
   "outputs": [],
   "source": [
    "df.drop(['wood_deck_sf', 'open_porch_sf', 'enclosed_porch', '3ssn_porch', 'screen_porch'], axis=1, inplace=True)"
   ]
  },
  {
   "cell_type": "markdown",
   "metadata": {},
   "source": [
    "### Year/Month Sold"
   ]
  },
  {
   "cell_type": "code",
   "execution_count": 129,
   "metadata": {
    "collapsed": true
   },
   "outputs": [],
   "source": [
    "df['mo_sold'] = pd.to_datetime(df['mo_sold'], format='%m')\n",
    "df['yr_sold'] = pd.to_datetime(df['yr_sold'], format='%Y')"
   ]
  },
  {
   "cell_type": "code",
   "execution_count": null,
   "metadata": {
    "collapsed": true
   },
   "outputs": [],
   "source": []
  },
  {
   "cell_type": "code",
   "execution_count": 136,
   "metadata": {},
   "outputs": [
    {
     "name": "stdout",
     "output_type": "stream",
     "text": [
      "WD       1781\n",
      "New       160\n",
      "COD        63\n",
      "ConLD      17\n",
      "CWD        10\n",
      "ConLI       7\n",
      "ConLw       5\n",
      "Con         4\n",
      "Oth         4\n",
      "Name: sale_type, dtype: int64\n",
      "\n",
      " sale_type\n",
      "New      279021.056250\n",
      "Con      241807.500000\n",
      "ConLI    207992.857143\n",
      "CWD      186635.000000\n",
      "WD       174912.251544\n",
      "COD      133574.523810\n",
      "ConLD    129091.352941\n",
      "Oth      127497.750000\n",
      "ConLw    124600.000000\n",
      "Name: saleprice, dtype: float64\n",
      "\n",
      " sale_type\n",
      "Con      261615\n",
      "New      257558\n",
      "CWD      160750\n",
      "WD       158500\n",
      "Oth      137050\n",
      "ConLD    130000\n",
      "COD      127500\n",
      "ConLI    125000\n",
      "ConLw     95000\n",
      "Name: saleprice, dtype: int64\n"
     ]
    }
   ],
   "source": [
    "print(df['sale_type'].value_counts())\n",
    "\n",
    "print('\\n' , df.groupby(['sale_type'])['saleprice'].mean().sort_values(ascending=False))\n",
    "\n",
    "print('\\n' , df.groupby(['sale_type'])['saleprice'].median().sort_values(ascending=False))"
   ]
  },
  {
   "cell_type": "code",
   "execution_count": null,
   "metadata": {
    "collapsed": true
   },
   "outputs": [],
   "source": []
  }
 ],
 "metadata": {
  "kernelspec": {
   "display_name": "Python 3",
   "language": "python",
   "name": "python3"
  },
  "language_info": {
   "codemirror_mode": {
    "name": "ipython",
    "version": 3
   },
   "file_extension": ".py",
   "mimetype": "text/x-python",
   "name": "python",
   "nbconvert_exporter": "python",
   "pygments_lexer": "ipython3",
   "version": "3.6.3"
  }
 },
 "nbformat": 4,
 "nbformat_minor": 2
}
